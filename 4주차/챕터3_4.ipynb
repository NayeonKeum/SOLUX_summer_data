{
  "nbformat": 4,
  "nbformat_minor": 0,
  "metadata": {
    "colab": {
      "name": "챕터3-4.ipynb",
      "provenance": [],
      "collapsed_sections": [],
      "mount_file_id": "1rI_gOE5oFFUf-TOioBFfcuzeHWLBIcg9",
      "authorship_tag": "ABX9TyPKFUEqq57Pew7CwoSsLosr",
      "include_colab_link": true
    },
    "kernelspec": {
      "name": "python3",
      "display_name": "Python 3"
    }
  },
  "cells": [
    {
      "cell_type": "markdown",
      "metadata": {
        "id": "view-in-github",
        "colab_type": "text"
      },
      "source": [
        "<a href=\"https://colab.research.google.com/github/NayeonKeum/SOLUX_summer_data/blob/master/4%EC%A3%BC%EC%B0%A8/%EC%B1%95%ED%84%B03_4.ipynb\" target=\"_parent\"><img src=\"https://colab.research.google.com/assets/colab-badge.svg\" alt=\"Open In Colab\"/></a>"
      ]
    },
    {
      "cell_type": "code",
      "metadata": {
        "id": "VUiiLW8ibx4o",
        "colab_type": "code",
        "colab": {}
      },
      "source": [
        "import pandas as pd\n",
        "import numpy as np\n",
        "\n",
        "import matplotlib as mpl\n",
        "import matplotlib.pyplot as plt\n",
        "import seaborn as sns\n",
        "\n",
        "%matplotlib inline\n",
        "\n",
        "plt.style.use('ggplot')\n",
        "\n",
        "mpl.rcParams['axes.unicode_minus'] = False\n",
        "\n",
        "plt.rc('font',family='NanumMyeongjo')\n",
        "\n",
        "import warnings\n",
        "warnings.filterwarnings('ignore')"
      ],
      "execution_count": 87,
      "outputs": []
    },
    {
      "cell_type": "code",
      "metadata": {
        "id": "BfwTGCqyb3b-",
        "colab_type": "code",
        "colab": {
          "base_uri": "https://localhost:8080/",
          "height": 37
        },
        "outputId": "a9518acb-1ab6-4b97-b51f-02b7478dde28"
      },
      "source": [
        "train = pd.read_csv(\"/content/drive/My Drive/Colab Notebooks/data/train.csv\", parse_dates=[\"datetime\"])\n",
        "train.shape"
      ],
      "execution_count": 88,
      "outputs": [
        {
          "output_type": "execute_result",
          "data": {
            "text/plain": [
              "(10886, 12)"
            ]
          },
          "metadata": {
            "tags": []
          },
          "execution_count": 88
        }
      ]
    },
    {
      "cell_type": "code",
      "metadata": {
        "id": "NWrvKlo6b4qJ",
        "colab_type": "code",
        "colab": {
          "base_uri": "https://localhost:8080/",
          "height": 37
        },
        "outputId": "27139495-7cbd-4cbb-e622-f27ab8bca3d5"
      },
      "source": [
        "test = pd.read_csv(\"/content/drive/My Drive/Colab Notebooks/data/test.csv\", parse_dates=[\"datetime\"])\n",
        "test.shape"
      ],
      "execution_count": 89,
      "outputs": [
        {
          "output_type": "execute_result",
          "data": {
            "text/plain": [
              "(6493, 9)"
            ]
          },
          "metadata": {
            "tags": []
          },
          "execution_count": 89
        }
      ]
    },
    {
      "cell_type": "code",
      "metadata": {
        "id": "vOwDJclucEsk",
        "colab_type": "code",
        "colab": {
          "base_uri": "https://localhost:8080/",
          "height": 37
        },
        "outputId": "ee1044eb-cc5a-4b4d-cd12-8fc7528eeee8"
      },
      "source": [
        "train[\"year\"] = train[\"datetime\"].dt.year\n",
        "train[\"month\"] = train[\"datetime\"].dt.month\n",
        "train[\"hour\"] = train[\"datetime\"].dt.hour\n",
        "train[\"dayofweek\"] = train[\"datetime\"].dt.dayofweek\n",
        "train.shape"
      ],
      "execution_count": 90,
      "outputs": [
        {
          "output_type": "execute_result",
          "data": {
            "text/plain": [
              "(10886, 16)"
            ]
          },
          "metadata": {
            "tags": []
          },
          "execution_count": 90
        }
      ]
    },
    {
      "cell_type": "code",
      "metadata": {
        "id": "ZuxHmkpncMRo",
        "colab_type": "code",
        "colab": {
          "base_uri": "https://localhost:8080/",
          "height": 37
        },
        "outputId": "8c9db84a-f503-47d0-8b1a-30d96a8db39d"
      },
      "source": [
        "test[\"year\"] = test[\"datetime\"].dt.year\n",
        "test[\"month\"] = test[\"datetime\"].dt.month\n",
        "test[\"hour\"] = test[\"datetime\"].dt.hour\n",
        "test[\"dayofweek\"] = test[\"datetime\"].dt.dayofweek\n",
        "test.shape"
      ],
      "execution_count": 91,
      "outputs": [
        {
          "output_type": "execute_result",
          "data": {
            "text/plain": [
              "(6493, 13)"
            ]
          },
          "metadata": {
            "tags": []
          },
          "execution_count": 91
        }
      ]
    },
    {
      "cell_type": "code",
      "metadata": {
        "id": "rJxPD5YUcM1Y",
        "colab_type": "code",
        "colab": {}
      },
      "source": [
        "# 연속형 feature와 범주형 feature\n",
        "# 범주형 feature의 type을 category로 변경 해 준다.\n",
        "categorical_feature_names = [\"season\",\"holiday\",\"workingday\",\"weather\",\n",
        "                             \"dayofweek\",\"month\",\"year\",\"hour\"]"
      ],
      "execution_count": 92,
      "outputs": []
    },
    {
      "cell_type": "code",
      "metadata": {
        "id": "fFXDmQE6cOLA",
        "colab_type": "code",
        "colab": {}
      },
      "source": [
        "for var in categorical_feature_names:\n",
        "    train[var] = train[var].astype(\"category\")\n",
        "    test[var] = test[var].astype(\"category\")"
      ],
      "execution_count": 93,
      "outputs": []
    },
    {
      "cell_type": "code",
      "metadata": {
        "id": "3XaoHhNtcPdT",
        "colab_type": "code",
        "colab": {
          "base_uri": "https://localhost:8080/",
          "height": 211
        },
        "outputId": "3b6982d5-5a92-4921-e476-9ede8fccfd51"
      },
      "source": [
        "feature_names = [\"season\", \"weather\", \"temp\", \"atemp\", \"humidity\",\n",
        "                 \"year\", \"hour\", \"dayofweek\", \"holiday\", \"workingday\"\n",
        "                ]\n",
        "\n",
        "feature_names"
      ],
      "execution_count": 94,
      "outputs": [
        {
          "output_type": "execute_result",
          "data": {
            "text/plain": [
              "['season',\n",
              " 'weather',\n",
              " 'temp',\n",
              " 'atemp',\n",
              " 'humidity',\n",
              " 'year',\n",
              " 'hour',\n",
              " 'dayofweek',\n",
              " 'holiday',\n",
              " 'workingday']"
            ]
          },
          "metadata": {
            "tags": []
          },
          "execution_count": 94
        }
      ]
    },
    {
      "cell_type": "code",
      "metadata": {
        "id": "YzCfGtqhcRn8",
        "colab_type": "code",
        "colab": {
          "base_uri": "https://localhost:8080/",
          "height": 221
        },
        "outputId": "fef114fd-1feb-40df-98d9-3be099632afb"
      },
      "source": [
        "X_train = train[feature_names]\n",
        "\n",
        "print(X_train.shape)\n",
        "X_train.head()"
      ],
      "execution_count": 95,
      "outputs": [
        {
          "output_type": "stream",
          "text": [
            "(10886, 10)\n"
          ],
          "name": "stdout"
        },
        {
          "output_type": "execute_result",
          "data": {
            "text/html": [
              "<div>\n",
              "<style scoped>\n",
              "    .dataframe tbody tr th:only-of-type {\n",
              "        vertical-align: middle;\n",
              "    }\n",
              "\n",
              "    .dataframe tbody tr th {\n",
              "        vertical-align: top;\n",
              "    }\n",
              "\n",
              "    .dataframe thead th {\n",
              "        text-align: right;\n",
              "    }\n",
              "</style>\n",
              "<table border=\"1\" class=\"dataframe\">\n",
              "  <thead>\n",
              "    <tr style=\"text-align: right;\">\n",
              "      <th></th>\n",
              "      <th>season</th>\n",
              "      <th>weather</th>\n",
              "      <th>temp</th>\n",
              "      <th>atemp</th>\n",
              "      <th>humidity</th>\n",
              "      <th>year</th>\n",
              "      <th>hour</th>\n",
              "      <th>dayofweek</th>\n",
              "      <th>holiday</th>\n",
              "      <th>workingday</th>\n",
              "    </tr>\n",
              "  </thead>\n",
              "  <tbody>\n",
              "    <tr>\n",
              "      <th>0</th>\n",
              "      <td>1</td>\n",
              "      <td>1</td>\n",
              "      <td>9.84</td>\n",
              "      <td>14.395</td>\n",
              "      <td>81</td>\n",
              "      <td>2011</td>\n",
              "      <td>0</td>\n",
              "      <td>5</td>\n",
              "      <td>0</td>\n",
              "      <td>0</td>\n",
              "    </tr>\n",
              "    <tr>\n",
              "      <th>1</th>\n",
              "      <td>1</td>\n",
              "      <td>1</td>\n",
              "      <td>9.02</td>\n",
              "      <td>13.635</td>\n",
              "      <td>80</td>\n",
              "      <td>2011</td>\n",
              "      <td>1</td>\n",
              "      <td>5</td>\n",
              "      <td>0</td>\n",
              "      <td>0</td>\n",
              "    </tr>\n",
              "    <tr>\n",
              "      <th>2</th>\n",
              "      <td>1</td>\n",
              "      <td>1</td>\n",
              "      <td>9.02</td>\n",
              "      <td>13.635</td>\n",
              "      <td>80</td>\n",
              "      <td>2011</td>\n",
              "      <td>2</td>\n",
              "      <td>5</td>\n",
              "      <td>0</td>\n",
              "      <td>0</td>\n",
              "    </tr>\n",
              "    <tr>\n",
              "      <th>3</th>\n",
              "      <td>1</td>\n",
              "      <td>1</td>\n",
              "      <td>9.84</td>\n",
              "      <td>14.395</td>\n",
              "      <td>75</td>\n",
              "      <td>2011</td>\n",
              "      <td>3</td>\n",
              "      <td>5</td>\n",
              "      <td>0</td>\n",
              "      <td>0</td>\n",
              "    </tr>\n",
              "    <tr>\n",
              "      <th>4</th>\n",
              "      <td>1</td>\n",
              "      <td>1</td>\n",
              "      <td>9.84</td>\n",
              "      <td>14.395</td>\n",
              "      <td>75</td>\n",
              "      <td>2011</td>\n",
              "      <td>4</td>\n",
              "      <td>5</td>\n",
              "      <td>0</td>\n",
              "      <td>0</td>\n",
              "    </tr>\n",
              "  </tbody>\n",
              "</table>\n",
              "</div>"
            ],
            "text/plain": [
              "  season weather  temp   atemp  ...  hour dayofweek holiday workingday\n",
              "0      1       1  9.84  14.395  ...     0         5       0          0\n",
              "1      1       1  9.02  13.635  ...     1         5       0          0\n",
              "2      1       1  9.02  13.635  ...     2         5       0          0\n",
              "3      1       1  9.84  14.395  ...     3         5       0          0\n",
              "4      1       1  9.84  14.395  ...     4         5       0          0\n",
              "\n",
              "[5 rows x 10 columns]"
            ]
          },
          "metadata": {
            "tags": []
          },
          "execution_count": 95
        }
      ]
    },
    {
      "cell_type": "code",
      "metadata": {
        "id": "5gOjeHyScTL2",
        "colab_type": "code",
        "colab": {
          "base_uri": "https://localhost:8080/",
          "height": 221
        },
        "outputId": "cf0a6542-a20b-4a98-9539-6ed7ae867822"
      },
      "source": [
        "X_test = test[feature_names]\n",
        "\n",
        "print(X_test.shape)\n",
        "X_test.head()"
      ],
      "execution_count": 96,
      "outputs": [
        {
          "output_type": "stream",
          "text": [
            "(6493, 10)\n"
          ],
          "name": "stdout"
        },
        {
          "output_type": "execute_result",
          "data": {
            "text/html": [
              "<div>\n",
              "<style scoped>\n",
              "    .dataframe tbody tr th:only-of-type {\n",
              "        vertical-align: middle;\n",
              "    }\n",
              "\n",
              "    .dataframe tbody tr th {\n",
              "        vertical-align: top;\n",
              "    }\n",
              "\n",
              "    .dataframe thead th {\n",
              "        text-align: right;\n",
              "    }\n",
              "</style>\n",
              "<table border=\"1\" class=\"dataframe\">\n",
              "  <thead>\n",
              "    <tr style=\"text-align: right;\">\n",
              "      <th></th>\n",
              "      <th>season</th>\n",
              "      <th>weather</th>\n",
              "      <th>temp</th>\n",
              "      <th>atemp</th>\n",
              "      <th>humidity</th>\n",
              "      <th>year</th>\n",
              "      <th>hour</th>\n",
              "      <th>dayofweek</th>\n",
              "      <th>holiday</th>\n",
              "      <th>workingday</th>\n",
              "    </tr>\n",
              "  </thead>\n",
              "  <tbody>\n",
              "    <tr>\n",
              "      <th>0</th>\n",
              "      <td>1</td>\n",
              "      <td>1</td>\n",
              "      <td>10.66</td>\n",
              "      <td>11.365</td>\n",
              "      <td>56</td>\n",
              "      <td>2011</td>\n",
              "      <td>0</td>\n",
              "      <td>3</td>\n",
              "      <td>0</td>\n",
              "      <td>1</td>\n",
              "    </tr>\n",
              "    <tr>\n",
              "      <th>1</th>\n",
              "      <td>1</td>\n",
              "      <td>1</td>\n",
              "      <td>10.66</td>\n",
              "      <td>13.635</td>\n",
              "      <td>56</td>\n",
              "      <td>2011</td>\n",
              "      <td>1</td>\n",
              "      <td>3</td>\n",
              "      <td>0</td>\n",
              "      <td>1</td>\n",
              "    </tr>\n",
              "    <tr>\n",
              "      <th>2</th>\n",
              "      <td>1</td>\n",
              "      <td>1</td>\n",
              "      <td>10.66</td>\n",
              "      <td>13.635</td>\n",
              "      <td>56</td>\n",
              "      <td>2011</td>\n",
              "      <td>2</td>\n",
              "      <td>3</td>\n",
              "      <td>0</td>\n",
              "      <td>1</td>\n",
              "    </tr>\n",
              "    <tr>\n",
              "      <th>3</th>\n",
              "      <td>1</td>\n",
              "      <td>1</td>\n",
              "      <td>10.66</td>\n",
              "      <td>12.880</td>\n",
              "      <td>56</td>\n",
              "      <td>2011</td>\n",
              "      <td>3</td>\n",
              "      <td>3</td>\n",
              "      <td>0</td>\n",
              "      <td>1</td>\n",
              "    </tr>\n",
              "    <tr>\n",
              "      <th>4</th>\n",
              "      <td>1</td>\n",
              "      <td>1</td>\n",
              "      <td>10.66</td>\n",
              "      <td>12.880</td>\n",
              "      <td>56</td>\n",
              "      <td>2011</td>\n",
              "      <td>4</td>\n",
              "      <td>3</td>\n",
              "      <td>0</td>\n",
              "      <td>1</td>\n",
              "    </tr>\n",
              "  </tbody>\n",
              "</table>\n",
              "</div>"
            ],
            "text/plain": [
              "  season weather   temp   atemp  ...  hour dayofweek holiday workingday\n",
              "0      1       1  10.66  11.365  ...     0         3       0          1\n",
              "1      1       1  10.66  13.635  ...     1         3       0          1\n",
              "2      1       1  10.66  13.635  ...     2         3       0          1\n",
              "3      1       1  10.66  12.880  ...     3         3       0          1\n",
              "4      1       1  10.66  12.880  ...     4         3       0          1\n",
              "\n",
              "[5 rows x 10 columns]"
            ]
          },
          "metadata": {
            "tags": []
          },
          "execution_count": 96
        }
      ]
    },
    {
      "cell_type": "code",
      "metadata": {
        "id": "OjNu3G3xcU1n",
        "colab_type": "code",
        "colab": {
          "base_uri": "https://localhost:8080/",
          "height": 153
        },
        "outputId": "1b2d33e4-be48-4f98-db56-30fb634ef88d"
      },
      "source": [
        "label_name = \"count\"\n",
        "\n",
        "y_train = train[label_name]\n",
        "\n",
        "print(y_train.shape)\n",
        "y_train.head()"
      ],
      "execution_count": 97,
      "outputs": [
        {
          "output_type": "stream",
          "text": [
            "(10886,)\n"
          ],
          "name": "stdout"
        },
        {
          "output_type": "execute_result",
          "data": {
            "text/plain": [
              "0    16\n",
              "1    40\n",
              "2    32\n",
              "3    13\n",
              "4     1\n",
              "Name: count, dtype: int64"
            ]
          },
          "metadata": {
            "tags": []
          },
          "execution_count": 97
        }
      ]
    },
    {
      "cell_type": "code",
      "metadata": {
        "id": "VY_V8ZGRcWSJ",
        "colab_type": "code",
        "colab": {}
      },
      "source": [
        "from sklearn.metrics import make_scorer\n",
        "\n",
        "def rmsle(predicted_values, actual_values, convertExp=True):\n",
        "\n",
        "    if convertExp:\n",
        "        predicted_values = np.exp(predicted_values),\n",
        "        actual_values = np.exp(actual_values)\n",
        "        \n",
        "    # 배열 형태로\n",
        "    predicted_values = np.array(predicted_values)\n",
        "    actual_values = np.array(actual_values)\n",
        "    \n",
        "    # 예측값과 실제 값에 1을 더하고 로그를 씌워준다.\n",
        "    # 값이 0일 수도 있어서 로그를 취했을 때 마이너스 무한대가 될 수도 있기 때문에\n",
        "    # 로그를 씌워주는 것은 정규분포\n",
        "    log_predict = np.log(predicted_values + 1)\n",
        "    log_actual = np.log(actual_values + 1)\n",
        "    \n",
        "    difference = log_predict - log_actual\n",
        "    difference = np.square(difference)\n",
        "    \n",
        "    mean_difference = difference.mean()\n",
        "    \n",
        "    score = np.sqrt(mean_difference)\n",
        "    \n",
        "    return score"
      ],
      "execution_count": 98,
      "outputs": []
    },
    {
      "cell_type": "code",
      "metadata": {
        "id": "ScheiDwbcYB3",
        "colab_type": "code",
        "colab": {
          "base_uri": "https://localhost:8080/",
          "height": 37
        },
        "outputId": "73fabd71-9220-4e11-a280-e08c51dca79a"
      },
      "source": [
        "from sklearn.linear_model import LinearRegression, Ridge, Lasso\n",
        "from sklearn.model_selection import GridSearchCV\n",
        "from sklearn import metrics\n",
        "import warnings\n",
        "pd.options.mode.chained_assignment = None\n",
        "warnings.filterwarnings(\"ignore\", category=DeprecationWarning)\n",
        "\n",
        "# 선형회귀 모델을 초기화\n",
        "lModel = LinearRegression()\n",
        "\n",
        "# 학습\n",
        "y_train_log = np.log1p(y_train)\n",
        "lModel.fit(X_train, y_train_log)\n",
        "\n",
        "# 예측, 정확도를 평가한다.\n",
        "preds = lModel.predict(X_train)\n",
        "print (\"RMSLE Value For Linear Regression: \",\n",
        "       rmsle(np.exp(y_train_log),np.exp(preds), False))"
      ],
      "execution_count": 99,
      "outputs": [
        {
          "output_type": "stream",
          "text": [
            "RMSLE Value For Linear Regression:  0.9803697923313522\n"
          ],
          "name": "stdout"
        }
      ]
    },
    {
      "cell_type": "code",
      "metadata": {
        "id": "fi-jJSaOcaNR",
        "colab_type": "code",
        "colab": {
          "base_uri": "https://localhost:8080/",
          "height": 521
        },
        "outputId": "a369e842-fd21-4920-89b9-5eb3201faba3"
      },
      "source": [
        "ridge_m_ = Ridge()\n",
        "# 반복실행 최대 3000->최적의 알파 찾기\n",
        "ridge_params_ = { 'max_iter':[3000],'alpha':[0.01, 0.1, 1, 2, 3, 4, 10, 30,100,200,300,400,800,900,1000]}\n",
        "rmsle_scorer = metrics.make_scorer(rmsle, greater_is_better=False)\n",
        "grid_ridge_m = GridSearchCV( ridge_m_,\n",
        "                          ridge_params_,\n",
        "                          scoring = rmsle_scorer,\n",
        "                          cv=5)\n",
        "\n",
        "y_train_log = np.log1p(y_train)\n",
        "grid_ridge_m.fit( X_train, y_train_log )\n",
        "preds = grid_ridge_m.predict(X_train)\n",
        "print (grid_ridge_m.best_params_)\n",
        "print (\"RMSLE Value For Ridge Regression: \", rmsle(np.exp(y_train_log),np.exp(preds), False))\n",
        "\n",
        "df = pd.DataFrame(grid_ridge_m.cv_results_)\n",
        "df.head()"
      ],
      "execution_count": 100,
      "outputs": [
        {
          "output_type": "stream",
          "text": [
            "{'alpha': 0.01, 'max_iter': 3000}\n",
            "RMSLE Value For Ridge Regression:  0.9803697902780834\n"
          ],
          "name": "stdout"
        },
        {
          "output_type": "execute_result",
          "data": {
            "text/html": [
              "<div>\n",
              "<style scoped>\n",
              "    .dataframe tbody tr th:only-of-type {\n",
              "        vertical-align: middle;\n",
              "    }\n",
              "\n",
              "    .dataframe tbody tr th {\n",
              "        vertical-align: top;\n",
              "    }\n",
              "\n",
              "    .dataframe thead th {\n",
              "        text-align: right;\n",
              "    }\n",
              "</style>\n",
              "<table border=\"1\" class=\"dataframe\">\n",
              "  <thead>\n",
              "    <tr style=\"text-align: right;\">\n",
              "      <th></th>\n",
              "      <th>mean_fit_time</th>\n",
              "      <th>std_fit_time</th>\n",
              "      <th>mean_score_time</th>\n",
              "      <th>std_score_time</th>\n",
              "      <th>param_alpha</th>\n",
              "      <th>param_max_iter</th>\n",
              "      <th>params</th>\n",
              "      <th>split0_test_score</th>\n",
              "      <th>split1_test_score</th>\n",
              "      <th>split2_test_score</th>\n",
              "      <th>split3_test_score</th>\n",
              "      <th>split4_test_score</th>\n",
              "      <th>mean_test_score</th>\n",
              "      <th>std_test_score</th>\n",
              "      <th>rank_test_score</th>\n",
              "    </tr>\n",
              "  </thead>\n",
              "  <tbody>\n",
              "    <tr>\n",
              "      <th>0</th>\n",
              "      <td>0.013631</td>\n",
              "      <td>0.000303</td>\n",
              "      <td>0.005066</td>\n",
              "      <td>0.000034</td>\n",
              "      <td>0.01</td>\n",
              "      <td>3000</td>\n",
              "      <td>{'alpha': 0.01, 'max_iter': 3000}</td>\n",
              "      <td>-1.003138</td>\n",
              "      <td>-0.906726</td>\n",
              "      <td>-1.029928</td>\n",
              "      <td>-1.016631</td>\n",
              "      <td>-0.982313</td>\n",
              "      <td>-0.987747</td>\n",
              "      <td>0.043461</td>\n",
              "      <td>1</td>\n",
              "    </tr>\n",
              "    <tr>\n",
              "      <th>1</th>\n",
              "      <td>0.013573</td>\n",
              "      <td>0.000270</td>\n",
              "      <td>0.005766</td>\n",
              "      <td>0.001180</td>\n",
              "      <td>0.1</td>\n",
              "      <td>3000</td>\n",
              "      <td>{'alpha': 0.1, 'max_iter': 3000}</td>\n",
              "      <td>-1.003140</td>\n",
              "      <td>-0.906726</td>\n",
              "      <td>-1.029928</td>\n",
              "      <td>-1.016630</td>\n",
              "      <td>-0.982315</td>\n",
              "      <td>-0.987748</td>\n",
              "      <td>0.043461</td>\n",
              "      <td>2</td>\n",
              "    </tr>\n",
              "    <tr>\n",
              "      <th>2</th>\n",
              "      <td>0.016182</td>\n",
              "      <td>0.001732</td>\n",
              "      <td>0.005884</td>\n",
              "      <td>0.000679</td>\n",
              "      <td>1</td>\n",
              "      <td>3000</td>\n",
              "      <td>{'alpha': 1, 'max_iter': 3000}</td>\n",
              "      <td>-1.003167</td>\n",
              "      <td>-0.906727</td>\n",
              "      <td>-1.029927</td>\n",
              "      <td>-1.016621</td>\n",
              "      <td>-0.982331</td>\n",
              "      <td>-0.987755</td>\n",
              "      <td>0.043461</td>\n",
              "      <td>3</td>\n",
              "    </tr>\n",
              "    <tr>\n",
              "      <th>3</th>\n",
              "      <td>0.014274</td>\n",
              "      <td>0.000448</td>\n",
              "      <td>0.005320</td>\n",
              "      <td>0.000137</td>\n",
              "      <td>2</td>\n",
              "      <td>3000</td>\n",
              "      <td>{'alpha': 2, 'max_iter': 3000}</td>\n",
              "      <td>-1.003196</td>\n",
              "      <td>-0.906728</td>\n",
              "      <td>-1.029926</td>\n",
              "      <td>-1.016612</td>\n",
              "      <td>-0.982349</td>\n",
              "      <td>-0.987762</td>\n",
              "      <td>0.043461</td>\n",
              "      <td>4</td>\n",
              "    </tr>\n",
              "    <tr>\n",
              "      <th>4</th>\n",
              "      <td>0.013797</td>\n",
              "      <td>0.000266</td>\n",
              "      <td>0.005213</td>\n",
              "      <td>0.000094</td>\n",
              "      <td>3</td>\n",
              "      <td>3000</td>\n",
              "      <td>{'alpha': 3, 'max_iter': 3000}</td>\n",
              "      <td>-1.003226</td>\n",
              "      <td>-0.906729</td>\n",
              "      <td>-1.029925</td>\n",
              "      <td>-1.016602</td>\n",
              "      <td>-0.982366</td>\n",
              "      <td>-0.987770</td>\n",
              "      <td>0.043460</td>\n",
              "      <td>5</td>\n",
              "    </tr>\n",
              "  </tbody>\n",
              "</table>\n",
              "</div>"
            ],
            "text/plain": [
              "   mean_fit_time  std_fit_time  ...  std_test_score  rank_test_score\n",
              "0       0.013631      0.000303  ...        0.043461                1\n",
              "1       0.013573      0.000270  ...        0.043461                2\n",
              "2       0.016182      0.001732  ...        0.043461                3\n",
              "3       0.014274      0.000448  ...        0.043461                4\n",
              "4       0.013797      0.000266  ...        0.043460                5\n",
              "\n",
              "[5 rows x 15 columns]"
            ]
          },
          "metadata": {
            "tags": []
          },
          "execution_count": 100
        }
      ]
    },
    {
      "cell_type": "code",
      "metadata": {
        "id": "WAgsdVqeccWP",
        "colab_type": "code",
        "colab": {
          "base_uri": "https://localhost:8080/",
          "height": 202
        },
        "outputId": "17694021-08c3-472c-db48-5adee799c9da"
      },
      "source": [
        "df[\"alpha\"] = df[\"params\"].apply(lambda x:x[\"alpha\"])\n",
        "df[\"rmsle\"] = df[\"mean_test_score\"].apply(lambda x:-x)\n",
        "df[[\"alpha\", \"rmsle\"]].head()"
      ],
      "execution_count": 101,
      "outputs": [
        {
          "output_type": "execute_result",
          "data": {
            "text/html": [
              "<div>\n",
              "<style scoped>\n",
              "    .dataframe tbody tr th:only-of-type {\n",
              "        vertical-align: middle;\n",
              "    }\n",
              "\n",
              "    .dataframe tbody tr th {\n",
              "        vertical-align: top;\n",
              "    }\n",
              "\n",
              "    .dataframe thead th {\n",
              "        text-align: right;\n",
              "    }\n",
              "</style>\n",
              "<table border=\"1\" class=\"dataframe\">\n",
              "  <thead>\n",
              "    <tr style=\"text-align: right;\">\n",
              "      <th></th>\n",
              "      <th>alpha</th>\n",
              "      <th>rmsle</th>\n",
              "    </tr>\n",
              "  </thead>\n",
              "  <tbody>\n",
              "    <tr>\n",
              "      <th>0</th>\n",
              "      <td>0.01</td>\n",
              "      <td>0.987747</td>\n",
              "    </tr>\n",
              "    <tr>\n",
              "      <th>1</th>\n",
              "      <td>0.10</td>\n",
              "      <td>0.987748</td>\n",
              "    </tr>\n",
              "    <tr>\n",
              "      <th>2</th>\n",
              "      <td>1.00</td>\n",
              "      <td>0.987755</td>\n",
              "    </tr>\n",
              "    <tr>\n",
              "      <th>3</th>\n",
              "      <td>2.00</td>\n",
              "      <td>0.987762</td>\n",
              "    </tr>\n",
              "    <tr>\n",
              "      <th>4</th>\n",
              "      <td>3.00</td>\n",
              "      <td>0.987770</td>\n",
              "    </tr>\n",
              "  </tbody>\n",
              "</table>\n",
              "</div>"
            ],
            "text/plain": [
              "   alpha     rmsle\n",
              "0   0.01  0.987747\n",
              "1   0.10  0.987748\n",
              "2   1.00  0.987755\n",
              "3   2.00  0.987762\n",
              "4   3.00  0.987770"
            ]
          },
          "metadata": {
            "tags": []
          },
          "execution_count": 101
        }
      ]
    },
    {
      "cell_type": "code",
      "metadata": {
        "id": "VPYyqdsdceSu",
        "colab_type": "code",
        "colab": {
          "base_uri": "https://localhost:8080/",
          "height": 373
        },
        "outputId": "b07ee172-532d-4c02-e8ae-0d4bcc4a7d23"
      },
      "source": [
        "\n",
        "fig,ax= plt.subplots()\n",
        "fig.set_size_inches(12,5)\n",
        "plt.xticks(rotation=30, ha='right')\n",
        "sns.pointplot(data=df,x=\"alpha\",y=\"rmsle\",ax=ax)"
      ],
      "execution_count": 102,
      "outputs": [
        {
          "output_type": "execute_result",
          "data": {
            "text/plain": [
              "<matplotlib.axes._subplots.AxesSubplot at 0x7f81c1b174a8>"
            ]
          },
          "metadata": {
            "tags": []
          },
          "execution_count": 102
        },
        {
          "output_type": "display_data",
          "data": {
            "image/png": "[encoded data removed]",
            "text/plain": [
              "<Figure size 864x360 with 1 Axes>"
            ]
          },
          "metadata": {
            "tags": []
          }
        }
      ]
    },
    {
      "cell_type": "code",
      "metadata": {
        "id": "lIwxBv5lcfod",
        "colab_type": "code",
        "colab": {
          "base_uri": "https://localhost:8080/",
          "height": 459
        },
        "outputId": "f829b1a0-8837-448f-ed7a-c10cdbed6925"
      },
      "source": [
        "lasso_m_ = Lasso()\n",
        "\n",
        "alpha  = 1/np.array([0.1, 1, 2, 3, 4, 10, 30,100,200,300,400,800,900,1000])\n",
        "lasso_params_ = { 'max_iter':[3000],'alpha':alpha}\n",
        "\n",
        "grid_lasso_m = GridSearchCV( lasso_m_,lasso_params_,scoring = rmsle_scorer,cv=5)\n",
        "y_train_log = np.log1p(y_train)\n",
        "grid_lasso_m.fit( X_train , y_train_log )\n",
        "preds = grid_lasso_m.predict(X_train)\n",
        "print (grid_lasso_m.best_params_)\n",
        "print (\"RMSLE Value For Lasso Regression: \",rmsle(np.exp(y_train_log),np.exp(preds),False))\n",
        "\n",
        "\n",
        "fig,ax= plt.subplots()\n",
        "fig.set_size_inches(12,5)\n",
        "df = pd.DataFrame(grid_lasso_m.cv_results_)\n",
        "df[\"alpha\"] = df[\"params\"].apply(lambda x:x[\"alpha\"])\n",
        "df[\"rmsle\"] = df[\"mean_test_score\"].apply(lambda x:-x)\n",
        "plt.xticks(rotation=30, ha='right')\n",
        "sns.pointplot(data=df,x=\"alpha\",y=\"rmsle\",ax=ax)\n"
      ],
      "execution_count": 103,
      "outputs": [
        {
          "output_type": "stream",
          "text": [
            "{'alpha': 0.00125, 'max_iter': 3000}\n",
            "RMSLE Value For Lasso Regression:  0.9803727821457648\n"
          ],
          "name": "stdout"
        },
        {
          "output_type": "execute_result",
          "data": {
            "text/plain": [
              "<matplotlib.axes._subplots.AxesSubplot at 0x7f81c19daa58>"
            ]
          },
          "metadata": {
            "tags": []
          },
          "execution_count": 103
        },
        {
          "output_type": "display_data",
          "data": {
            "image/png": "[encoded data removed]",
            "text/plain": [
              "<Figure size 864x360 with 1 Axes>"
            ]
          },
          "metadata": {
            "tags": []
          }
        }
      ]
    },
    {
      "cell_type": "code",
      "metadata": {
        "id": "osLKePGQcjVi",
        "colab_type": "code",
        "colab": {
          "base_uri": "https://localhost:8080/",
          "height": 37
        },
        "outputId": "bf2ac559-516d-40b1-dbda-3990ca61b98e"
      },
      "source": [
        "from sklearn.ensemble import RandomForestRegressor\n",
        "rfModel = RandomForestRegressor(n_estimators=100)\n",
        "\n",
        "y_train_log = np.log1p(y_train)\n",
        "rfModel.fit(X_train, y_train_log)\n",
        "\n",
        "preds = rfModel.predict(X_train)\n",
        "score = rmsle(np.exp(y_train_log),np.exp(preds),False)\n",
        "print (\"RMSLE Value For Random Forest: \",score)"
      ],
      "execution_count": 104,
      "outputs": [
        {
          "output_type": "stream",
          "text": [
            "RMSLE Value For Random Forest:  0.10693926922005902\n"
          ],
          "name": "stdout"
        }
      ]
    },
    {
      "cell_type": "code",
      "metadata": {
        "id": "FSbnr3EvclNY",
        "colab_type": "code",
        "colab": {
          "base_uri": "https://localhost:8080/",
          "height": 37
        },
        "outputId": "67e1df5e-27eb-4520-bdc0-76c2e28bf1db"
      },
      "source": [
        "from sklearn.ensemble import GradientBoostingRegressor\n",
        "gbm = GradientBoostingRegressor(n_estimators=4000, alpha=0.01);\n",
        "\n",
        "y_train_log = np.log1p(y_train)\n",
        "gbm.fit(X_train, y_train_log)\n",
        "\n",
        "preds = gbm.predict(X_train)\n",
        "score = rmsle(np.exp(y_train_log),np.exp(preds),False)\n",
        "print (\"RMSLE Value For Gradient Boost: \", score)"
      ],
      "execution_count": 60,
      "outputs": [
        {
          "output_type": "stream",
          "text": [
            "RMSLE Value For Gradient Boost:  0.2135740372724937\n"
          ],
          "name": "stdout"
        }
      ]
    },
    {
      "cell_type": "code",
      "metadata": {
        "id": "bHQKYcPLcndL",
        "colab_type": "code",
        "colab": {
          "base_uri": "https://localhost:8080/",
          "height": 357
        },
        "outputId": "7a715b75-583d-44b6-fdf9-6c1491256a4a"
      },
      "source": [
        "predsTest = gbm.predict(X_test)\n",
        "fig,(ax1,ax2)= plt.subplots(ncols=2)\n",
        "fig.set_size_inches(12,5)\n",
        "sns.distplot(y_train,ax=ax1,bins=50)\n",
        "sns.distplot(np.exp(predsTest),ax=ax2,bins=50)"
      ],
      "execution_count": 49,
      "outputs": [
        {
          "output_type": "execute_result",
          "data": {
            "text/plain": [
              "<matplotlib.axes._subplots.AxesSubplot at 0x7f81c2268400>"
            ]
          },
          "metadata": {
            "tags": []
          },
          "execution_count": 49
        },
        {
          "output_type": "display_data",
          "data": {
            "image/png": "[encoded data removed]",
            "text/plain": [
              "<Figure size 864x360 with 2 Axes>"
            ]
          },
          "metadata": {
            "tags": []
          }
        }
      ]
    },
    {
      "cell_type": "code",
      "metadata": {
        "id": "tZk7NT0LcxEd",
        "colab_type": "code",
        "colab": {
          "base_uri": "https://localhost:8080/",
          "height": 221
        },
        "outputId": "8fc44c48-e04b-4221-e971-224288aabe2c"
      },
      "source": [
        "submission = pd.read_csv(\"/content/drive/My Drive/Colab Notebooks/data/sampleSubmission.csv\")\n",
        "submission\n",
        "\n",
        "submission[\"count\"] = np.exp(predsTest)\n",
        "\n",
        "print(submission.shape)\n",
        "submission.head()"
      ],
      "execution_count": 83,
      "outputs": [
        {
          "output_type": "stream",
          "text": [
            "(6493, 2)\n"
          ],
          "name": "stdout"
        },
        {
          "output_type": "execute_result",
          "data": {
            "text/html": [
              "<div>\n",
              "<style scoped>\n",
              "    .dataframe tbody tr th:only-of-type {\n",
              "        vertical-align: middle;\n",
              "    }\n",
              "\n",
              "    .dataframe tbody tr th {\n",
              "        vertical-align: top;\n",
              "    }\n",
              "\n",
              "    .dataframe thead th {\n",
              "        text-align: right;\n",
              "    }\n",
              "</style>\n",
              "<table border=\"1\" class=\"dataframe\">\n",
              "  <thead>\n",
              "    <tr style=\"text-align: right;\">\n",
              "      <th></th>\n",
              "      <th>datetime</th>\n",
              "      <th>count</th>\n",
              "    </tr>\n",
              "  </thead>\n",
              "  <tbody>\n",
              "    <tr>\n",
              "      <th>0</th>\n",
              "      <td>2011-01-20 00:00:00</td>\n",
              "      <td>11.227543</td>\n",
              "    </tr>\n",
              "    <tr>\n",
              "      <th>1</th>\n",
              "      <td>2011-01-20 01:00:00</td>\n",
              "      <td>6.296610</td>\n",
              "    </tr>\n",
              "    <tr>\n",
              "      <th>2</th>\n",
              "      <td>2011-01-20 02:00:00</td>\n",
              "      <td>4.259238</td>\n",
              "    </tr>\n",
              "    <tr>\n",
              "      <th>3</th>\n",
              "      <td>2011-01-20 03:00:00</td>\n",
              "      <td>2.666615</td>\n",
              "    </tr>\n",
              "    <tr>\n",
              "      <th>4</th>\n",
              "      <td>2011-01-20 04:00:00</td>\n",
              "      <td>2.295918</td>\n",
              "    </tr>\n",
              "  </tbody>\n",
              "</table>\n",
              "</div>"
            ],
            "text/plain": [
              "              datetime      count\n",
              "0  2011-01-20 00:00:00  11.227543\n",
              "1  2011-01-20 01:00:00   6.296610\n",
              "2  2011-01-20 02:00:00   4.259238\n",
              "3  2011-01-20 03:00:00   2.666615\n",
              "4  2011-01-20 04:00:00   2.295918"
            ]
          },
          "metadata": {
            "tags": []
          },
          "execution_count": 83
        }
      ]
    },
    {
      "cell_type": "code",
      "metadata": {
        "id": "hib5UxmIcxvf",
        "colab_type": "code",
        "colab": {}
      },
      "source": [
        "submission.to_csv(\"/content/drive/My Drive/Colab Notebooks/data/Score_{0:.5f}_submission.csv\".format(score), index=False)"
      ],
      "execution_count": 84,
      "outputs": []
    },
    {
      "cell_type": "code",
      "metadata": {
        "id": "iFFgxIDuczHo",
        "colab_type": "code",
        "colab": {
          "base_uri": "https://localhost:8080/",
          "height": 37
        },
        "outputId": "89fa241e-68de-49f0-ce49-553907ff1463"
      },
      "source": [
        "144/3251"
      ],
      "execution_count": 105,
      "outputs": [
        {
          "output_type": "execute_result",
          "data": {
            "text/plain": [
              "0.04429406336511842"
            ]
          },
          "metadata": {
            "tags": []
          },
          "execution_count": 105
        }
      ]
    },
    {
      "cell_type": "code",
      "metadata": {
        "id": "J_yMdInA8I56",
        "colab_type": "code",
        "colab": {}
      },
      "source": [
        ""
      ],
      "execution_count": null,
      "outputs": []
    }
  ]
}