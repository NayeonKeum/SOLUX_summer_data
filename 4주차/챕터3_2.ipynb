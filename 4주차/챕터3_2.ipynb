{
  "nbformat": 4,
  "nbformat_minor": 0,
  "metadata": {
    "colab": {
      "name": "챕터3-2.ipynb",
      "provenance": [],
      "collapsed_sections": [],
      "authorship_tag": "ABX9TyPwkqlYtscTaH4oOEfOppj0",
      "include_colab_link": true
    },
    "kernelspec": {
      "name": "python3",
      "display_name": "Python 3"
    }
  },
  "cells": [
    {
      "cell_type": "markdown",
      "metadata": {
        "id": "view-in-github",
        "colab_type": "text"
      },
      "source": [
        "<a href=\"https://colab.research.google.com/github/NayeonKeum/SOLUX_summer_data/blob/master/4%EC%A3%BC%EC%B0%A8/%EC%B1%95%ED%84%B03_2.ipynb\" target=\"_parent\"><img src=\"https://colab.research.google.com/assets/colab-badge.svg\" alt=\"Open In Colab\"/></a>"
      ]
    },
    {
      "cell_type": "code",
      "metadata": {
        "id": "L9xLIAE2tJ8m",
        "colab_type": "code",
        "colab": {}
      },
      "source": [
        "#정밀도 검사\n",
        "from sklearn.metrics import make_scorer\n",
        "import numpy as np\n",
        "\n",
        "def rmsle(predicted_values, actual_values):\n",
        "  predicted_values=np.arrary(predicted_values)\n",
        "  actual_values=np.array(actual_values)\n",
        "\n",
        "  log_predict=np.log(predicted_values+1)\n",
        "  log_actual=np.log(actual_values+1)\n",
        "\n",
        "  difference=log_predict-log_actual\n",
        "  difference=np.square(difference)\n",
        "\n",
        "  mean_differenve=diference.mean()\n",
        "\n",
        "  score=np.sqrt(mean_difference)\n",
        "\n",
        "  return score"
      ],
      "execution_count": 1,
      "outputs": []
    },
    {
      "cell_type": "code",
      "metadata": {
        "id": "hCM76yFGt3SU",
        "colab_type": "code",
        "colab": {}
      },
      "source": [
        ""
      ],
      "execution_count": null,
      "outputs": []
    }
  ]
}