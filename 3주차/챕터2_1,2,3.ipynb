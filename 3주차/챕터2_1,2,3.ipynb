{
  "nbformat": 4,
  "nbformat_minor": 0,
  "metadata": {
    "colab": {
      "name": "챕터2-1,2,3.ipynb",
      "provenance": [],
      "collapsed_sections": [],
      "mount_file_id": "1WUWL0jIbVnffCYn11-Bx4Cpws2L83SzE",
      "authorship_tag": "ABX9TyN0caD8cY37v7BZcUx+zklJ",
      "include_colab_link": true
    },
    "kernelspec": {
      "name": "python3",
      "display_name": "Python 3"
    }
  },
  "cells": [
    {
      "cell_type": "markdown",
      "metadata": {
        "id": "view-in-github",
        "colab_type": "text"
      },
      "source": [
        "<a href=\"https://colab.research.google.com/github/NayeonKeum/SOLUX_summer_data/blob/master/3%EC%A3%BC%EC%B0%A8/%EC%B1%95%ED%84%B02_1%2C2%2C3.ipynb\" target=\"_parent\"><img src=\"https://colab.research.google.com/assets/colab-badge.svg\" alt=\"Open In Colab\"/></a>"
      ]
    },
    {
      "cell_type": "code",
      "metadata": {
        "id": "m1M0zjr2xcIP",
        "colab_type": "code",
        "colab": {}
      },
      "source": [
        "%matplotlib inline"
      ],
      "execution_count": null,
      "outputs": []
    },
    {
      "cell_type": "code",
      "metadata": {
        "id": "NHZKiUoOx3zr",
        "colab_type": "code",
        "colab": {
          "base_uri": "https://localhost:8080/",
          "height": 75
        },
        "outputId": "7ee003e9-68f6-4577-e820-8860ed508f12"
      },
      "source": [
        "import pandas as pd\n",
        "import numpy as np\n",
        "from scipy import stats\n",
        "import matplotlib.pyplot as plt\n",
        "import seaborn as sns\n",
        "\n",
        "import warnings\n",
        "warnings.filterwarnings('ignore')"
      ],
      "execution_count": null,
      "outputs": [
        {
          "output_type": "stream",
          "text": [
            "/usr/local/lib/python3.6/dist-packages/statsmodels/tools/_testing.py:19: FutureWarning: pandas.util.testing is deprecated. Use the functions in the public API at pandas.testing instead.\n",
            "  import pandas.util.testing as tm\n"
          ],
          "name": "stderr"
        }
      ]
    },
    {
      "cell_type": "code",
      "metadata": {
        "id": "t3W0Ib7JyjgZ",
        "colab_type": "code",
        "colab": {
          "base_uri": "https://localhost:8080/",
          "height": 36
        },
        "outputId": "e980e67d-c9ff-40d0-9b68-3dff0c676a95"
      },
      "source": [
        "question=pd.read_csv('/content/drive/My Drive/Colab Notebooks/data/schema.csv')\n",
        "question.shape"
      ],
      "execution_count": null,
      "outputs": [
        {
          "output_type": "execute_result",
          "data": {
            "text/plain": [
              "(290, 3)"
            ]
          },
          "metadata": {
            "tags": []
          },
          "execution_count": 4
        }
      ]
    },
    {
      "cell_type": "code",
      "metadata": {
        "id": "jaSYbcVjytwm",
        "colab_type": "code",
        "colab": {
          "base_uri": "https://localhost:8080/",
          "height": 202
        },
        "outputId": "e4735aa0-b403-4760-8a2b-8cf9ae27730d"
      },
      "source": [
        "question.head()#상위 5개"
      ],
      "execution_count": null,
      "outputs": [
        {
          "output_type": "execute_result",
          "data": {
            "text/html": [
              "<div>\n",
              "<style scoped>\n",
              "    .dataframe tbody tr th:only-of-type {\n",
              "        vertical-align: middle;\n",
              "    }\n",
              "\n",
              "    .dataframe tbody tr th {\n",
              "        vertical-align: top;\n",
              "    }\n",
              "\n",
              "    .dataframe thead th {\n",
              "        text-align: right;\n",
              "    }\n",
              "</style>\n",
              "<table border=\"1\" class=\"dataframe\">\n",
              "  <thead>\n",
              "    <tr style=\"text-align: right;\">\n",
              "      <th></th>\n",
              "      <th>Column</th>\n",
              "      <th>Question</th>\n",
              "      <th>Asked</th>\n",
              "    </tr>\n",
              "  </thead>\n",
              "  <tbody>\n",
              "    <tr>\n",
              "      <th>0</th>\n",
              "      <td>GenderSelect</td>\n",
              "      <td>Select your gender identity. - Selected Choice</td>\n",
              "      <td>All</td>\n",
              "    </tr>\n",
              "    <tr>\n",
              "      <th>1</th>\n",
              "      <td>GenderFreeForm</td>\n",
              "      <td>Select your gender identity. - A different ide...</td>\n",
              "      <td>All</td>\n",
              "    </tr>\n",
              "    <tr>\n",
              "      <th>2</th>\n",
              "      <td>Country</td>\n",
              "      <td>Select the country you currently live in.</td>\n",
              "      <td>All</td>\n",
              "    </tr>\n",
              "    <tr>\n",
              "      <th>3</th>\n",
              "      <td>Age</td>\n",
              "      <td>What's your age?</td>\n",
              "      <td>All</td>\n",
              "    </tr>\n",
              "    <tr>\n",
              "      <th>4</th>\n",
              "      <td>EmploymentStatus</td>\n",
              "      <td>What's your current employment status?</td>\n",
              "      <td>All</td>\n",
              "    </tr>\n",
              "  </tbody>\n",
              "</table>\n",
              "</div>"
            ],
            "text/plain": [
              "             Column                                           Question Asked\n",
              "0      GenderSelect     Select your gender identity. - Selected Choice   All\n",
              "1    GenderFreeForm  Select your gender identity. - A different ide...   All\n",
              "2           Country          Select the country you currently live in.   All\n",
              "3               Age                                   What's your age?   All\n",
              "4  EmploymentStatus             What's your current employment status?   All"
            ]
          },
          "metadata": {
            "tags": []
          },
          "execution_count": 5
        }
      ]
    },
    {
      "cell_type": "code",
      "metadata": {
        "id": "KrGMxMu0ywdC",
        "colab_type": "code",
        "colab": {
          "base_uri": "https://localhost:8080/",
          "height": 36
        },
        "outputId": "e7be31ae-3fbd-467d-b852-f7a0637d8e55"
      },
      "source": [
        "mcq=pd.read_csv('/content/drive/My Drive/Colab Notebooks/data/multipleChoiceResponses.csv',encoding=\"ISO-8859-1\", low_memory=False)\n",
        "mcq.shape"
      ],
      "execution_count": null,
      "outputs": [
        {
          "output_type": "execute_result",
          "data": {
            "text/plain": [
              "(16716, 228)"
            ]
          },
          "metadata": {
            "tags": []
          },
          "execution_count": 6
        }
      ]
    },
    {
      "cell_type": "code",
      "metadata": {
        "id": "Wu82LmsSzRcK",
        "colab_type": "code",
        "colab": {
          "base_uri": "https://localhost:8080/",
          "height": 185
        },
        "outputId": "c8a9221c-a2af-4838-8442-826d330bae40"
      },
      "source": [
        "mcq.columns"
      ],
      "execution_count": null,
      "outputs": [
        {
          "output_type": "execute_result",
          "data": {
            "text/plain": [
              "Index(['GenderSelect', 'Country', 'Age', 'EmploymentStatus', 'StudentStatus',\n",
              "       'LearningDataScience', 'CodeWriter', 'CareerSwitcher',\n",
              "       'CurrentJobTitleSelect', 'TitleFit',\n",
              "       ...\n",
              "       'JobFactorExperienceLevel', 'JobFactorDepartment', 'JobFactorTitle',\n",
              "       'JobFactorCompanyFunding', 'JobFactorImpact', 'JobFactorRemote',\n",
              "       'JobFactorIndustry', 'JobFactorLeaderReputation', 'JobFactorDiversity',\n",
              "       'JobFactorPublishingOpportunity'],\n",
              "      dtype='object', length=228)"
            ]
          },
          "metadata": {
            "tags": []
          },
          "execution_count": 7
        }
      ]
    },
    {
      "cell_type": "code",
      "metadata": {
        "id": "-f5oenS6zUdj",
        "colab_type": "code",
        "colab": {
          "base_uri": "https://localhost:8080/",
          "height": 855
        },
        "outputId": "b412f2ff-c150-423c-ece3-535779769b03"
      },
      "source": [
        "mcq.head(10)"
      ],
      "execution_count": null,
      "outputs": [
        {
          "output_type": "execute_result",
          "data": {
            "text/html": [
              "<div>\n",
              "<style scoped>\n",
              "    .dataframe tbody tr th:only-of-type {\n",
              "        vertical-align: middle;\n",
              "    }\n",
              "\n",
              "    .dataframe tbody tr th {\n",
              "        vertical-align: top;\n",
              "    }\n",
              "\n",
              "    .dataframe thead th {\n",
              "        text-align: right;\n",
              "    }\n",
              "</style>\n",
              "<table border=\"1\" class=\"dataframe\">\n",
              "  <thead>\n",
              "    <tr style=\"text-align: right;\">\n",
              "      <th></th>\n",
              "      <th>GenderSelect</th>\n",
              "      <th>Country</th>\n",
              "      <th>Age</th>\n",
              "      <th>EmploymentStatus</th>\n",
              "      <th>StudentStatus</th>\n",
              "      <th>LearningDataScience</th>\n",
              "      <th>CodeWriter</th>\n",
              "      <th>CareerSwitcher</th>\n",
              "      <th>CurrentJobTitleSelect</th>\n",
              "      <th>TitleFit</th>\n",
              "      <th>CurrentEmployerType</th>\n",
              "      <th>MLToolNextYearSelect</th>\n",
              "      <th>MLMethodNextYearSelect</th>\n",
              "      <th>LanguageRecommendationSelect</th>\n",
              "      <th>PublicDatasetsSelect</th>\n",
              "      <th>LearningPlatformSelect</th>\n",
              "      <th>LearningPlatformUsefulnessArxiv</th>\n",
              "      <th>LearningPlatformUsefulnessBlogs</th>\n",
              "      <th>LearningPlatformUsefulnessCollege</th>\n",
              "      <th>LearningPlatformUsefulnessCompany</th>\n",
              "      <th>LearningPlatformUsefulnessConferences</th>\n",
              "      <th>LearningPlatformUsefulnessFriends</th>\n",
              "      <th>LearningPlatformUsefulnessKaggle</th>\n",
              "      <th>LearningPlatformUsefulnessNewsletters</th>\n",
              "      <th>LearningPlatformUsefulnessCommunities</th>\n",
              "      <th>LearningPlatformUsefulnessDocumentation</th>\n",
              "      <th>LearningPlatformUsefulnessCourses</th>\n",
              "      <th>LearningPlatformUsefulnessProjects</th>\n",
              "      <th>LearningPlatformUsefulnessPodcasts</th>\n",
              "      <th>LearningPlatformUsefulnessSO</th>\n",
              "      <th>LearningPlatformUsefulnessTextbook</th>\n",
              "      <th>LearningPlatformUsefulnessTradeBook</th>\n",
              "      <th>LearningPlatformUsefulnessTutoring</th>\n",
              "      <th>LearningPlatformUsefulnessYouTube</th>\n",
              "      <th>BlogsPodcastsNewslettersSelect</th>\n",
              "      <th>LearningDataScienceTime</th>\n",
              "      <th>JobSkillImportanceBigData</th>\n",
              "      <th>JobSkillImportanceDegree</th>\n",
              "      <th>JobSkillImportanceStats</th>\n",
              "      <th>JobSkillImportanceEnterpriseTools</th>\n",
              "      <th>...</th>\n",
              "      <th>WorkChallengeFrequencyITCoordination</th>\n",
              "      <th>WorkChallengeFrequencyHiringFunds</th>\n",
              "      <th>WorkChallengeFrequencyPrivacy</th>\n",
              "      <th>WorkChallengeFrequencyScaling</th>\n",
              "      <th>WorkChallengeFrequencyEnvironments</th>\n",
              "      <th>WorkChallengeFrequencyClarity</th>\n",
              "      <th>WorkChallengeFrequencyDataAccess</th>\n",
              "      <th>WorkChallengeFrequencyOtherSelect</th>\n",
              "      <th>WorkDataVisualizations</th>\n",
              "      <th>WorkInternalVsExternalTools</th>\n",
              "      <th>WorkMLTeamSeatSelect</th>\n",
              "      <th>WorkDatasets</th>\n",
              "      <th>WorkDatasetsChallenge</th>\n",
              "      <th>WorkDataStorage</th>\n",
              "      <th>WorkDataSharing</th>\n",
              "      <th>WorkDataSourcing</th>\n",
              "      <th>WorkCodeSharing</th>\n",
              "      <th>RemoteWork</th>\n",
              "      <th>CompensationAmount</th>\n",
              "      <th>CompensationCurrency</th>\n",
              "      <th>SalaryChange</th>\n",
              "      <th>JobSatisfaction</th>\n",
              "      <th>JobSearchResource</th>\n",
              "      <th>JobHuntTime</th>\n",
              "      <th>JobFactorLearning</th>\n",
              "      <th>JobFactorSalary</th>\n",
              "      <th>JobFactorOffice</th>\n",
              "      <th>JobFactorLanguages</th>\n",
              "      <th>JobFactorCommute</th>\n",
              "      <th>JobFactorManagement</th>\n",
              "      <th>JobFactorExperienceLevel</th>\n",
              "      <th>JobFactorDepartment</th>\n",
              "      <th>JobFactorTitle</th>\n",
              "      <th>JobFactorCompanyFunding</th>\n",
              "      <th>JobFactorImpact</th>\n",
              "      <th>JobFactorRemote</th>\n",
              "      <th>JobFactorIndustry</th>\n",
              "      <th>JobFactorLeaderReputation</th>\n",
              "      <th>JobFactorDiversity</th>\n",
              "      <th>JobFactorPublishingOpportunity</th>\n",
              "    </tr>\n",
              "  </thead>\n",
              "  <tbody>\n",
              "    <tr>\n",
              "      <th>0</th>\n",
              "      <td>Non-binary, genderqueer, or gender non-conforming</td>\n",
              "      <td>NaN</td>\n",
              "      <td>NaN</td>\n",
              "      <td>Employed full-time</td>\n",
              "      <td>NaN</td>\n",
              "      <td>NaN</td>\n",
              "      <td>Yes</td>\n",
              "      <td>NaN</td>\n",
              "      <td>DBA/Database Engineer</td>\n",
              "      <td>Fine</td>\n",
              "      <td>Employed by a company that doesn't perform adv...</td>\n",
              "      <td>SAS Base</td>\n",
              "      <td>Random Forests</td>\n",
              "      <td>F#</td>\n",
              "      <td>Dataset aggregator/platform (i.e. Socrata/Kagg...</td>\n",
              "      <td>College/University,Conferences,Podcasts,Trade ...</td>\n",
              "      <td>NaN</td>\n",
              "      <td>NaN</td>\n",
              "      <td>NaN</td>\n",
              "      <td>NaN</td>\n",
              "      <td>Very useful</td>\n",
              "      <td>NaN</td>\n",
              "      <td>NaN</td>\n",
              "      <td>NaN</td>\n",
              "      <td>NaN</td>\n",
              "      <td>NaN</td>\n",
              "      <td>NaN</td>\n",
              "      <td>NaN</td>\n",
              "      <td>Very useful</td>\n",
              "      <td>NaN</td>\n",
              "      <td>NaN</td>\n",
              "      <td>Somewhat useful</td>\n",
              "      <td>NaN</td>\n",
              "      <td>NaN</td>\n",
              "      <td>Becoming a Data Scientist Podcast,Data Machina...</td>\n",
              "      <td>NaN</td>\n",
              "      <td>NaN</td>\n",
              "      <td>NaN</td>\n",
              "      <td>NaN</td>\n",
              "      <td>NaN</td>\n",
              "      <td>...</td>\n",
              "      <td>NaN</td>\n",
              "      <td>NaN</td>\n",
              "      <td>Often</td>\n",
              "      <td>Most of the time</td>\n",
              "      <td>NaN</td>\n",
              "      <td>NaN</td>\n",
              "      <td>NaN</td>\n",
              "      <td>NaN</td>\n",
              "      <td>26-50% of projects</td>\n",
              "      <td>Do not know</td>\n",
              "      <td>Standalone Team</td>\n",
              "      <td>NaN</td>\n",
              "      <td>NaN</td>\n",
              "      <td>Document-oriented (e.g. MongoDB/Elasticsearch)...</td>\n",
              "      <td>Company Developed Platform,I don't typically s...</td>\n",
              "      <td>NaN</td>\n",
              "      <td>Mercurial,Subversion,Other</td>\n",
              "      <td>Always</td>\n",
              "      <td>NaN</td>\n",
              "      <td>NaN</td>\n",
              "      <td>I am not currently employed</td>\n",
              "      <td>5</td>\n",
              "      <td>NaN</td>\n",
              "      <td>NaN</td>\n",
              "      <td>NaN</td>\n",
              "      <td>NaN</td>\n",
              "      <td>NaN</td>\n",
              "      <td>NaN</td>\n",
              "      <td>NaN</td>\n",
              "      <td>NaN</td>\n",
              "      <td>NaN</td>\n",
              "      <td>NaN</td>\n",
              "      <td>NaN</td>\n",
              "      <td>NaN</td>\n",
              "      <td>NaN</td>\n",
              "      <td>NaN</td>\n",
              "      <td>NaN</td>\n",
              "      <td>NaN</td>\n",
              "      <td>NaN</td>\n",
              "      <td>NaN</td>\n",
              "    </tr>\n",
              "    <tr>\n",
              "      <th>1</th>\n",
              "      <td>Female</td>\n",
              "      <td>United States</td>\n",
              "      <td>30.0</td>\n",
              "      <td>Not employed, but looking for work</td>\n",
              "      <td>NaN</td>\n",
              "      <td>NaN</td>\n",
              "      <td>NaN</td>\n",
              "      <td>NaN</td>\n",
              "      <td>NaN</td>\n",
              "      <td>NaN</td>\n",
              "      <td>NaN</td>\n",
              "      <td>Python</td>\n",
              "      <td>Random Forests</td>\n",
              "      <td>Python</td>\n",
              "      <td>Dataset aggregator/platform (i.e. Socrata/Kagg...</td>\n",
              "      <td>Kaggle</td>\n",
              "      <td>NaN</td>\n",
              "      <td>NaN</td>\n",
              "      <td>NaN</td>\n",
              "      <td>NaN</td>\n",
              "      <td>NaN</td>\n",
              "      <td>NaN</td>\n",
              "      <td>Somewhat useful</td>\n",
              "      <td>NaN</td>\n",
              "      <td>NaN</td>\n",
              "      <td>NaN</td>\n",
              "      <td>NaN</td>\n",
              "      <td>NaN</td>\n",
              "      <td>NaN</td>\n",
              "      <td>NaN</td>\n",
              "      <td>NaN</td>\n",
              "      <td>NaN</td>\n",
              "      <td>NaN</td>\n",
              "      <td>NaN</td>\n",
              "      <td>Becoming a Data Scientist Podcast,Siraj Raval ...</td>\n",
              "      <td>1-2 years</td>\n",
              "      <td>NaN</td>\n",
              "      <td>Nice to have</td>\n",
              "      <td>Unnecessary</td>\n",
              "      <td>NaN</td>\n",
              "      <td>...</td>\n",
              "      <td>NaN</td>\n",
              "      <td>NaN</td>\n",
              "      <td>NaN</td>\n",
              "      <td>NaN</td>\n",
              "      <td>NaN</td>\n",
              "      <td>NaN</td>\n",
              "      <td>NaN</td>\n",
              "      <td>NaN</td>\n",
              "      <td>NaN</td>\n",
              "      <td>NaN</td>\n",
              "      <td>NaN</td>\n",
              "      <td>NaN</td>\n",
              "      <td>NaN</td>\n",
              "      <td>NaN</td>\n",
              "      <td>NaN</td>\n",
              "      <td>NaN</td>\n",
              "      <td>NaN</td>\n",
              "      <td>NaN</td>\n",
              "      <td>NaN</td>\n",
              "      <td>NaN</td>\n",
              "      <td>NaN</td>\n",
              "      <td>NaN</td>\n",
              "      <td>NaN</td>\n",
              "      <td>NaN</td>\n",
              "      <td>NaN</td>\n",
              "      <td>NaN</td>\n",
              "      <td>NaN</td>\n",
              "      <td>NaN</td>\n",
              "      <td>NaN</td>\n",
              "      <td>NaN</td>\n",
              "      <td>NaN</td>\n",
              "      <td>NaN</td>\n",
              "      <td>NaN</td>\n",
              "      <td>NaN</td>\n",
              "      <td>NaN</td>\n",
              "      <td>NaN</td>\n",
              "      <td>NaN</td>\n",
              "      <td>Somewhat important</td>\n",
              "      <td>NaN</td>\n",
              "      <td>NaN</td>\n",
              "    </tr>\n",
              "    <tr>\n",
              "      <th>2</th>\n",
              "      <td>Male</td>\n",
              "      <td>Canada</td>\n",
              "      <td>28.0</td>\n",
              "      <td>Not employed, but looking for work</td>\n",
              "      <td>NaN</td>\n",
              "      <td>NaN</td>\n",
              "      <td>NaN</td>\n",
              "      <td>NaN</td>\n",
              "      <td>NaN</td>\n",
              "      <td>NaN</td>\n",
              "      <td>NaN</td>\n",
              "      <td>Amazon Web services</td>\n",
              "      <td>Deep learning</td>\n",
              "      <td>R</td>\n",
              "      <td>Dataset aggregator/platform (i.e. Socrata/Kagg...</td>\n",
              "      <td>Arxiv,College/University,Kaggle,Online courses...</td>\n",
              "      <td>Very useful</td>\n",
              "      <td>NaN</td>\n",
              "      <td>Somewhat useful</td>\n",
              "      <td>NaN</td>\n",
              "      <td>NaN</td>\n",
              "      <td>NaN</td>\n",
              "      <td>Somewhat useful</td>\n",
              "      <td>NaN</td>\n",
              "      <td>NaN</td>\n",
              "      <td>NaN</td>\n",
              "      <td>Very useful</td>\n",
              "      <td>NaN</td>\n",
              "      <td>NaN</td>\n",
              "      <td>NaN</td>\n",
              "      <td>NaN</td>\n",
              "      <td>NaN</td>\n",
              "      <td>NaN</td>\n",
              "      <td>Very useful</td>\n",
              "      <td>FastML Blog,No Free Hunch Blog,Talking Machine...</td>\n",
              "      <td>1-2 years</td>\n",
              "      <td>Necessary</td>\n",
              "      <td>NaN</td>\n",
              "      <td>NaN</td>\n",
              "      <td>NaN</td>\n",
              "      <td>...</td>\n",
              "      <td>NaN</td>\n",
              "      <td>NaN</td>\n",
              "      <td>NaN</td>\n",
              "      <td>NaN</td>\n",
              "      <td>NaN</td>\n",
              "      <td>NaN</td>\n",
              "      <td>NaN</td>\n",
              "      <td>NaN</td>\n",
              "      <td>NaN</td>\n",
              "      <td>NaN</td>\n",
              "      <td>NaN</td>\n",
              "      <td>NaN</td>\n",
              "      <td>NaN</td>\n",
              "      <td>NaN</td>\n",
              "      <td>NaN</td>\n",
              "      <td>NaN</td>\n",
              "      <td>NaN</td>\n",
              "      <td>NaN</td>\n",
              "      <td>NaN</td>\n",
              "      <td>NaN</td>\n",
              "      <td>NaN</td>\n",
              "      <td>NaN</td>\n",
              "      <td>Asking friends, family members, or former coll...</td>\n",
              "      <td>1-2</td>\n",
              "      <td>Very Important</td>\n",
              "      <td>Very Important</td>\n",
              "      <td>Very Important</td>\n",
              "      <td>Very Important</td>\n",
              "      <td>Very Important</td>\n",
              "      <td>Very Important</td>\n",
              "      <td>Very Important</td>\n",
              "      <td>Very Important</td>\n",
              "      <td>Very Important</td>\n",
              "      <td>Very Important</td>\n",
              "      <td>Very Important</td>\n",
              "      <td>Very Important</td>\n",
              "      <td>Very Important</td>\n",
              "      <td>Very Important</td>\n",
              "      <td>Very Important</td>\n",
              "      <td>Very Important</td>\n",
              "    </tr>\n",
              "    <tr>\n",
              "      <th>3</th>\n",
              "      <td>Male</td>\n",
              "      <td>United States</td>\n",
              "      <td>56.0</td>\n",
              "      <td>Independent contractor, freelancer, or self-em...</td>\n",
              "      <td>NaN</td>\n",
              "      <td>NaN</td>\n",
              "      <td>Yes</td>\n",
              "      <td>NaN</td>\n",
              "      <td>Operations Research Practitioner</td>\n",
              "      <td>Poorly</td>\n",
              "      <td>Self-employed</td>\n",
              "      <td>TensorFlow</td>\n",
              "      <td>Neural Nets</td>\n",
              "      <td>Python</td>\n",
              "      <td>I collect my own data (e.g. web-scraping)</td>\n",
              "      <td>Blogs,College/University,Conferences,Friends n...</td>\n",
              "      <td>NaN</td>\n",
              "      <td>Very useful</td>\n",
              "      <td>Very useful</td>\n",
              "      <td>NaN</td>\n",
              "      <td>Very useful</td>\n",
              "      <td>Very useful</td>\n",
              "      <td>NaN</td>\n",
              "      <td>NaN</td>\n",
              "      <td>NaN</td>\n",
              "      <td>Very useful</td>\n",
              "      <td>Very useful</td>\n",
              "      <td>Very useful</td>\n",
              "      <td>NaN</td>\n",
              "      <td>NaN</td>\n",
              "      <td>NaN</td>\n",
              "      <td>NaN</td>\n",
              "      <td>NaN</td>\n",
              "      <td>NaN</td>\n",
              "      <td>KDnuggets Blog</td>\n",
              "      <td>NaN</td>\n",
              "      <td>NaN</td>\n",
              "      <td>NaN</td>\n",
              "      <td>NaN</td>\n",
              "      <td>NaN</td>\n",
              "      <td>...</td>\n",
              "      <td>NaN</td>\n",
              "      <td>Often</td>\n",
              "      <td>Often</td>\n",
              "      <td>Often</td>\n",
              "      <td>Often</td>\n",
              "      <td>Often</td>\n",
              "      <td>Often</td>\n",
              "      <td>NaN</td>\n",
              "      <td>100% of projects</td>\n",
              "      <td>Entirely internal</td>\n",
              "      <td>Standalone Team</td>\n",
              "      <td>Electricity data sets from government and states</td>\n",
              "      <td>Everything is custom, there is never a tool th...</td>\n",
              "      <td>Column-oriented relational (e.g. KDB/MariaDB),...</td>\n",
              "      <td>Company Developed Platform,Email</td>\n",
              "      <td>NaN</td>\n",
              "      <td>Generic cloud file sharing software (Dropbox/B...</td>\n",
              "      <td>NaN</td>\n",
              "      <td>250,000</td>\n",
              "      <td>USD</td>\n",
              "      <td>Has increased 20% or more</td>\n",
              "      <td>10 - Highly Satisfied</td>\n",
              "      <td>NaN</td>\n",
              "      <td>NaN</td>\n",
              "      <td>NaN</td>\n",
              "      <td>NaN</td>\n",
              "      <td>NaN</td>\n",
              "      <td>NaN</td>\n",
              "      <td>NaN</td>\n",
              "      <td>NaN</td>\n",
              "      <td>NaN</td>\n",
              "      <td>NaN</td>\n",
              "      <td>NaN</td>\n",
              "      <td>NaN</td>\n",
              "      <td>NaN</td>\n",
              "      <td>NaN</td>\n",
              "      <td>NaN</td>\n",
              "      <td>NaN</td>\n",
              "      <td>NaN</td>\n",
              "      <td>NaN</td>\n",
              "    </tr>\n",
              "    <tr>\n",
              "      <th>4</th>\n",
              "      <td>Male</td>\n",
              "      <td>Taiwan</td>\n",
              "      <td>38.0</td>\n",
              "      <td>Employed full-time</td>\n",
              "      <td>NaN</td>\n",
              "      <td>NaN</td>\n",
              "      <td>Yes</td>\n",
              "      <td>NaN</td>\n",
              "      <td>Computer Scientist</td>\n",
              "      <td>Fine</td>\n",
              "      <td>Employed by a company that doesn't perform adv...</td>\n",
              "      <td>TensorFlow</td>\n",
              "      <td>Text Mining</td>\n",
              "      <td>Python</td>\n",
              "      <td>GitHub</td>\n",
              "      <td>Arxiv,Conferences,Kaggle,Textbook</td>\n",
              "      <td>Very useful</td>\n",
              "      <td>NaN</td>\n",
              "      <td>NaN</td>\n",
              "      <td>NaN</td>\n",
              "      <td>Somewhat useful</td>\n",
              "      <td>NaN</td>\n",
              "      <td>Somewhat useful</td>\n",
              "      <td>NaN</td>\n",
              "      <td>NaN</td>\n",
              "      <td>NaN</td>\n",
              "      <td>NaN</td>\n",
              "      <td>NaN</td>\n",
              "      <td>NaN</td>\n",
              "      <td>NaN</td>\n",
              "      <td>Somewhat useful</td>\n",
              "      <td>NaN</td>\n",
              "      <td>NaN</td>\n",
              "      <td>NaN</td>\n",
              "      <td>Data Machina Newsletter,Jack's Import AI Newsl...</td>\n",
              "      <td>NaN</td>\n",
              "      <td>NaN</td>\n",
              "      <td>NaN</td>\n",
              "      <td>NaN</td>\n",
              "      <td>NaN</td>\n",
              "      <td>...</td>\n",
              "      <td>Sometimes</td>\n",
              "      <td>NaN</td>\n",
              "      <td>Most of the time</td>\n",
              "      <td>NaN</td>\n",
              "      <td>Sometimes</td>\n",
              "      <td>NaN</td>\n",
              "      <td>NaN</td>\n",
              "      <td>NaN</td>\n",
              "      <td>10-25% of projects</td>\n",
              "      <td>Approximately half internal and half external</td>\n",
              "      <td>Business Department</td>\n",
              "      <td>NaN</td>\n",
              "      <td>NaN</td>\n",
              "      <td>Flat files not in a database or cache (e.g. CS...</td>\n",
              "      <td>Company Developed Platform</td>\n",
              "      <td>NaN</td>\n",
              "      <td>Git</td>\n",
              "      <td>Rarely</td>\n",
              "      <td>NaN</td>\n",
              "      <td>NaN</td>\n",
              "      <td>I do not want to share information about my sa...</td>\n",
              "      <td>2</td>\n",
              "      <td>NaN</td>\n",
              "      <td>NaN</td>\n",
              "      <td>NaN</td>\n",
              "      <td>NaN</td>\n",
              "      <td>NaN</td>\n",
              "      <td>NaN</td>\n",
              "      <td>NaN</td>\n",
              "      <td>NaN</td>\n",
              "      <td>NaN</td>\n",
              "      <td>NaN</td>\n",
              "      <td>NaN</td>\n",
              "      <td>NaN</td>\n",
              "      <td>NaN</td>\n",
              "      <td>NaN</td>\n",
              "      <td>NaN</td>\n",
              "      <td>NaN</td>\n",
              "      <td>NaN</td>\n",
              "      <td>NaN</td>\n",
              "    </tr>\n",
              "    <tr>\n",
              "      <th>5</th>\n",
              "      <td>Male</td>\n",
              "      <td>Brazil</td>\n",
              "      <td>46.0</td>\n",
              "      <td>Employed full-time</td>\n",
              "      <td>NaN</td>\n",
              "      <td>NaN</td>\n",
              "      <td>Yes</td>\n",
              "      <td>NaN</td>\n",
              "      <td>Data Scientist</td>\n",
              "      <td>Fine</td>\n",
              "      <td>Employed by college or university</td>\n",
              "      <td>TensorFlow</td>\n",
              "      <td>Genetic &amp; Evolutionary Algorithms</td>\n",
              "      <td>Python</td>\n",
              "      <td>Dataset aggregator/platform (i.e. Socrata/Kagg...</td>\n",
              "      <td>Kaggle,Online courses,Stack Overflow Q&amp;A,Textbook</td>\n",
              "      <td>NaN</td>\n",
              "      <td>NaN</td>\n",
              "      <td>NaN</td>\n",
              "      <td>NaN</td>\n",
              "      <td>NaN</td>\n",
              "      <td>NaN</td>\n",
              "      <td>Very useful</td>\n",
              "      <td>NaN</td>\n",
              "      <td>NaN</td>\n",
              "      <td>NaN</td>\n",
              "      <td>Very useful</td>\n",
              "      <td>NaN</td>\n",
              "      <td>NaN</td>\n",
              "      <td>Very useful</td>\n",
              "      <td>Very useful</td>\n",
              "      <td>NaN</td>\n",
              "      <td>NaN</td>\n",
              "      <td>NaN</td>\n",
              "      <td>Other (Separate different answers with semicolon)</td>\n",
              "      <td>NaN</td>\n",
              "      <td>NaN</td>\n",
              "      <td>NaN</td>\n",
              "      <td>NaN</td>\n",
              "      <td>NaN</td>\n",
              "      <td>...</td>\n",
              "      <td>NaN</td>\n",
              "      <td>NaN</td>\n",
              "      <td>NaN</td>\n",
              "      <td>NaN</td>\n",
              "      <td>NaN</td>\n",
              "      <td>NaN</td>\n",
              "      <td>NaN</td>\n",
              "      <td>NaN</td>\n",
              "      <td>76-99% of projects</td>\n",
              "      <td>More internal than external</td>\n",
              "      <td>Other</td>\n",
              "      <td>NaN</td>\n",
              "      <td>NaN</td>\n",
              "      <td>Column-oriented relational (e.g. KDB/MariaDB),...</td>\n",
              "      <td>I don't typically share data</td>\n",
              "      <td>NaN</td>\n",
              "      <td>Bitbucket,Git,Other</td>\n",
              "      <td>Sometimes</td>\n",
              "      <td>NaN</td>\n",
              "      <td>NaN</td>\n",
              "      <td>I do not want to share information about my sa...</td>\n",
              "      <td>8</td>\n",
              "      <td>NaN</td>\n",
              "      <td>NaN</td>\n",
              "      <td>NaN</td>\n",
              "      <td>NaN</td>\n",
              "      <td>NaN</td>\n",
              "      <td>NaN</td>\n",
              "      <td>NaN</td>\n",
              "      <td>NaN</td>\n",
              "      <td>NaN</td>\n",
              "      <td>NaN</td>\n",
              "      <td>NaN</td>\n",
              "      <td>NaN</td>\n",
              "      <td>NaN</td>\n",
              "      <td>NaN</td>\n",
              "      <td>NaN</td>\n",
              "      <td>NaN</td>\n",
              "      <td>NaN</td>\n",
              "      <td>NaN</td>\n",
              "    </tr>\n",
              "    <tr>\n",
              "      <th>6</th>\n",
              "      <td>Male</td>\n",
              "      <td>United States</td>\n",
              "      <td>35.0</td>\n",
              "      <td>Employed full-time</td>\n",
              "      <td>NaN</td>\n",
              "      <td>NaN</td>\n",
              "      <td>Yes</td>\n",
              "      <td>NaN</td>\n",
              "      <td>Computer Scientist</td>\n",
              "      <td>Fine</td>\n",
              "      <td>Employed by government</td>\n",
              "      <td>TensorFlow</td>\n",
              "      <td>Text Mining</td>\n",
              "      <td>R</td>\n",
              "      <td>Dataset aggregator/platform (i.e. Socrata/Kagg...</td>\n",
              "      <td>Arxiv,Blogs,Kaggle,Personal Projects,Textbook</td>\n",
              "      <td>Somewhat useful</td>\n",
              "      <td>Somewhat useful</td>\n",
              "      <td>NaN</td>\n",
              "      <td>NaN</td>\n",
              "      <td>NaN</td>\n",
              "      <td>NaN</td>\n",
              "      <td>Somewhat useful</td>\n",
              "      <td>NaN</td>\n",
              "      <td>NaN</td>\n",
              "      <td>NaN</td>\n",
              "      <td>NaN</td>\n",
              "      <td>Somewhat useful</td>\n",
              "      <td>NaN</td>\n",
              "      <td>NaN</td>\n",
              "      <td>Very useful</td>\n",
              "      <td>NaN</td>\n",
              "      <td>NaN</td>\n",
              "      <td>NaN</td>\n",
              "      <td>NaN</td>\n",
              "      <td>NaN</td>\n",
              "      <td>NaN</td>\n",
              "      <td>NaN</td>\n",
              "      <td>NaN</td>\n",
              "      <td>NaN</td>\n",
              "      <td>...</td>\n",
              "      <td>NaN</td>\n",
              "      <td>NaN</td>\n",
              "      <td>NaN</td>\n",
              "      <td>NaN</td>\n",
              "      <td>NaN</td>\n",
              "      <td>NaN</td>\n",
              "      <td>NaN</td>\n",
              "      <td>NaN</td>\n",
              "      <td>26-50% of projects</td>\n",
              "      <td>Entirely internal</td>\n",
              "      <td>IT Department</td>\n",
              "      <td>NaN</td>\n",
              "      <td>NaN</td>\n",
              "      <td>Flat files not in a database or cache (e.g. CS...</td>\n",
              "      <td>Company Developed Platform,Email</td>\n",
              "      <td>NaN</td>\n",
              "      <td>Bitbucket,Git</td>\n",
              "      <td>NaN</td>\n",
              "      <td>NaN</td>\n",
              "      <td>NaN</td>\n",
              "      <td>NaN</td>\n",
              "      <td>8</td>\n",
              "      <td>NaN</td>\n",
              "      <td>NaN</td>\n",
              "      <td>NaN</td>\n",
              "      <td>NaN</td>\n",
              "      <td>NaN</td>\n",
              "      <td>NaN</td>\n",
              "      <td>NaN</td>\n",
              "      <td>NaN</td>\n",
              "      <td>NaN</td>\n",
              "      <td>NaN</td>\n",
              "      <td>NaN</td>\n",
              "      <td>NaN</td>\n",
              "      <td>NaN</td>\n",
              "      <td>NaN</td>\n",
              "      <td>NaN</td>\n",
              "      <td>NaN</td>\n",
              "      <td>NaN</td>\n",
              "      <td>NaN</td>\n",
              "    </tr>\n",
              "    <tr>\n",
              "      <th>7</th>\n",
              "      <td>Female</td>\n",
              "      <td>India</td>\n",
              "      <td>22.0</td>\n",
              "      <td>Employed full-time</td>\n",
              "      <td>NaN</td>\n",
              "      <td>NaN</td>\n",
              "      <td>No</td>\n",
              "      <td>Yes</td>\n",
              "      <td>Software Developer/Software Engineer</td>\n",
              "      <td>Fine</td>\n",
              "      <td>Employed by professional services/consulting firm</td>\n",
              "      <td>Google Cloud Compute</td>\n",
              "      <td>Deep learning</td>\n",
              "      <td>SQL</td>\n",
              "      <td>Dataset aggregator/platform (i.e. Socrata/Kagg...</td>\n",
              "      <td>College/University,Kaggle,Online courses,Stack...</td>\n",
              "      <td>NaN</td>\n",
              "      <td>NaN</td>\n",
              "      <td>Very useful</td>\n",
              "      <td>NaN</td>\n",
              "      <td>NaN</td>\n",
              "      <td>NaN</td>\n",
              "      <td>Very useful</td>\n",
              "      <td>NaN</td>\n",
              "      <td>NaN</td>\n",
              "      <td>NaN</td>\n",
              "      <td>Very useful</td>\n",
              "      <td>NaN</td>\n",
              "      <td>NaN</td>\n",
              "      <td>Very useful</td>\n",
              "      <td>NaN</td>\n",
              "      <td>NaN</td>\n",
              "      <td>NaN</td>\n",
              "      <td>Very useful</td>\n",
              "      <td>Becoming a Data Scientist Podcast,Siraj Raval ...</td>\n",
              "      <td>1-2 years</td>\n",
              "      <td>Necessary</td>\n",
              "      <td>Nice to have</td>\n",
              "      <td>Nice to have</td>\n",
              "      <td>Nice to have</td>\n",
              "      <td>...</td>\n",
              "      <td>NaN</td>\n",
              "      <td>NaN</td>\n",
              "      <td>NaN</td>\n",
              "      <td>NaN</td>\n",
              "      <td>NaN</td>\n",
              "      <td>NaN</td>\n",
              "      <td>NaN</td>\n",
              "      <td>NaN</td>\n",
              "      <td>NaN</td>\n",
              "      <td>NaN</td>\n",
              "      <td>NaN</td>\n",
              "      <td>NaN</td>\n",
              "      <td>NaN</td>\n",
              "      <td>NaN</td>\n",
              "      <td>NaN</td>\n",
              "      <td>NaN</td>\n",
              "      <td>NaN</td>\n",
              "      <td>NaN</td>\n",
              "      <td>NaN</td>\n",
              "      <td>NaN</td>\n",
              "      <td>NaN</td>\n",
              "      <td>NaN</td>\n",
              "      <td>Career fair or on-campus recruiting event</td>\n",
              "      <td>1-2</td>\n",
              "      <td>Very Important</td>\n",
              "      <td>Very Important</td>\n",
              "      <td>Very Important</td>\n",
              "      <td>Very Important</td>\n",
              "      <td>Very Important</td>\n",
              "      <td>Very Important</td>\n",
              "      <td>Very Important</td>\n",
              "      <td>Somewhat important</td>\n",
              "      <td>Very Important</td>\n",
              "      <td>Somewhat important</td>\n",
              "      <td>Somewhat important</td>\n",
              "      <td>Not important</td>\n",
              "      <td>Very Important</td>\n",
              "      <td>Very Important</td>\n",
              "      <td>Somewhat important</td>\n",
              "      <td>Somewhat important</td>\n",
              "    </tr>\n",
              "    <tr>\n",
              "      <th>8</th>\n",
              "      <td>Female</td>\n",
              "      <td>Australia</td>\n",
              "      <td>43.0</td>\n",
              "      <td>Employed full-time</td>\n",
              "      <td>NaN</td>\n",
              "      <td>NaN</td>\n",
              "      <td>Yes</td>\n",
              "      <td>NaN</td>\n",
              "      <td>Business Analyst</td>\n",
              "      <td>Fine</td>\n",
              "      <td>Employed by non-profit or NGO</td>\n",
              "      <td>Microsoft Excel Data Mining</td>\n",
              "      <td>Link Analysis</td>\n",
              "      <td>Python</td>\n",
              "      <td>University/Non-profit research group websites</td>\n",
              "      <td>Blogs,Company internal community,Conferences,F...</td>\n",
              "      <td>NaN</td>\n",
              "      <td>Very useful</td>\n",
              "      <td>NaN</td>\n",
              "      <td>Very useful</td>\n",
              "      <td>Very useful</td>\n",
              "      <td>Very useful</td>\n",
              "      <td>Very useful</td>\n",
              "      <td>Very useful</td>\n",
              "      <td>Very useful</td>\n",
              "      <td>NaN</td>\n",
              "      <td>Very useful</td>\n",
              "      <td>NaN</td>\n",
              "      <td>NaN</td>\n",
              "      <td>NaN</td>\n",
              "      <td>NaN</td>\n",
              "      <td>NaN</td>\n",
              "      <td>NaN</td>\n",
              "      <td>Very useful</td>\n",
              "      <td>Becoming a Data Scientist Podcast,Data Elixir ...</td>\n",
              "      <td>NaN</td>\n",
              "      <td>NaN</td>\n",
              "      <td>NaN</td>\n",
              "      <td>NaN</td>\n",
              "      <td>NaN</td>\n",
              "      <td>...</td>\n",
              "      <td>NaN</td>\n",
              "      <td>NaN</td>\n",
              "      <td>NaN</td>\n",
              "      <td>NaN</td>\n",
              "      <td>NaN</td>\n",
              "      <td>NaN</td>\n",
              "      <td>NaN</td>\n",
              "      <td>NaN</td>\n",
              "      <td>Less than 10% of projects</td>\n",
              "      <td>Entirely internal</td>\n",
              "      <td>IT Department</td>\n",
              "      <td>NaN</td>\n",
              "      <td>NaN</td>\n",
              "      <td>Row-oriented relational (e.g. MySQL/Microsoft ...</td>\n",
              "      <td>I don't typically share data,Share Drive/Share...</td>\n",
              "      <td>NaN</td>\n",
              "      <td>Generic non-cloud file sharing software (Email...</td>\n",
              "      <td>Rarely</td>\n",
              "      <td>80000</td>\n",
              "      <td>AUD</td>\n",
              "      <td>Has stayed about the same (has not increased o...</td>\n",
              "      <td>7</td>\n",
              "      <td>NaN</td>\n",
              "      <td>NaN</td>\n",
              "      <td>NaN</td>\n",
              "      <td>NaN</td>\n",
              "      <td>NaN</td>\n",
              "      <td>NaN</td>\n",
              "      <td>NaN</td>\n",
              "      <td>NaN</td>\n",
              "      <td>NaN</td>\n",
              "      <td>NaN</td>\n",
              "      <td>NaN</td>\n",
              "      <td>NaN</td>\n",
              "      <td>NaN</td>\n",
              "      <td>NaN</td>\n",
              "      <td>NaN</td>\n",
              "      <td>NaN</td>\n",
              "      <td>NaN</td>\n",
              "      <td>NaN</td>\n",
              "    </tr>\n",
              "    <tr>\n",
              "      <th>9</th>\n",
              "      <td>Male</td>\n",
              "      <td>Russia</td>\n",
              "      <td>33.0</td>\n",
              "      <td>Employed full-time</td>\n",
              "      <td>NaN</td>\n",
              "      <td>NaN</td>\n",
              "      <td>Yes</td>\n",
              "      <td>NaN</td>\n",
              "      <td>Software Developer/Software Engineer</td>\n",
              "      <td>Fine</td>\n",
              "      <td>Employed by a company that doesn't perform adv...</td>\n",
              "      <td>C/C++</td>\n",
              "      <td>Deep learning</td>\n",
              "      <td>Python</td>\n",
              "      <td>Dataset aggregator/platform (i.e. Socrata/Kagg...</td>\n",
              "      <td>Arxiv,Blogs,Conferences,Kaggle,Non-Kaggle onli...</td>\n",
              "      <td>Somewhat useful</td>\n",
              "      <td>Somewhat useful</td>\n",
              "      <td>NaN</td>\n",
              "      <td>NaN</td>\n",
              "      <td>Somewhat useful</td>\n",
              "      <td>NaN</td>\n",
              "      <td>Somewhat useful</td>\n",
              "      <td>NaN</td>\n",
              "      <td>Somewhat useful</td>\n",
              "      <td>Very useful</td>\n",
              "      <td>Very useful</td>\n",
              "      <td>Very useful</td>\n",
              "      <td>Somewhat useful</td>\n",
              "      <td>Somewhat useful</td>\n",
              "      <td>Very useful</td>\n",
              "      <td>NaN</td>\n",
              "      <td>NaN</td>\n",
              "      <td>Somewhat useful</td>\n",
              "      <td>DataTau News Aggregator,KDnuggets Blog,No Free...</td>\n",
              "      <td>NaN</td>\n",
              "      <td>NaN</td>\n",
              "      <td>NaN</td>\n",
              "      <td>NaN</td>\n",
              "      <td>NaN</td>\n",
              "      <td>...</td>\n",
              "      <td>NaN</td>\n",
              "      <td>Sometimes</td>\n",
              "      <td>Rarely</td>\n",
              "      <td>Rarely</td>\n",
              "      <td>NaN</td>\n",
              "      <td>NaN</td>\n",
              "      <td>NaN</td>\n",
              "      <td>NaN</td>\n",
              "      <td>Less than 10% of projects</td>\n",
              "      <td>Do not know</td>\n",
              "      <td>IT Department</td>\n",
              "      <td>Address database; geo data</td>\n",
              "      <td>NaN</td>\n",
              "      <td>Document-oriented (e.g. MongoDB/Elasticsearch)...</td>\n",
              "      <td>I don't typically share data</td>\n",
              "      <td>NaN</td>\n",
              "      <td>Bitbucket,Git</td>\n",
              "      <td>Rarely</td>\n",
              "      <td>1200000</td>\n",
              "      <td>RUB</td>\n",
              "      <td>Has increased between 6% and 19%</td>\n",
              "      <td>7</td>\n",
              "      <td>NaN</td>\n",
              "      <td>NaN</td>\n",
              "      <td>NaN</td>\n",
              "      <td>NaN</td>\n",
              "      <td>NaN</td>\n",
              "      <td>NaN</td>\n",
              "      <td>NaN</td>\n",
              "      <td>NaN</td>\n",
              "      <td>NaN</td>\n",
              "      <td>NaN</td>\n",
              "      <td>NaN</td>\n",
              "      <td>NaN</td>\n",
              "      <td>NaN</td>\n",
              "      <td>NaN</td>\n",
              "      <td>NaN</td>\n",
              "      <td>NaN</td>\n",
              "      <td>NaN</td>\n",
              "      <td>NaN</td>\n",
              "    </tr>\n",
              "  </tbody>\n",
              "</table>\n",
              "<p>10 rows × 228 columns</p>\n",
              "</div>"
            ],
            "text/plain": [
              "                                        GenderSelect  ... JobFactorPublishingOpportunity\n",
              "0  Non-binary, genderqueer, or gender non-conforming  ...                            NaN\n",
              "1                                             Female  ...                            NaN\n",
              "2                                               Male  ...                 Very Important\n",
              "3                                               Male  ...                            NaN\n",
              "4                                               Male  ...                            NaN\n",
              "5                                               Male  ...                            NaN\n",
              "6                                               Male  ...                            NaN\n",
              "7                                             Female  ...             Somewhat important\n",
              "8                                             Female  ...                            NaN\n",
              "9                                               Male  ...                            NaN\n",
              "\n",
              "[10 rows x 228 columns]"
            ]
          },
          "metadata": {
            "tags": []
          },
          "execution_count": 8
        }
      ]
    },
    {
      "cell_type": "code",
      "metadata": {
        "id": "AOt_A4uBzZFL",
        "colab_type": "code",
        "colab": {
          "base_uri": "https://localhost:8080/",
          "height": 333
        },
        "outputId": "131263d3-a335-4688-d949-93322a19a29b"
      },
      "source": [
        "import missingno as msno\n",
        "msno.matrix(mcq, figsize=(12,5))"
      ],
      "execution_count": null,
      "outputs": [
        {
          "output_type": "execute_result",
          "data": {
            "text/plain": [
              "<matplotlib.axes._subplots.AxesSubplot at 0x7f097cbeeac8>"
            ]
          },
          "metadata": {
            "tags": []
          },
          "execution_count": 9
        },
        {
          "output_type": "display_data",
          "data": {
            "image/png": "[encoded data removed]",
            "text/plain": [
              "<Figure size 864x360 with 2 Axes>"
            ]
          },
          "metadata": {
            "tags": [],
            "needs_background": "light"
          }
        }
      ]
    },
    {
      "cell_type": "code",
      "metadata": {
        "id": "3IFLerK5zomU",
        "colab_type": "code",
        "colab": {
          "base_uri": "https://localhost:8080/",
          "height": 298
        },
        "outputId": "164f9ffd-8597-40aa-c93b-750e76e3eafb"
      },
      "source": [
        "#성별\n",
        "sns.countplot(y='GenderSelect', data=mcq)"
      ],
      "execution_count": null,
      "outputs": [
        {
          "output_type": "execute_result",
          "data": {
            "text/plain": [
              "<matplotlib.axes._subplots.AxesSubplot at 0x7f0979fe4518>"
            ]
          },
          "metadata": {
            "tags": []
          },
          "execution_count": 10
        },
        {
          "output_type": "display_data",
          "data": {
            "image/png": "[encoded data removed]",
            "text/plain": [
              "<Figure size 432x288 with 1 Axes>"
            ]
          },
          "metadata": {
            "tags": [],
            "needs_background": "light"
          }
        }
      ]
    },
    {
      "cell_type": "code",
      "metadata": {
        "id": "_7PzDQTmz2wZ",
        "colab_type": "code",
        "colab": {
          "base_uri": "https://localhost:8080/",
          "height": 662
        },
        "outputId": "de7a8224-9aaf-4f55-e787-a1073a184e40"
      },
      "source": [
        "# 국가별 응답 수\n",
        "con_df=pd.DataFrame(mcq['Country'].value_counts())\n",
        "con_df['국가']=con_df.index\n",
        "con_df.columns=['응답 수','국가']\n",
        "con_df=con_df.reset_index().drop('index', axis=1)\n",
        "con_df.head(20)"
      ],
      "execution_count": null,
      "outputs": [
        {
          "output_type": "execute_result",
          "data": {
            "text/html": [
              "<div>\n",
              "<style scoped>\n",
              "    .dataframe tbody tr th:only-of-type {\n",
              "        vertical-align: middle;\n",
              "    }\n",
              "\n",
              "    .dataframe tbody tr th {\n",
              "        vertical-align: top;\n",
              "    }\n",
              "\n",
              "    .dataframe thead th {\n",
              "        text-align: right;\n",
              "    }\n",
              "</style>\n",
              "<table border=\"1\" class=\"dataframe\">\n",
              "  <thead>\n",
              "    <tr style=\"text-align: right;\">\n",
              "      <th></th>\n",
              "      <th>응답 수</th>\n",
              "      <th>국가</th>\n",
              "    </tr>\n",
              "  </thead>\n",
              "  <tbody>\n",
              "    <tr>\n",
              "      <th>0</th>\n",
              "      <td>4197</td>\n",
              "      <td>United States</td>\n",
              "    </tr>\n",
              "    <tr>\n",
              "      <th>1</th>\n",
              "      <td>2704</td>\n",
              "      <td>India</td>\n",
              "    </tr>\n",
              "    <tr>\n",
              "      <th>2</th>\n",
              "      <td>1023</td>\n",
              "      <td>Other</td>\n",
              "    </tr>\n",
              "    <tr>\n",
              "      <th>3</th>\n",
              "      <td>578</td>\n",
              "      <td>Russia</td>\n",
              "    </tr>\n",
              "    <tr>\n",
              "      <th>4</th>\n",
              "      <td>535</td>\n",
              "      <td>United Kingdom</td>\n",
              "    </tr>\n",
              "    <tr>\n",
              "      <th>5</th>\n",
              "      <td>471</td>\n",
              "      <td>People 's Republic of China</td>\n",
              "    </tr>\n",
              "    <tr>\n",
              "      <th>6</th>\n",
              "      <td>465</td>\n",
              "      <td>Brazil</td>\n",
              "    </tr>\n",
              "    <tr>\n",
              "      <th>7</th>\n",
              "      <td>460</td>\n",
              "      <td>Germany</td>\n",
              "    </tr>\n",
              "    <tr>\n",
              "      <th>8</th>\n",
              "      <td>442</td>\n",
              "      <td>France</td>\n",
              "    </tr>\n",
              "    <tr>\n",
              "      <th>9</th>\n",
              "      <td>440</td>\n",
              "      <td>Canada</td>\n",
              "    </tr>\n",
              "    <tr>\n",
              "      <th>10</th>\n",
              "      <td>421</td>\n",
              "      <td>Australia</td>\n",
              "    </tr>\n",
              "    <tr>\n",
              "      <th>11</th>\n",
              "      <td>320</td>\n",
              "      <td>Spain</td>\n",
              "    </tr>\n",
              "    <tr>\n",
              "      <th>12</th>\n",
              "      <td>277</td>\n",
              "      <td>Japan</td>\n",
              "    </tr>\n",
              "    <tr>\n",
              "      <th>13</th>\n",
              "      <td>254</td>\n",
              "      <td>Taiwan</td>\n",
              "    </tr>\n",
              "    <tr>\n",
              "      <th>14</th>\n",
              "      <td>238</td>\n",
              "      <td>Italy</td>\n",
              "    </tr>\n",
              "    <tr>\n",
              "      <th>15</th>\n",
              "      <td>205</td>\n",
              "      <td>Netherlands</td>\n",
              "    </tr>\n",
              "    <tr>\n",
              "      <th>16</th>\n",
              "      <td>196</td>\n",
              "      <td>Ukraine</td>\n",
              "    </tr>\n",
              "    <tr>\n",
              "      <th>17</th>\n",
              "      <td>194</td>\n",
              "      <td>South Korea</td>\n",
              "    </tr>\n",
              "    <tr>\n",
              "      <th>18</th>\n",
              "      <td>184</td>\n",
              "      <td>Singapore</td>\n",
              "    </tr>\n",
              "    <tr>\n",
              "      <th>19</th>\n",
              "      <td>184</td>\n",
              "      <td>Poland</td>\n",
              "    </tr>\n",
              "  </tbody>\n",
              "</table>\n",
              "</div>"
            ],
            "text/plain": [
              "    응답 수                           국가\n",
              "0   4197                United States\n",
              "1   2704                        India\n",
              "2   1023                        Other\n",
              "3    578                       Russia\n",
              "4    535               United Kingdom\n",
              "5    471  People 's Republic of China\n",
              "6    465                       Brazil\n",
              "7    460                      Germany\n",
              "8    442                       France\n",
              "9    440                       Canada\n",
              "10   421                    Australia\n",
              "11   320                        Spain\n",
              "12   277                        Japan\n",
              "13   254                       Taiwan\n",
              "14   238                        Italy\n",
              "15   205                  Netherlands\n",
              "16   196                      Ukraine\n",
              "17   194                  South Korea\n",
              "18   184                    Singapore\n",
              "19   184                       Poland"
            ]
          },
          "metadata": {
            "tags": []
          },
          "execution_count": 11
        }
      ]
    },
    {
      "cell_type": "code",
      "metadata": {
        "id": "ESH5tYXo0eXB",
        "colab_type": "code",
        "colab": {
          "base_uri": "https://localhost:8080/",
          "height": 185
        },
        "outputId": "9ab7014e-7947-47e8-f395-034f94a3020e"
      },
      "source": [
        "mcq['Age'].describe()"
      ],
      "execution_count": null,
      "outputs": [
        {
          "output_type": "execute_result",
          "data": {
            "text/plain": [
              "count    16385.000000\n",
              "mean        32.372841\n",
              "std         10.473487\n",
              "min          0.000000\n",
              "25%         25.000000\n",
              "50%         30.000000\n",
              "75%         37.000000\n",
              "max        100.000000\n",
              "Name: Age, dtype: float64"
            ]
          },
          "metadata": {
            "tags": []
          },
          "execution_count": 12
        }
      ]
    },
    {
      "cell_type": "code",
      "metadata": {
        "id": "jiaK-U0v0sU8",
        "colab_type": "code",
        "colab": {
          "base_uri": "https://localhost:8080/",
          "height": 302
        },
        "outputId": "d3b12cc1-be93-4a4a-afe7-2bf5ec98504a"
      },
      "source": [
        "sns.distplot(mcq[mcq['Age']>0]['Age'])"
      ],
      "execution_count": null,
      "outputs": [
        {
          "output_type": "execute_result",
          "data": {
            "text/plain": [
              "<matplotlib.axes._subplots.AxesSubplot at 0x7f097a0a3828>"
            ]
          },
          "metadata": {
            "tags": []
          },
          "execution_count": 13
        },
        {
          "output_type": "display_data",
          "data": {
            "image/png": "[encoded data removed]",
            "text/plain": [
              "<Figure size 432x288 with 1 Axes>"
            ]
          },
          "metadata": {
            "tags": [],
            "needs_background": "light"
          }
        }
      ]
    },
    {
      "cell_type": "code",
      "metadata": {
        "id": "u6DZWWCN02EF",
        "colab_type": "code",
        "colab": {
          "base_uri": "https://localhost:8080/",
          "height": 298
        },
        "outputId": "15884b32-03a6-4d0c-fc9b-15e015033601"
      },
      "source": [
        "sns.countplot(y='FormalEducation', data=mcq)"
      ],
      "execution_count": null,
      "outputs": [
        {
          "output_type": "execute_result",
          "data": {
            "text/plain": [
              "<matplotlib.axes._subplots.AxesSubplot at 0x7f0979ad8940>"
            ]
          },
          "metadata": {
            "tags": []
          },
          "execution_count": 14
        },
        {
          "output_type": "display_data",
          "data": {
            "image/png": "[encoded data removed]",
            "text/plain": [
              "<Figure size 432x288 with 1 Axes>"
            ]
          },
          "metadata": {
            "tags": [],
            "needs_background": "light"
          }
        }
      ]
    },
    {
      "cell_type": "code",
      "metadata": {
        "id": "6M_PC-Qm1C-E",
        "colab_type": "code",
        "colab": {
          "base_uri": "https://localhost:8080/",
          "height": 509
        },
        "outputId": "70c87f02-b616-4b7d-dc64-b5d532cccd50"
      },
      "source": [
        "#전공\n",
        "mcq_major_count=pd.DataFrame(mcq['MajorSelect'].value_counts())\n",
        "mcq_major_percent=pd.DataFrame(mcq['MajorSelect'].value_counts(normalize=True))\n",
        "mcq_major_df=mcq_major_count.merge(mcq_major_percent, left_index=True, right_index=True)\n",
        "mcq_major_df.columns=['응답 수', '비율']\n",
        "mcq_major_df"
      ],
      "execution_count": null,
      "outputs": [
        {
          "output_type": "execute_result",
          "data": {
            "text/html": [
              "<div>\n",
              "<style scoped>\n",
              "    .dataframe tbody tr th:only-of-type {\n",
              "        vertical-align: middle;\n",
              "    }\n",
              "\n",
              "    .dataframe tbody tr th {\n",
              "        vertical-align: top;\n",
              "    }\n",
              "\n",
              "    .dataframe thead th {\n",
              "        text-align: right;\n",
              "    }\n",
              "</style>\n",
              "<table border=\"1\" class=\"dataframe\">\n",
              "  <thead>\n",
              "    <tr style=\"text-align: right;\">\n",
              "      <th></th>\n",
              "      <th>응답 수</th>\n",
              "      <th>비율</th>\n",
              "    </tr>\n",
              "  </thead>\n",
              "  <tbody>\n",
              "    <tr>\n",
              "      <th>Computer Science</th>\n",
              "      <td>4397</td>\n",
              "      <td>0.331074</td>\n",
              "    </tr>\n",
              "    <tr>\n",
              "      <th>Mathematics or statistics</th>\n",
              "      <td>2220</td>\n",
              "      <td>0.167156</td>\n",
              "    </tr>\n",
              "    <tr>\n",
              "      <th>Engineering (non-computer focused)</th>\n",
              "      <td>1339</td>\n",
              "      <td>0.100821</td>\n",
              "    </tr>\n",
              "    <tr>\n",
              "      <th>Electrical Engineering</th>\n",
              "      <td>1303</td>\n",
              "      <td>0.098110</td>\n",
              "    </tr>\n",
              "    <tr>\n",
              "      <th>Other</th>\n",
              "      <td>848</td>\n",
              "      <td>0.063851</td>\n",
              "    </tr>\n",
              "    <tr>\n",
              "      <th>Physics</th>\n",
              "      <td>830</td>\n",
              "      <td>0.062495</td>\n",
              "    </tr>\n",
              "    <tr>\n",
              "      <th>Information technology, networking, or system administration</th>\n",
              "      <td>693</td>\n",
              "      <td>0.052180</td>\n",
              "    </tr>\n",
              "    <tr>\n",
              "      <th>A social science</th>\n",
              "      <td>531</td>\n",
              "      <td>0.039982</td>\n",
              "    </tr>\n",
              "    <tr>\n",
              "      <th>Biology</th>\n",
              "      <td>274</td>\n",
              "      <td>0.020631</td>\n",
              "    </tr>\n",
              "    <tr>\n",
              "      <th>Management information systems</th>\n",
              "      <td>237</td>\n",
              "      <td>0.017845</td>\n",
              "    </tr>\n",
              "    <tr>\n",
              "      <th>A humanities discipline</th>\n",
              "      <td>198</td>\n",
              "      <td>0.014909</td>\n",
              "    </tr>\n",
              "    <tr>\n",
              "      <th>A health science</th>\n",
              "      <td>152</td>\n",
              "      <td>0.011445</td>\n",
              "    </tr>\n",
              "    <tr>\n",
              "      <th>Psychology</th>\n",
              "      <td>137</td>\n",
              "      <td>0.010315</td>\n",
              "    </tr>\n",
              "    <tr>\n",
              "      <th>I never declared a major</th>\n",
              "      <td>65</td>\n",
              "      <td>0.004894</td>\n",
              "    </tr>\n",
              "    <tr>\n",
              "      <th>Fine arts or performing arts</th>\n",
              "      <td>57</td>\n",
              "      <td>0.004292</td>\n",
              "    </tr>\n",
              "  </tbody>\n",
              "</table>\n",
              "</div>"
            ],
            "text/plain": [
              "                                                    응답 수        비율\n",
              "Computer Science                                    4397  0.331074\n",
              "Mathematics or statistics                           2220  0.167156\n",
              "Engineering (non-computer focused)                  1339  0.100821\n",
              "Electrical Engineering                              1303  0.098110\n",
              "Other                                                848  0.063851\n",
              "Physics                                              830  0.062495\n",
              "Information technology, networking, or system a...   693  0.052180\n",
              "A social science                                     531  0.039982\n",
              "Biology                                              274  0.020631\n",
              "Management information systems                       237  0.017845\n",
              "A humanities discipline                              198  0.014909\n",
              "A health science                                     152  0.011445\n",
              "Psychology                                           137  0.010315\n",
              "I never declared a major                              65  0.004894\n",
              "Fine arts or performing arts                          57  0.004292"
            ]
          },
          "metadata": {
            "tags": []
          },
          "execution_count": 15
        }
      ]
    },
    {
      "cell_type": "code",
      "metadata": {
        "id": "OWQtG93o123K",
        "colab_type": "code",
        "colab": {
          "base_uri": "https://localhost:8080/",
          "height": 516
        },
        "outputId": "666bf5b2-4687-4540-debe-9a07333ee22c"
      },
      "source": [
        "plt.figure(figsize=(6,8))\n",
        "sns.countplot(y='MajorSelect', data=mcq)"
      ],
      "execution_count": null,
      "outputs": [
        {
          "output_type": "execute_result",
          "data": {
            "text/plain": [
              "<matplotlib.axes._subplots.AxesSubplot at 0x7f0979a48278>"
            ]
          },
          "metadata": {
            "tags": []
          },
          "execution_count": 16
        },
        {
          "output_type": "display_data",
          "data": {
            "image/png": "[encoded data removed]",
            "text/plain": [
              "<Figure size 432x576 with 1 Axes>"
            ]
          },
          "metadata": {
            "tags": [],
            "needs_background": "light"
          }
        }
      ]
    },
    {
      "cell_type": "code",
      "metadata": {
        "id": "HlPo12tZ2I8M",
        "colab_type": "code",
        "colab": {
          "base_uri": "https://localhost:8080/",
          "height": 263
        },
        "outputId": "960e661f-e5d7-453e-f238-2aace2940c64"
      },
      "source": [
        "#취업 여부\n",
        "mcq_es_count=pd.DataFrame(mcq['EmploymentStatus'].value_counts())\n",
        "mcq_es_percent=pd.DataFrame(mcq['EmploymentStatus'].value_counts(normalize=True))\n",
        "mcq_es_df=mcq_es_count.merge(mcq_es_percent, left_index=True, right_index=True)\n",
        "mcq_es_df.columns=['응답 수', '비율']\n",
        "mcq_es_df"
      ],
      "execution_count": null,
      "outputs": [
        {
          "output_type": "execute_result",
          "data": {
            "text/html": [
              "<div>\n",
              "<style scoped>\n",
              "    .dataframe tbody tr th:only-of-type {\n",
              "        vertical-align: middle;\n",
              "    }\n",
              "\n",
              "    .dataframe tbody tr th {\n",
              "        vertical-align: top;\n",
              "    }\n",
              "\n",
              "    .dataframe thead th {\n",
              "        text-align: right;\n",
              "    }\n",
              "</style>\n",
              "<table border=\"1\" class=\"dataframe\">\n",
              "  <thead>\n",
              "    <tr style=\"text-align: right;\">\n",
              "      <th></th>\n",
              "      <th>응답 수</th>\n",
              "      <th>비율</th>\n",
              "    </tr>\n",
              "  </thead>\n",
              "  <tbody>\n",
              "    <tr>\n",
              "      <th>Employed full-time</th>\n",
              "      <td>10897</td>\n",
              "      <td>0.651890</td>\n",
              "    </tr>\n",
              "    <tr>\n",
              "      <th>Not employed, but looking for work</th>\n",
              "      <td>2110</td>\n",
              "      <td>0.126226</td>\n",
              "    </tr>\n",
              "    <tr>\n",
              "      <th>Independent contractor, freelancer, or self-employed</th>\n",
              "      <td>1330</td>\n",
              "      <td>0.079564</td>\n",
              "    </tr>\n",
              "    <tr>\n",
              "      <th>Not employed, and not looking for work</th>\n",
              "      <td>924</td>\n",
              "      <td>0.055276</td>\n",
              "    </tr>\n",
              "    <tr>\n",
              "      <th>Employed part-time</th>\n",
              "      <td>917</td>\n",
              "      <td>0.054858</td>\n",
              "    </tr>\n",
              "    <tr>\n",
              "      <th>I prefer not to say</th>\n",
              "      <td>420</td>\n",
              "      <td>0.025126</td>\n",
              "    </tr>\n",
              "    <tr>\n",
              "      <th>Retired</th>\n",
              "      <td>118</td>\n",
              "      <td>0.007059</td>\n",
              "    </tr>\n",
              "  </tbody>\n",
              "</table>\n",
              "</div>"
            ],
            "text/plain": [
              "                                                     응답 수        비율\n",
              "Employed full-time                                  10897  0.651890\n",
              "Not employed, but looking for work                   2110  0.126226\n",
              "Independent contractor, freelancer, or self-emp...   1330  0.079564\n",
              "Not employed, and not looking for work                924  0.055276\n",
              "Employed part-time                                    917  0.054858\n",
              "I prefer not to say                                   420  0.025126\n",
              "Retired                                               118  0.007059"
            ]
          },
          "metadata": {
            "tags": []
          },
          "execution_count": 17
        }
      ]
    },
    {
      "cell_type": "code",
      "metadata": {
        "id": "44TweGMk2coH",
        "colab_type": "code",
        "colab": {
          "base_uri": "https://localhost:8080/",
          "height": 298
        },
        "outputId": "56bc96cb-5486-4ec6-cfac-724a21a35992"
      },
      "source": [
        "sns.countplot(y='EmploymentStatus',data=mcq)"
      ],
      "execution_count": null,
      "outputs": [
        {
          "output_type": "execute_result",
          "data": {
            "text/plain": [
              "<matplotlib.axes._subplots.AxesSubplot at 0x7f0979a4f4e0>"
            ]
          },
          "metadata": {
            "tags": []
          },
          "execution_count": 18
        },
        {
          "output_type": "display_data",
          "data": {
            "image/png": "[encoded data removed]",
            "text/plain": [
              "<Figure size 432x288 with 1 Axes>"
            ]
          },
          "metadata": {
            "tags": [],
            "needs_background": "light"
          }
        }
      ]
    },
    {
      "cell_type": "code",
      "metadata": {
        "id": "SfTy75rZ2q3m",
        "colab_type": "code",
        "colab": {
          "base_uri": "https://localhost:8080/",
          "height": 298
        },
        "outputId": "baafc709-f0a7-44ea-a813-0dba01ecdcd1"
      },
      "source": [
        "#프로그래밍 경험\n",
        "sns.countplot(y='Tenure',data=mcq)"
      ],
      "execution_count": null,
      "outputs": [
        {
          "output_type": "execute_result",
          "data": {
            "text/plain": [
              "<matplotlib.axes._subplots.AxesSubplot at 0x7f0978ecc940>"
            ]
          },
          "metadata": {
            "tags": []
          },
          "execution_count": 19
        },
        {
          "output_type": "display_data",
          "data": {
            "image/png": "[encoded data removed]",
            "text/plain": [
              "<Figure size 432x288 with 1 Axes>"
            ]
          },
          "metadata": {
            "tags": [],
            "needs_background": "light"
          }
        }
      ]
    },
    {
      "cell_type": "code",
      "metadata": {
        "id": "pHzHICLd5jZU",
        "colab_type": "code",
        "colab": {
          "base_uri": "https://localhost:8080/",
          "height": 314
        },
        "outputId": "0ceb5ee2-eb89-43b8-d681-57d22fe6bc23"
      },
      "source": [
        "korea=mcq.loc[(mcq['Country']=='South Korea')]\n",
        "\n",
        "print('The number of interviewees in Korea: '+str(korea.shape[0]))\n",
        "\n",
        "sns.distplot(korea['Age'].dropna())\n",
        "plt.title('Korean')\n",
        "plt.show()"
      ],
      "execution_count": null,
      "outputs": [
        {
          "output_type": "stream",
          "text": [
            "The number of interviewees in Korea: 194\n"
          ],
          "name": "stdout"
        },
        {
          "output_type": "display_data",
          "data": {
            "image/png": "[encoded data removed]",
            "text/plain": [
              "<Figure size 432x288 with 1 Axes>"
            ]
          },
          "metadata": {
            "tags": [],
            "needs_background": "light"
          }
        }
      ]
    },
    {
      "cell_type": "code",
      "metadata": {
        "id": "SLW6Jne_59pV",
        "colab_type": "code",
        "colab": {
          "base_uri": "https://localhost:8080/",
          "height": 141
        },
        "outputId": "eac857c3-44c7-4f62-8402-9bf84dda7c36"
      },
      "source": [
        "pd.DataFrame(korea['GenderSelect'].value_counts())"
      ],
      "execution_count": null,
      "outputs": [
        {
          "output_type": "execute_result",
          "data": {
            "text/html": [
              "<div>\n",
              "<style scoped>\n",
              "    .dataframe tbody tr th:only-of-type {\n",
              "        vertical-align: middle;\n",
              "    }\n",
              "\n",
              "    .dataframe tbody tr th {\n",
              "        vertical-align: top;\n",
              "    }\n",
              "\n",
              "    .dataframe thead th {\n",
              "        text-align: right;\n",
              "    }\n",
              "</style>\n",
              "<table border=\"1\" class=\"dataframe\">\n",
              "  <thead>\n",
              "    <tr style=\"text-align: right;\">\n",
              "      <th></th>\n",
              "      <th>GenderSelect</th>\n",
              "    </tr>\n",
              "  </thead>\n",
              "  <tbody>\n",
              "    <tr>\n",
              "      <th>Male</th>\n",
              "      <td>156</td>\n",
              "    </tr>\n",
              "    <tr>\n",
              "      <th>Female</th>\n",
              "      <td>37</td>\n",
              "    </tr>\n",
              "    <tr>\n",
              "      <th>A different identity</th>\n",
              "      <td>1</td>\n",
              "    </tr>\n",
              "  </tbody>\n",
              "</table>\n",
              "</div>"
            ],
            "text/plain": [
              "                      GenderSelect\n",
              "Male                           156\n",
              "Female                          37\n",
              "A different identity             1"
            ]
          },
          "metadata": {
            "tags": []
          },
          "execution_count": 21
        }
      ]
    },
    {
      "cell_type": "code",
      "metadata": {
        "id": "h_vYO_1Q6Nri",
        "colab_type": "code",
        "colab": {
          "base_uri": "https://localhost:8080/",
          "height": 314
        },
        "outputId": "eff4951c-5289-4fe8-f316-d42e93a89c69"
      },
      "source": [
        "sns.countplot(x='GenderSelect', data=korea)\n",
        "plt.title('Korean')"
      ],
      "execution_count": null,
      "outputs": [
        {
          "output_type": "execute_result",
          "data": {
            "text/plain": [
              "Text(0.5, 1.0, 'Korean')"
            ]
          },
          "metadata": {
            "tags": []
          },
          "execution_count": 22
        },
        {
          "output_type": "display_data",
          "data": {
            "image/png": "[encoded data removed]",
            "text/plain": [
              "<Figure size 432x288 with 1 Axes>"
            ]
          },
          "metadata": {
            "tags": [],
            "needs_background": "light"
          }
        }
      ]
    },
    {
      "cell_type": "code",
      "metadata": {
        "id": "LQKpw-qS6Uy2",
        "colab_type": "code",
        "colab": {
          "base_uri": "https://localhost:8080/",
          "height": 369
        },
        "outputId": "29a3a0db-e2c4-4a5b-ef49-572bb02fd96f"
      },
      "source": [
        "figure, (ax1,ax2)=plt.subplots(ncols=2)\n",
        "\n",
        "figure.set_size_inches(12,5)\n",
        "sns.distplot(korea['Age'].loc[korea['GenderSelect']=='Female'].dropna(), norm_hist=False, color=sns.color_palette(\"Paired\")[4], ax=ax1)\n",
        "plt.title('korean Female')\n",
        "\n",
        "sns.distplot(korea['Age'].loc[korea['GenderSelect']=='Male'].dropna(), norm_hist=False, color=sns.color_palette(\"Paired\")[0], ax=ax2)\n",
        "plt.title('korean Male')"
      ],
      "execution_count": null,
      "outputs": [
        {
          "output_type": "execute_result",
          "data": {
            "text/plain": [
              "Text(0.5, 1.0, 'korean Male')"
            ]
          },
          "metadata": {
            "tags": []
          },
          "execution_count": 23
        },
        {
          "output_type": "display_data",
          "data": {
            "image/png": "[encoded data removed]",
            "text/plain": [
              "<Figure size 864x360 with 2 Axes>"
            ]
          },
          "metadata": {
            "tags": [],
            "needs_background": "light"
          }
        }
      ]
    },
    {
      "cell_type": "code",
      "metadata": {
        "id": "Vp6w-TAo7NQ2",
        "colab_type": "code",
        "colab": {
          "base_uri": "https://localhost:8080/",
          "height": 412
        },
        "outputId": "307e77cd-8d20-4452-d219-e4fd43ccbaa1"
      },
      "source": [
        "sns.barplot(x=korea['EmploymentStatus'].unique(),y=korea['EmploymentStatus'].value_counts())\n",
        "plt.xticks(rotation=30,ha='right')\n",
        "plt.title('Employment status of the korean')\n",
        "plt.ylabel('')\n",
        "plt.show()"
      ],
      "execution_count": null,
      "outputs": [
        {
          "output_type": "display_data",
          "data": {
            "image/png": "[encoded data removed]",
            "text/plain": [
              "<Figure size 432x288 with 1 Axes>"
            ]
          },
          "metadata": {
            "tags": [],
            "needs_background": "light"
          }
        }
      ]
    },
    {
      "cell_type": "code",
      "metadata": {
        "id": "Eq9F7nOi8Fs5",
        "colab_type": "code",
        "colab": {
          "base_uri": "https://localhost:8080/",
          "height": 295
        },
        "outputId": "97e753ce-140b-4dc1-ad65-37aec2a56883"
      },
      "source": [
        "#학생인지 아닌지-대부분 일을 하니 학생의 수 적음\n",
        "korea['StudentStatus']=korea['StudentStatus'].fillna('No')\n",
        "sns.countplot(x='StudentStatus',data=korea)\n",
        "plt.title('korean')\n",
        "plt.show()"
      ],
      "execution_count": null,
      "outputs": [
        {
          "output_type": "display_data",
          "data": {
            "image/png": "[encoded data removed]",
            "text/plain": [
              "<Figure size 432x288 with 1 Axes>"
            ]
          },
          "metadata": {
            "tags": [],
            "needs_background": "light"
          }
        }
      ]
    },
    {
      "cell_type": "code",
      "metadata": {
        "id": "0j5LIlOY9Mdf",
        "colab_type": "code",
        "colab": {
          "base_uri": "https://localhost:8080/",
          "height": 55
        },
        "outputId": "a08cdd40-957d-4fac-ba6a-2e4874ccccaa"
      },
      "source": [
        "full_time=mcq.loc[(mcq['EmploymentStatus']=='Employed full-time')]\n",
        "print(full_time.shape)\n",
        "looking_for_job=mcq.loc[(mcq['EmploymentStatus']=='Not employed, but looking for work')]\n",
        "print(looking_for_job.shape)"
      ],
      "execution_count": null,
      "outputs": [
        {
          "output_type": "stream",
          "text": [
            "(10897, 228)\n",
            "(2110, 228)\n"
          ],
          "name": "stdout"
        }
      ]
    },
    {
      "cell_type": "code",
      "metadata": {
        "id": "4IuteNxE9sG-",
        "colab_type": "code",
        "colab": {
          "base_uri": "https://localhost:8080/",
          "height": 475
        },
        "outputId": "5f0ad916-8129-41ce-dd65-05c0ff771f2d"
      },
      "source": [
        "#자주 묻는....FAQ\n",
        "sns.countplot(y='LanguageRecommendationSelect', data=mcq)\n",
        "\n",
        "import plotly.figure_factory as fig_fact\n",
        "top_lang = mcq['LanguageRecommendationSelect'].value_counts()\n",
        "top_lang_dist = []\n",
        "for lang in top_lang.index:\n",
        "    top_lang_dist.append(mcq[(mcq['Age'].notnull()) & (mcq['LanguageRecommendationSelect'] == lang)]['Age'])\n",
        "\n",
        "group_labels = top_lang.index\n",
        "\n",
        "fig = fig_fact.create_distplot(top_lang_dist, group_labels, show_hist=False)\n",
        "py.iplot(fig, filename='Language Preferences by Age')\n"
      ],
      "execution_count": null,
      "outputs": [
        {
          "output_type": "error",
          "ename": "NameError",
          "evalue": "ignored",
          "traceback": [
            "\u001b[0;31m---------------------------------------------------------------------------\u001b[0m",
            "\u001b[0;31mNameError\u001b[0m                                 Traceback (most recent call last)",
            "\u001b[0;32m<ipython-input-28-15491d88c7b4>\u001b[0m in \u001b[0;36m<module>\u001b[0;34m()\u001b[0m\n\u001b[1;32m     11\u001b[0m \u001b[0;34m\u001b[0m\u001b[0m\n\u001b[1;32m     12\u001b[0m \u001b[0mfig\u001b[0m \u001b[0;34m=\u001b[0m \u001b[0mfig_fact\u001b[0m\u001b[0;34m.\u001b[0m\u001b[0mcreate_distplot\u001b[0m\u001b[0;34m(\u001b[0m\u001b[0mtop_lang_dist\u001b[0m\u001b[0;34m,\u001b[0m \u001b[0mgroup_labels\u001b[0m\u001b[0;34m,\u001b[0m \u001b[0mshow_hist\u001b[0m\u001b[0;34m=\u001b[0m\u001b[0;32mFalse\u001b[0m\u001b[0;34m)\u001b[0m\u001b[0;34m\u001b[0m\u001b[0;34m\u001b[0m\u001b[0m\n\u001b[0;32m---> 13\u001b[0;31m \u001b[0mpy\u001b[0m\u001b[0;34m.\u001b[0m\u001b[0miplot\u001b[0m\u001b[0;34m(\u001b[0m\u001b[0mfig\u001b[0m\u001b[0;34m,\u001b[0m \u001b[0mfilename\u001b[0m\u001b[0;34m=\u001b[0m\u001b[0;34m'Language Preferences by Age'\u001b[0m\u001b[0;34m)\u001b[0m\u001b[0;34m\u001b[0m\u001b[0;34m\u001b[0m\u001b[0m\n\u001b[0m",
            "\u001b[0;31mNameError\u001b[0m: name 'py' is not defined"
          ]
        },
        {
          "output_type": "display_data",
          "data": {
            "image/png": "[encoded data removed]",
            "text/plain": [
              "<Figure size 432x288 with 1 Axes>"
            ]
          },
          "metadata": {
            "tags": [],
            "needs_background": "light"
          }
        }
      ]
    },
    {
      "cell_type": "code",
      "metadata": {
        "id": "3Io6hj6c-H3U",
        "colab_type": "code",
        "colab": {}
      },
      "source": [
        "#현재하는 일\n",
        "sns.countplot(y=mcq['CurrentJobTitleSelect'])"
      ],
      "execution_count": null,
      "outputs": []
    },
    {
      "cell_type": "code",
      "metadata": {
        "id": "hfzx8KDjYWdj",
        "colab_type": "code",
        "colab": {}
      },
      "source": [
        "mcq[mcq['CurrentJobTitleSelect'].notnull()]['CurrentJobTitleSelect'].shape"
      ],
      "execution_count": null,
      "outputs": []
    },
    {
      "cell_type": "code",
      "metadata": {
        "id": "njlcdua1YpMy",
        "colab_type": "code",
        "colab": {}
      },
      "source": [
        "#응답자 중 python&r\n",
        "data=mcq[(mcq['CurrentJobTitleSelect'].notnull()) & ((mcq['LanguageRecommendationSelect']=='Python') | (mcq['LanguageRecommendationSelect']=='R'))]\n",
        "print(data.shape)\n",
        "plt.figure(figsize=(8,10))\n",
        "sns.countplot(y='CurrentJobTitleSelect', hue='LanguageRecommendationSelect', data=data)"
      ],
      "execution_count": null,
      "outputs": []
    },
    {
      "cell_type": "code",
      "metadata": {
        "id": "8VgJ61wAZn1Q",
        "colab_type": "code",
        "colab": {}
      },
      "source": [
        "#데이터 사이언스 툴\n",
        "mcq_ml_tool_count=pd.DataFrame(mcq['MLToolNextYearSelect'].value_counts())\n",
        "mcq_ml_tool_percent=pd.DataFrame(mcq['MLToolNextYearSelect'].value_counts(normalize=True))\n",
        "mcq_ml_tool_df=mcq_ml_tool_count.merge(mcq_ml_tool_percent, left_index=True, right_index=True).head(20)\n",
        "mcq_ml_tool_df.columns=['응답 수', '비율']\n",
        "mcq_ml_tool_df"
      ],
      "execution_count": null,
      "outputs": []
    },
    {
      "cell_type": "code",
      "metadata": {
        "id": "I0teIOeDceXF",
        "colab_type": "code",
        "colab": {}
      },
      "source": [
        "data=mcq['MLToolNextYearSelect'].value_counts().head(20)\n",
        "sns.barplot(y=data.index, x=data)"
      ],
      "execution_count": null,
      "outputs": []
    },
    {
      "cell_type": "code",
      "metadata": {
        "id": "HzOTDuymc7Mu",
        "colab_type": "code",
        "colab": {}
      },
      "source": [
        "#Data Science Methods\n",
        "data=mcq['MLMethodNextYearSelect'].value_counts().head(15)\n",
        "sns.barplot(y=data.index, x=data)"
      ],
      "execution_count": null,
      "outputs": []
    },
    {
      "cell_type": "code",
      "metadata": {
        "id": "hQmLxe9GdQ7h",
        "colab_type": "code",
        "colab": {}
      },
      "source": [
        "#where learn ds platform\n",
        "mcq['LearningPlatformSelect']=mcq['LearningPlatformSelect'].astype('str')\n",
        "s=mcq.apply(lambda x:pd.Series(x['LearningPlatformSelect']),axis=1).stack().reset_index(level=1, drop=True)\n",
        "s.name='platform'"
      ],
      "execution_count": null,
      "outputs": []
    },
    {
      "cell_type": "code",
      "metadata": {
        "id": "Ze5cxPLZd8Mw",
        "colab_type": "code",
        "colab": {}
      },
      "source": [
        "plt.figure(figsize=(6,8))\n",
        "data=s[s!='nan'].value_counts().head(15)\n",
        "sns.barplot(y=data.index, x=data)"
      ],
      "execution_count": null,
      "outputs": []
    },
    {
      "cell_type": "code",
      "metadata": {
        "id": "4HUr67VmeSSM",
        "colab_type": "code",
        "colab": {}
      },
      "source": [
        "qc=question.loc[question['Column'].str.contains('LearningCategory')]\n",
        "print(qc.shape)\n",
        "qc"
      ],
      "execution_count": null,
      "outputs": []
    },
    {
      "cell_type": "code",
      "metadata": {
        "id": "seC6GcF-eq6_",
        "colab_type": "code",
        "colab": {}
      },
      "source": [
        "use_features=[x for x in mcq.columns if x.find('LearningPlatformUsefulness')!=-1]"
      ],
      "execution_count": null,
      "outputs": []
    },
    {
      "cell_type": "code",
      "metadata": {
        "id": "b76z3lcQe41q",
        "colab_type": "code",
        "colab": {}
      },
      "source": [
        "#플랫폼과 유용함의 연관성\n",
        "fdf={}\n",
        "for feature in use_features:\n",
        "  a=mcq[feature].value_counts()\n",
        "  a=a/a.sum()\n",
        "  fdf[feature[len('LearningPlatformUsefulness'):]]=a\n",
        "\n",
        "fdf=pd.DataFrame(fdf).transpose().sort_values('Very useful', ascending=False)\n",
        "\n",
        "#그림\n",
        "plt.figure(figsize=(10,10))\n",
        "sns.heatmap(fdf.sort_values('Very useful', ascending=False), annot=True)"
      ],
      "execution_count": null,
      "outputs": []
    },
    {
      "cell_type": "code",
      "metadata": {
        "id": "wjZFxJRLfknL",
        "colab_type": "code",
        "colab": {}
      },
      "source": [
        "#유용함 정도\n",
        "fdf.plot(kind='bar', figsize=(20,8), title='Usefullness of Learning Platforms')"
      ],
      "execution_count": null,
      "outputs": []
    },
    {
      "cell_type": "code",
      "metadata": {
        "id": "_JTr7JnYgVUM",
        "colab_type": "code",
        "colab": {}
      },
      "source": [
        "cat_features=[x for x in mcq.columns if x.find('LearningCategory')!=-1]\n",
        "cat_features"
      ],
      "execution_count": null,
      "outputs": []
    },
    {
      "cell_type": "code",
      "metadata": {
        "id": "tmvtpezVg9q6",
        "colab_type": "code",
        "colab": {}
      },
      "source": [
        "cdf={}\n",
        "for feature in cat_features:\n",
        "  cdf[feature[len('LearningCategory'):]]=mcq[feature].mean()\n",
        "\n",
        "cdf=pd.Series(cdf)\n",
        "cdf"
      ],
      "execution_count": null,
      "outputs": []
    },
    {
      "cell_type": "code",
      "metadata": {
        "id": "TTMf6SRvh8vd",
        "colab_type": "code",
        "colab": {}
      },
      "source": [
        "#플랫폼 별 도움되는 정도\n",
        "plt.pie(cdf, labels=cdf.index, autopct='%1.1f!!', shadow=True, startangle=140)\n",
        "plt.axis('equal')\n",
        "plt.title(\"Contribution of each Platform to Learning\")\n",
        "plt.show()"
      ],
      "execution_count": null,
      "outputs": []
    },
    {
      "cell_type": "code",
      "metadata": {
        "id": "p51CsCEti8-6",
        "colab_type": "code",
        "colab": {}
      },
      "source": [
        "#컴퓨터 사양?\n",
        "#설문 내용 및 대상\n",
        "qc=question.loc[question['Column'].str.contains('HardwarePersonalProjectsSelect')]\n",
        "print(qc.shape)\n",
        "qc"
      ],
      "execution_count": null,
      "outputs": []
    },
    {
      "cell_type": "code",
      "metadata": {
        "id": "5BKCO-pujUsj",
        "colab_type": "code",
        "colab": {}
      },
      "source": [
        "mcq[mcq['HardwarePersonalProjectsSelect'].notnull()]['HardwarePersonalProjectsSelect'].shape"
      ],
      "execution_count": null,
      "outputs": []
    },
    {
      "cell_type": "code",
      "metadata": {
        "id": "X2XFpqtGjhrB",
        "colab_type": "code",
        "colab": {}
      },
      "source": [
        "mcq['HardwarePersonalProjectsSelect']=mcq['HardwarePersonalProjectsSelect'].astype('str').apply(lambda x:x.split(','))\n",
        "s=mcq.apply(lambda x: pd.Series(x['HardwarePersonalProjectsSelect']),axis=1).stack().reset_index(level=1, drop=True)\n",
        "s.name='hardware'"
      ],
      "execution_count": null,
      "outputs": []
    },
    {
      "cell_type": "code",
      "metadata": {
        "id": "X8u--0vUj5Zz",
        "colab_type": "code",
        "colab": {}
      },
      "source": [
        "s=s[s!='nan']"
      ],
      "execution_count": null,
      "outputs": []
    },
    {
      "cell_type": "code",
      "metadata": {
        "id": "b2P9ZMbxj7xU",
        "colab_type": "code",
        "colab": {}
      },
      "source": [
        "pd.DataFrame(s.value_counts())"
      ],
      "execution_count": null,
      "outputs": []
    },
    {
      "cell_type": "code",
      "metadata": {
        "id": "pumqzgHVj_UC",
        "colab_type": "code",
        "colab": {}
      },
      "source": [
        "#공부 시간\n",
        "plt.figure(figsize=(6,8))\n",
        "sns.countplot(y='TimeSpentStudying',data=mcq, hue='EmploymentStatus').legend(loc='center left', bbox_to_anchor=(1,0.5))"
      ],
      "execution_count": null,
      "outputs": []
    },
    {
      "cell_type": "code",
      "metadata": {
        "id": "dLUTb6MYkb1g",
        "colab_type": "code",
        "colab": {}
      },
      "source": [
        "figure, (ax1,ax2) = plt.subplots(ncols=2)\n",
        "\n",
        "figure.set_size_inches(12,5)\n",
        "sns.countplot(x='TimeSpentStudying', data=full_time, hue='EmploymentStatus', ax=ax1).legend(loc='center right', bbox_to_anchor=(1, 0.5))\n",
        "\n",
        "sns.countplot(x='TimeSpentStudying', data=full_time, hue='EmploymentStatus', ax=ax2).legend(loc='center right',bbox_to_anchor=(1,0.5))"
      ],
      "execution_count": null,
      "outputs": []
    },
    {
      "cell_type": "code",
      "metadata": {
        "id": "VXQrpBDKmsqS",
        "colab_type": "code",
        "colab": {}
      },
      "source": [
        "#블로그, 팟캐스트, 수업 등 추천할만한 것이 있는가?\n",
        "mcq['BlogsPodcastsNewslettersSelect']=mcq['BlogsPodcastsNewslettersSelect'].astype('str').apply(lambda x:x.split(','))\n",
        "mcq['BlogsPodcastsNewslettersSelect'].head()"
      ],
      "execution_count": null,
      "outputs": []
    },
    {
      "cell_type": "code",
      "metadata": {
        "id": "3Z8tXa-epT3G",
        "colab_type": "code",
        "colab": {}
      },
      "source": [
        "s=mcq.apply(lambda x:pd.Series(x['BlogsPodcastsNewslettersSelect']),axis=1).stack().reset_index(level=1, drop=True)\n",
        "s.name='platform'\n",
        "s.head()\n"
      ],
      "execution_count": null,
      "outputs": []
    },
    {
      "cell_type": "code",
      "metadata": {
        "id": "iGUHksifqT9o",
        "colab_type": "code",
        "colab": {}
      },
      "source": [
        "s=s[s!='nan'].value_counts().head(20)"
      ],
      "execution_count": null,
      "outputs": []
    },
    {
      "cell_type": "code",
      "metadata": {
        "id": "w_OIOxafqdyN",
        "colab_type": "code",
        "colab": {}
      },
      "source": [
        "plt.figure(figsize=(6,8))\n",
        "plt.title(\"Most Popular Blogs and Podcasts\")\n",
        "sns.barplot(y=s.index, x=s)"
      ],
      "execution_count": null,
      "outputs": []
    },
    {
      "cell_type": "code",
      "metadata": {
        "id": "hgaxhlXJrULN",
        "colab_type": "code",
        "colab": {}
      },
      "source": [
        "mcq['CoursePlatformSelect']=mcq['CoursePlatformSelect'].astype('str').apply(lambda x:x.split(','))\n",
        "mcq['CoursePlatformSelect'].head()"
      ],
      "execution_count": null,
      "outputs": []
    },
    {
      "cell_type": "code",
      "metadata": {
        "id": "g_wWSZhVrlbO",
        "colab_type": "code",
        "colab": {}
      },
      "source": [
        "t=mcq.apply(lambda x:pd.Series(x['CoursePlatformSelect']),axis=1).stack().reset_index(level=1, drop=True)\n",
        "t.name='courses'\n",
        "t.head(20)"
      ],
      "execution_count": null,
      "outputs": []
    },
    {
      "cell_type": "code",
      "metadata": {
        "id": "-kF3BKbQsHoh",
        "colab_type": "code",
        "colab": {}
      },
      "source": [
        "t=t[t!='nan'].value_counts()"
      ],
      "execution_count": null,
      "outputs": []
    },
    {
      "cell_type": "code",
      "metadata": {
        "id": "KYFlLtI9sThr",
        "colab_type": "code",
        "colab": {}
      },
      "source": [
        "plt.title(\"Most Popular Course Platforms\")\n",
        "sns.barplot(y=t.index, x=t)\n",
        "#코세라 앤드류 융 교수님 강의 훌륭"
      ],
      "execution_count": null,
      "outputs": []
    },
    {
      "cell_type": "code",
      "metadata": {
        "id": "zbPjZ3xgscaP",
        "colab_type": "code",
        "colab": {}
      },
      "source": [
        "#데이터사이언스 직무에서 중요한 스킬?\n",
        "job_features=[x for x in mcq.columns if x.find('JobSkillImportance')!=-1 and x.find('JobSkillImportanceOther')==-1]\n",
        "job_features"
      ],
      "execution_count": null,
      "outputs": []
    },
    {
      "cell_type": "code",
      "metadata": {
        "id": "s8VRT8JQtUDp",
        "colab_type": "code",
        "colab": {}
      },
      "source": [
        "jdf={}\n",
        "for feature in job_features:\n",
        "  a=mcq[feature].value_counts()\n",
        "  a=a/a.sum()\n",
        "  jdf[feature[len('JobSkillImportance'):]]=a\n",
        "\n",
        "jdf"
      ],
      "execution_count": null,
      "outputs": []
    },
    {
      "cell_type": "code",
      "metadata": {
        "id": "Mzqu4ijgtt6s",
        "colab_type": "code",
        "colab": {}
      },
      "source": [
        "jdf=pd.DataFrame(jdf).transpose()\n",
        "jdf"
      ],
      "execution_count": null,
      "outputs": []
    },
    {
      "cell_type": "code",
      "metadata": {
        "id": "1gLdBeV4t6n1",
        "colab_type": "code",
        "colab": {}
      },
      "source": [
        "plt.figure(figsize=(10,6))\n",
        "sns.heatmap(jdf.sort_values(\"Necessary\",ascending=False),annot=True)"
      ],
      "execution_count": null,
      "outputs": []
    },
    {
      "cell_type": "code",
      "metadata": {
        "id": "XlbxjD6cuTNQ",
        "colab_type": "code",
        "colab": {}
      },
      "source": [
        "jdf.plot(kind='bar',figsize=(12,6),title=\"Skill Importance in Data Science Jobs\")"
      ],
      "execution_count": null,
      "outputs": []
    },
    {
      "cell_type": "code",
      "metadata": {
        "id": "MM23agcHunZZ",
        "colab_type": "code",
        "colab": {}
      },
      "source": [
        "#평균급여\n",
        "mcq[mcq['CompensationAmount'].notnull()].shape"
      ],
      "execution_count": null,
      "outputs": []
    },
    {
      "cell_type": "code",
      "metadata": {
        "id": "7JgPr-Iiu4HC",
        "colab_type": "code",
        "colab": {}
      },
      "source": [
        "mcq['CompensationAmount']=mcq['CompensationAmount'].str.replace(',','')\n",
        "mcq['CompensationAmount']=mcq['CompensationAmount'].str.replace('-','')\n",
        "\n",
        "#환율\n",
        "rates=pd.read_csv('/content/drive/My Drive/Colab Notebooks/data/conversionRates.csv')\n",
        "rates.drop('Unnamed: 0', axis=1, inplace=True)\n",
        "\n",
        "salary=mcq[['CompensationAmount', 'CompensationCurrency', 'GenderSelect','Country', 'CurrentJobTitleSelect']].dropna()\n",
        "salary=salary.merge(rates, left_on='CompensationCurrency',right_on='originCountry',how='left')\n",
        "salary['Salary']=pd.to_numeric(salary['CompensationAmount'])*salary['exchangeRate']\n",
        "salary.head()"
      ],
      "execution_count": null,
      "outputs": []
    },
    {
      "cell_type": "code",
      "metadata": {
        "id": "XAoQezUowRxl",
        "colab_type": "code",
        "colab": {}
      },
      "source": [
        " print('Maximum Salary is USD $', salary['Salary'].dropna().astype(int).max())\n",
        " print('Minimum Salary is USD $', salary['Salary'].dropna().astype(int).min())\n",
        " print('Median Salary is USD $', salary['Salary'].dropna().astype(int).median())"
      ],
      "execution_count": null,
      "outputs": []
    },
    {
      "cell_type": "code",
      "metadata": {
        "id": "e2yx-bRLyBy_",
        "colab_type": "code",
        "colab": {}
      },
      "source": [
        "plt.subplots(figsize=(15,8))\n",
        "salary=salary[salary['Salary']<500000]\n",
        "sns.distplot(salary['Salary'])\n",
        "plt.axvline(salary['Salary'].median(), linestyle='dashed')\n",
        "plt.title('Salary Distribution', size=15)"
      ],
      "execution_count": null,
      "outputs": []
    },
    {
      "cell_type": "code",
      "metadata": {
        "id": "6FDtkKwFyo29",
        "colab_type": "code",
        "colab": {}
      },
      "source": [
        "plt.subplots(figsize=(8,12))\n",
        "\n",
        "sal_coun=salary.groupby('Country')['Salary'].median().sort_values(ascending=False)[:30].to_frame()\n",
        "\n",
        "sns.barplot('Salary',sal_coun.index, data=sal_coun, palette='RdYlGn')\n",
        "\n",
        "plt.axvline(salary['Salary'].median(),linestyle='dashed')\n",
        "plt.title('Highest Salary Paying Countries')"
      ],
      "execution_count": null,
      "outputs": []
    },
    {
      "cell_type": "code",
      "metadata": {
        "id": "Mjgv84a62iKP",
        "colab_type": "code",
        "colab": {}
      },
      "source": [
        "plt.subplots(figsize=(8,4))\n",
        "sns.boxplot(y='GenderSelect', x='Salary', data=salary)"
      ],
      "execution_count": null,
      "outputs": []
    },
    {
      "cell_type": "code",
      "metadata": {
        "id": "lICsfHgt29Hv",
        "colab_type": "code",
        "colab": {}
      },
      "source": [
        "salary_k=salary.loc[(salary['Country']=='South Korea')]\n",
        "plt.subplots(figsize=(8,4))\n",
        "sns.boxplot(y='GenderSelect', x='Salary', data=salary_k)"
      ],
      "execution_count": null,
      "outputs": []
    },
    {
      "cell_type": "code",
      "metadata": {
        "id": "xrtM-lni3Z1T",
        "colab_type": "code",
        "colab": {}
      },
      "source": [
        "salary_k.shape"
      ],
      "execution_count": null,
      "outputs": []
    },
    {
      "cell_type": "code",
      "metadata": {
        "id": "E3yJN4Gk37RW",
        "colab_type": "code",
        "colab": {}
      },
      "source": [
        "salary_k[salary_k['GenderSelect']=='Female']"
      ],
      "execution_count": null,
      "outputs": []
    },
    {
      "cell_type": "code",
      "metadata": {
        "id": "F9aBNghG4FDV",
        "colab_type": "code",
        "colab": {}
      },
      "source": [
        "salary_k_m=salary_k[salary_k['GenderSelect']=='Male']\n",
        "salary_k_m['Salary'].describe()"
      ],
      "execution_count": null,
      "outputs": []
    },
    {
      "cell_type": "code",
      "metadata": {
        "id": "wEff9zEV4dtp",
        "colab_type": "code",
        "colab": {}
      },
      "source": [
        "salary_k_m"
      ],
      "execution_count": null,
      "outputs": []
    },
    {
      "cell_type": "code",
      "metadata": {
        "id": "JmCgp88V4gcM",
        "colab_type": "code",
        "colab": {}
      },
      "source": [
        "#개인프로젝트나 학습용 데이터를 어디에서?\n",
        "\n",
        "mcq['PublicDatasetsSelect']=mcq['PublicDatasetsSelect'].astype('str').apply(lambda x: x.split(','))"
      ],
      "execution_count": null,
      "outputs": []
    },
    {
      "cell_type": "code",
      "metadata": {
        "id": "e6_i-5gG5Fyi",
        "colab_type": "code",
        "colab": {}
      },
      "source": [
        "q=mcq.apply(lambda x: pd.Series(x['PublicDatasetsSelect']),axis=1).stack().reset_index(level=1,drop=True)\n",
        "q.name='courses'"
      ],
      "execution_count": null,
      "outputs": []
    },
    {
      "cell_type": "code",
      "metadata": {
        "id": "dRpsBeUO5zbZ",
        "colab_type": "code",
        "colab": {}
      },
      "source": [
        "q=q[q!='nan'].value_counts()"
      ],
      "execution_count": null,
      "outputs": []
    },
    {
      "cell_type": "code",
      "metadata": {
        "id": "8a3lq89c55Wr",
        "colab_type": "code",
        "colab": {}
      },
      "source": [
        "pd.DataFrame(q)"
      ],
      "execution_count": null,
      "outputs": []
    },
    {
      "cell_type": "code",
      "metadata": {
        "id": "pk66YJmS5_Cq",
        "colab_type": "code",
        "colab": {}
      },
      "source": [
        "plt.title(\"Most Popular Dataset Platforms\")\n",
        "sns.barplot(y=q.index, x=q)"
      ],
      "execution_count": null,
      "outputs": []
    },
    {
      "cell_type": "code",
      "metadata": {
        "id": "_fdGaXKP6vzm",
        "colab_type": "code",
        "colab": {}
      },
      "source": [
        "#주관식 응답\n",
        "ff=pd.read_csv('/content/drive/My Drive/Colab Notebooks/data/freeformResponses.csv', encoding=\"ISO-8859-1\", low_memory=False)\n",
        "ff.shape"
      ],
      "execution_count": null,
      "outputs": []
    },
    {
      "cell_type": "code",
      "metadata": {
        "id": "mDrIqJRI7M-o",
        "colab_type": "code",
        "colab": {}
      },
      "source": [
        "qc=question.loc[question['Column'].str.contains('PersonalProjectsChallengeFreeForm')]\n",
        "print(qc.shape)\n",
        "qc.Question.values[0]"
      ],
      "execution_count": null,
      "outputs": []
    },
    {
      "cell_type": "code",
      "metadata": {
        "id": "EOPZ_lw78Egy",
        "colab_type": "code",
        "colab": {}
      },
      "source": [
        "ppcff=ff['PersonalProjectsChallengeFreeForm'].value_counts().head(15)\n",
        "ppcff.name='응답 수'\n",
        "pd.DataFrame(ppcff)"
      ],
      "execution_count": null,
      "outputs": []
    },
    {
      "cell_type": "code",
      "metadata": {
        "id": "xlcmA8tA8eN2",
        "colab_type": "code",
        "colab": {}
      },
      "source": [
        "#ds업무에서 가장 많은 시간을 필요로하는 일\n",
        "time_features=[x for x in mcq.columns if x.find('Time')!=-1][4:10]"
      ],
      "execution_count": null,
      "outputs": []
    },
    {
      "cell_type": "code",
      "metadata": {
        "id": "PVvtVzWF83A3",
        "colab_type": "code",
        "colab": {}
      },
      "source": [
        "tdf={}\n",
        "for feature in time_features:\n",
        "  tdf[feature[len('Time'):]]=mcq[feature].mean()\n",
        "\n",
        "tdf=pd.Series(tdf)\n",
        "print(tdf)\n",
        "print()\n",
        "\n",
        "plt.pie(tdf, labels=tdf.index, autopct='%1.1f%%', shadow=True, startangle=140)\n",
        "plt.axis('equal')\n",
        "plt.title(\"Percentage of Time Spent on Each DS Job\")\n",
        "plt.show()"
      ],
      "execution_count": null,
      "outputs": []
    },
    {
      "cell_type": "code",
      "metadata": {
        "id": "r0vwWx4h9W5g",
        "colab_type": "code",
        "colab": {}
      },
      "source": [
        ""
      ],
      "execution_count": null,
      "outputs": []
    }
  ]
}