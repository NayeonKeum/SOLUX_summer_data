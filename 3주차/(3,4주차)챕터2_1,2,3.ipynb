{
  "nbformat": 4,
  "nbformat_minor": 0,
  "metadata": {
    "colab": {
      "name": "챕터2-1,2,3.ipynb",
      "provenance": [],
      "collapsed_sections": [],
      "mount_file_id": "1WUWL0jIbVnffCYn11-Bx4Cpws2L83SzE",
      "authorship_tag": "ABX9TyNs69RLioG72bL1fyxqiRRh",
      "include_colab_link": true
    },
    "kernelspec": {
      "name": "python3",
      "display_name": "Python 3"
    }
  },
  "cells": [
    {
      "cell_type": "markdown",
      "metadata": {
        "id": "view-in-github",
        "colab_type": "text"
      },
      "source": [
        "<a href=\"https://colab.research.google.com/github/NayeonKeum/SOLUX_summer_data/blob/master/3%EC%A3%BC%EC%B0%A8/(3%2C4%EC%A3%BC%EC%B0%A8)%EC%B1%95%ED%84%B02_1%2C2%2C3.ipynb\" target=\"_parent\"><img src=\"https://colab.research.google.com/assets/colab-badge.svg\" alt=\"Open In Colab\"/></a>"
      ]
    },
    {
      "cell_type": "code",
      "metadata": {
        "id": "m1M0zjr2xcIP",
        "colab_type": "code",
        "colab": {}
      },
      "source": [
        "%matplotlib inline"
      ],
      "execution_count": 1,
      "outputs": []
    },
    {
      "cell_type": "code",
      "metadata": {
        "id": "NHZKiUoOx3zr",
        "colab_type": "code",
        "colab": {
          "base_uri": "https://localhost:8080/",
          "height": 75
        },
        "outputId": "1a0ee683-f8c4-4390-ed05-c255df6841aa"
      },
      "source": [
        "import pandas as pd\n",
        "import numpy as np\n",
        "from scipy import stats\n",
        "import matplotlib.pyplot as plt\n",
        "import seaborn as sns\n",
        "\n",
        "import warnings\n",
        "warnings.filterwarnings('ignore')"
      ],
      "execution_count": 2,
      "outputs": [
        {
          "output_type": "stream",
          "text": [
            "/usr/local/lib/python3.6/dist-packages/statsmodels/tools/_testing.py:19: FutureWarning: pandas.util.testing is deprecated. Use the functions in the public API at pandas.testing instead.\n",
            "  import pandas.util.testing as tm\n"
          ],
          "name": "stderr"
        }
      ]
    },
    {
      "cell_type": "code",
      "metadata": {
        "id": "t3W0Ib7JyjgZ",
        "colab_type": "code",
        "colab": {
          "base_uri": "https://localhost:8080/",
          "height": 36
        },
        "outputId": "649d21c0-9b12-4109-a1dd-42d302b190b5"
      },
      "source": [
        "question=pd.read_csv('/content/drive/My Drive/Colab Notebooks/data/schema.csv')\n",
        "question.shape"
      ],
      "execution_count": 3,
      "outputs": [
        {
          "output_type": "execute_result",
          "data": {
            "text/plain": [
              "(290, 3)"
            ]
          },
          "metadata": {
            "tags": []
          },
          "execution_count": 3
        }
      ]
    },
    {
      "cell_type": "code",
      "metadata": {
        "id": "jaSYbcVjytwm",
        "colab_type": "code",
        "colab": {
          "base_uri": "https://localhost:8080/",
          "height": 202
        },
        "outputId": "65e5de0b-b540-4dfb-ec32-768619105691"
      },
      "source": [
        "question.head()#상위 5개"
      ],
      "execution_count": 4,
      "outputs": [
        {
          "output_type": "execute_result",
          "data": {
            "text/html": [
              "<div>\n",
              "<style scoped>\n",
              "    .dataframe tbody tr th:only-of-type {\n",
              "        vertical-align: middle;\n",
              "    }\n",
              "\n",
              "    .dataframe tbody tr th {\n",
              "        vertical-align: top;\n",
              "    }\n",
              "\n",
              "    .dataframe thead th {\n",
              "        text-align: right;\n",
              "    }\n",
              "</style>\n",
              "<table border=\"1\" class=\"dataframe\">\n",
              "  <thead>\n",
              "    <tr style=\"text-align: right;\">\n",
              "      <th></th>\n",
              "      <th>Column</th>\n",
              "      <th>Question</th>\n",
              "      <th>Asked</th>\n",
              "    </tr>\n",
              "  </thead>\n",
              "  <tbody>\n",
              "    <tr>\n",
              "      <th>0</th>\n",
              "      <td>GenderSelect</td>\n",
              "      <td>Select your gender identity. - Selected Choice</td>\n",
              "      <td>All</td>\n",
              "    </tr>\n",
              "    <tr>\n",
              "      <th>1</th>\n",
              "      <td>GenderFreeForm</td>\n",
              "      <td>Select your gender identity. - A different ide...</td>\n",
              "      <td>All</td>\n",
              "    </tr>\n",
              "    <tr>\n",
              "      <th>2</th>\n",
              "      <td>Country</td>\n",
              "      <td>Select the country you currently live in.</td>\n",
              "      <td>All</td>\n",
              "    </tr>\n",
              "    <tr>\n",
              "      <th>3</th>\n",
              "      <td>Age</td>\n",
              "      <td>What's your age?</td>\n",
              "      <td>All</td>\n",
              "    </tr>\n",
              "    <tr>\n",
              "      <th>4</th>\n",
              "      <td>EmploymentStatus</td>\n",
              "      <td>What's your current employment status?</td>\n",
              "      <td>All</td>\n",
              "    </tr>\n",
              "  </tbody>\n",
              "</table>\n",
              "</div>"
            ],
            "text/plain": [
              "             Column                                           Question Asked\n",
              "0      GenderSelect     Select your gender identity. - Selected Choice   All\n",
              "1    GenderFreeForm  Select your gender identity. - A different ide...   All\n",
              "2           Country          Select the country you currently live in.   All\n",
              "3               Age                                   What's your age?   All\n",
              "4  EmploymentStatus             What's your current employment status?   All"
            ]
          },
          "metadata": {
            "tags": []
          },
          "execution_count": 4
        }
      ]
    },
    {
      "cell_type": "code",
      "metadata": {
        "id": "KrGMxMu0ywdC",
        "colab_type": "code",
        "colab": {
          "base_uri": "https://localhost:8080/",
          "height": 36
        },
        "outputId": "c2a646b7-1479-471e-ef20-b514d163a150"
      },
      "source": [
        "mcq=pd.read_csv('/content/drive/My Drive/Colab Notebooks/data/multipleChoiceResponses.csv',encoding=\"ISO-8859-1\", low_memory=False)\n",
        "mcq.shape"
      ],
      "execution_count": 5,
      "outputs": [
        {
          "output_type": "execute_result",
          "data": {
            "text/plain": [
              "(16716, 228)"
            ]
          },
          "metadata": {
            "tags": []
          },
          "execution_count": 5
        }
      ]
    },
    {
      "cell_type": "code",
      "metadata": {
        "id": "Wu82LmsSzRcK",
        "colab_type": "code",
        "colab": {
          "base_uri": "https://localhost:8080/",
          "height": 185
        },
        "outputId": "c0520445-42ca-42bd-801c-7307d038eae1"
      },
      "source": [
        "mcq.columns"
      ],
      "execution_count": 6,
      "outputs": [
        {
          "output_type": "execute_result",
          "data": {
            "text/plain": [
              "Index(['GenderSelect', 'Country', 'Age', 'EmploymentStatus', 'StudentStatus',\n",
              "       'LearningDataScience', 'CodeWriter', 'CareerSwitcher',\n",
              "       'CurrentJobTitleSelect', 'TitleFit',\n",
              "       ...\n",
              "       'JobFactorExperienceLevel', 'JobFactorDepartment', 'JobFactorTitle',\n",
              "       'JobFactorCompanyFunding', 'JobFactorImpact', 'JobFactorRemote',\n",
              "       'JobFactorIndustry', 'JobFactorLeaderReputation', 'JobFactorDiversity',\n",
              "       'JobFactorPublishingOpportunity'],\n",
              "      dtype='object', length=228)"
            ]
          },
          "metadata": {
            "tags": []
          },
          "execution_count": 6
        }
      ]
    },
    {
      "cell_type": "code",
      "metadata": {
        "id": "-f5oenS6zUdj",
        "colab_type": "code",
        "colab": {
          "base_uri": "https://localhost:8080/",
          "height": 855
        },
        "outputId": "f542b823-8056-4ba3-c97a-688cf275e506"
      },
      "source": [
        "mcq.head(10)"
      ],
      "execution_count": 7,
      "outputs": [
        {
          "output_type": "execute_result",
          "data": {
            "text/html": [
              "<div>\n",
              "<style scoped>\n",
              "    .dataframe tbody tr th:only-of-type {\n",
              "        vertical-align: middle;\n",
              "    }\n",
              "\n",
              "    .dataframe tbody tr th {\n",
              "        vertical-align: top;\n",
              "    }\n",
              "\n",
              "    .dataframe thead th {\n",
              "        text-align: right;\n",
              "    }\n",
              "</style>\n",
              "<table border=\"1\" class=\"dataframe\">\n",
              "  <thead>\n",
              "    <tr style=\"text-align: right;\">\n",
              "      <th></th>\n",
              "      <th>GenderSelect</th>\n",
              "      <th>Country</th>\n",
              "      <th>Age</th>\n",
              "      <th>EmploymentStatus</th>\n",
              "      <th>StudentStatus</th>\n",
              "      <th>LearningDataScience</th>\n",
              "      <th>CodeWriter</th>\n",
              "      <th>CareerSwitcher</th>\n",
              "      <th>CurrentJobTitleSelect</th>\n",
              "      <th>TitleFit</th>\n",
              "      <th>CurrentEmployerType</th>\n",
              "      <th>MLToolNextYearSelect</th>\n",
              "      <th>MLMethodNextYearSelect</th>\n",
              "      <th>LanguageRecommendationSelect</th>\n",
              "      <th>PublicDatasetsSelect</th>\n",
              "      <th>LearningPlatformSelect</th>\n",
              "      <th>LearningPlatformUsefulnessArxiv</th>\n",
              "      <th>LearningPlatformUsefulnessBlogs</th>\n",
              "      <th>LearningPlatformUsefulnessCollege</th>\n",
              "      <th>LearningPlatformUsefulnessCompany</th>\n",
              "      <th>LearningPlatformUsefulnessConferences</th>\n",
              "      <th>LearningPlatformUsefulnessFriends</th>\n",
              "      <th>LearningPlatformUsefulnessKaggle</th>\n",
              "      <th>LearningPlatformUsefulnessNewsletters</th>\n",
              "      <th>LearningPlatformUsefulnessCommunities</th>\n",
              "      <th>LearningPlatformUsefulnessDocumentation</th>\n",
              "      <th>LearningPlatformUsefulnessCourses</th>\n",
              "      <th>LearningPlatformUsefulnessProjects</th>\n",
              "      <th>LearningPlatformUsefulnessPodcasts</th>\n",
              "      <th>LearningPlatformUsefulnessSO</th>\n",
              "      <th>LearningPlatformUsefulnessTextbook</th>\n",
              "      <th>LearningPlatformUsefulnessTradeBook</th>\n",
              "      <th>LearningPlatformUsefulnessTutoring</th>\n",
              "      <th>LearningPlatformUsefulnessYouTube</th>\n",
              "      <th>BlogsPodcastsNewslettersSelect</th>\n",
              "      <th>LearningDataScienceTime</th>\n",
              "      <th>JobSkillImportanceBigData</th>\n",
              "      <th>JobSkillImportanceDegree</th>\n",
              "      <th>JobSkillImportanceStats</th>\n",
              "      <th>JobSkillImportanceEnterpriseTools</th>\n",
              "      <th>...</th>\n",
              "      <th>WorkChallengeFrequencyITCoordination</th>\n",
              "      <th>WorkChallengeFrequencyHiringFunds</th>\n",
              "      <th>WorkChallengeFrequencyPrivacy</th>\n",
              "      <th>WorkChallengeFrequencyScaling</th>\n",
              "      <th>WorkChallengeFrequencyEnvironments</th>\n",
              "      <th>WorkChallengeFrequencyClarity</th>\n",
              "      <th>WorkChallengeFrequencyDataAccess</th>\n",
              "      <th>WorkChallengeFrequencyOtherSelect</th>\n",
              "      <th>WorkDataVisualizations</th>\n",
              "      <th>WorkInternalVsExternalTools</th>\n",
              "      <th>WorkMLTeamSeatSelect</th>\n",
              "      <th>WorkDatasets</th>\n",
              "      <th>WorkDatasetsChallenge</th>\n",
              "      <th>WorkDataStorage</th>\n",
              "      <th>WorkDataSharing</th>\n",
              "      <th>WorkDataSourcing</th>\n",
              "      <th>WorkCodeSharing</th>\n",
              "      <th>RemoteWork</th>\n",
              "      <th>CompensationAmount</th>\n",
              "      <th>CompensationCurrency</th>\n",
              "      <th>SalaryChange</th>\n",
              "      <th>JobSatisfaction</th>\n",
              "      <th>JobSearchResource</th>\n",
              "      <th>JobHuntTime</th>\n",
              "      <th>JobFactorLearning</th>\n",
              "      <th>JobFactorSalary</th>\n",
              "      <th>JobFactorOffice</th>\n",
              "      <th>JobFactorLanguages</th>\n",
              "      <th>JobFactorCommute</th>\n",
              "      <th>JobFactorManagement</th>\n",
              "      <th>JobFactorExperienceLevel</th>\n",
              "      <th>JobFactorDepartment</th>\n",
              "      <th>JobFactorTitle</th>\n",
              "      <th>JobFactorCompanyFunding</th>\n",
              "      <th>JobFactorImpact</th>\n",
              "      <th>JobFactorRemote</th>\n",
              "      <th>JobFactorIndustry</th>\n",
              "      <th>JobFactorLeaderReputation</th>\n",
              "      <th>JobFactorDiversity</th>\n",
              "      <th>JobFactorPublishingOpportunity</th>\n",
              "    </tr>\n",
              "  </thead>\n",
              "  <tbody>\n",
              "    <tr>\n",
              "      <th>0</th>\n",
              "      <td>Non-binary, genderqueer, or gender non-conforming</td>\n",
              "      <td>NaN</td>\n",
              "      <td>NaN</td>\n",
              "      <td>Employed full-time</td>\n",
              "      <td>NaN</td>\n",
              "      <td>NaN</td>\n",
              "      <td>Yes</td>\n",
              "      <td>NaN</td>\n",
              "      <td>DBA/Database Engineer</td>\n",
              "      <td>Fine</td>\n",
              "      <td>Employed by a company that doesn't perform adv...</td>\n",
              "      <td>SAS Base</td>\n",
              "      <td>Random Forests</td>\n",
              "      <td>F#</td>\n",
              "      <td>Dataset aggregator/platform (i.e. Socrata/Kagg...</td>\n",
              "      <td>College/University,Conferences,Podcasts,Trade ...</td>\n",
              "      <td>NaN</td>\n",
              "      <td>NaN</td>\n",
              "      <td>NaN</td>\n",
              "      <td>NaN</td>\n",
              "      <td>Very useful</td>\n",
              "      <td>NaN</td>\n",
              "      <td>NaN</td>\n",
              "      <td>NaN</td>\n",
              "      <td>NaN</td>\n",
              "      <td>NaN</td>\n",
              "      <td>NaN</td>\n",
              "      <td>NaN</td>\n",
              "      <td>Very useful</td>\n",
              "      <td>NaN</td>\n",
              "      <td>NaN</td>\n",
              "      <td>Somewhat useful</td>\n",
              "      <td>NaN</td>\n",
              "      <td>NaN</td>\n",
              "      <td>Becoming a Data Scientist Podcast,Data Machina...</td>\n",
              "      <td>NaN</td>\n",
              "      <td>NaN</td>\n",
              "      <td>NaN</td>\n",
              "      <td>NaN</td>\n",
              "      <td>NaN</td>\n",
              "      <td>...</td>\n",
              "      <td>NaN</td>\n",
              "      <td>NaN</td>\n",
              "      <td>Often</td>\n",
              "      <td>Most of the time</td>\n",
              "      <td>NaN</td>\n",
              "      <td>NaN</td>\n",
              "      <td>NaN</td>\n",
              "      <td>NaN</td>\n",
              "      <td>26-50% of projects</td>\n",
              "      <td>Do not know</td>\n",
              "      <td>Standalone Team</td>\n",
              "      <td>NaN</td>\n",
              "      <td>NaN</td>\n",
              "      <td>Document-oriented (e.g. MongoDB/Elasticsearch)...</td>\n",
              "      <td>Company Developed Platform,I don't typically s...</td>\n",
              "      <td>NaN</td>\n",
              "      <td>Mercurial,Subversion,Other</td>\n",
              "      <td>Always</td>\n",
              "      <td>NaN</td>\n",
              "      <td>NaN</td>\n",
              "      <td>I am not currently employed</td>\n",
              "      <td>5</td>\n",
              "      <td>NaN</td>\n",
              "      <td>NaN</td>\n",
              "      <td>NaN</td>\n",
              "      <td>NaN</td>\n",
              "      <td>NaN</td>\n",
              "      <td>NaN</td>\n",
              "      <td>NaN</td>\n",
              "      <td>NaN</td>\n",
              "      <td>NaN</td>\n",
              "      <td>NaN</td>\n",
              "      <td>NaN</td>\n",
              "      <td>NaN</td>\n",
              "      <td>NaN</td>\n",
              "      <td>NaN</td>\n",
              "      <td>NaN</td>\n",
              "      <td>NaN</td>\n",
              "      <td>NaN</td>\n",
              "      <td>NaN</td>\n",
              "    </tr>\n",
              "    <tr>\n",
              "      <th>1</th>\n",
              "      <td>Female</td>\n",
              "      <td>United States</td>\n",
              "      <td>30.0</td>\n",
              "      <td>Not employed, but looking for work</td>\n",
              "      <td>NaN</td>\n",
              "      <td>NaN</td>\n",
              "      <td>NaN</td>\n",
              "      <td>NaN</td>\n",
              "      <td>NaN</td>\n",
              "      <td>NaN</td>\n",
              "      <td>NaN</td>\n",
              "      <td>Python</td>\n",
              "      <td>Random Forests</td>\n",
              "      <td>Python</td>\n",
              "      <td>Dataset aggregator/platform (i.e. Socrata/Kagg...</td>\n",
              "      <td>Kaggle</td>\n",
              "      <td>NaN</td>\n",
              "      <td>NaN</td>\n",
              "      <td>NaN</td>\n",
              "      <td>NaN</td>\n",
              "      <td>NaN</td>\n",
              "      <td>NaN</td>\n",
              "      <td>Somewhat useful</td>\n",
              "      <td>NaN</td>\n",
              "      <td>NaN</td>\n",
              "      <td>NaN</td>\n",
              "      <td>NaN</td>\n",
              "      <td>NaN</td>\n",
              "      <td>NaN</td>\n",
              "      <td>NaN</td>\n",
              "      <td>NaN</td>\n",
              "      <td>NaN</td>\n",
              "      <td>NaN</td>\n",
              "      <td>NaN</td>\n",
              "      <td>Becoming a Data Scientist Podcast,Siraj Raval ...</td>\n",
              "      <td>1-2 years</td>\n",
              "      <td>NaN</td>\n",
              "      <td>Nice to have</td>\n",
              "      <td>Unnecessary</td>\n",
              "      <td>NaN</td>\n",
              "      <td>...</td>\n",
              "      <td>NaN</td>\n",
              "      <td>NaN</td>\n",
              "      <td>NaN</td>\n",
              "      <td>NaN</td>\n",
              "      <td>NaN</td>\n",
              "      <td>NaN</td>\n",
              "      <td>NaN</td>\n",
              "      <td>NaN</td>\n",
              "      <td>NaN</td>\n",
              "      <td>NaN</td>\n",
              "      <td>NaN</td>\n",
              "      <td>NaN</td>\n",
              "      <td>NaN</td>\n",
              "      <td>NaN</td>\n",
              "      <td>NaN</td>\n",
              "      <td>NaN</td>\n",
              "      <td>NaN</td>\n",
              "      <td>NaN</td>\n",
              "      <td>NaN</td>\n",
              "      <td>NaN</td>\n",
              "      <td>NaN</td>\n",
              "      <td>NaN</td>\n",
              "      <td>NaN</td>\n",
              "      <td>NaN</td>\n",
              "      <td>NaN</td>\n",
              "      <td>NaN</td>\n",
              "      <td>NaN</td>\n",
              "      <td>NaN</td>\n",
              "      <td>NaN</td>\n",
              "      <td>NaN</td>\n",
              "      <td>NaN</td>\n",
              "      <td>NaN</td>\n",
              "      <td>NaN</td>\n",
              "      <td>NaN</td>\n",
              "      <td>NaN</td>\n",
              "      <td>NaN</td>\n",
              "      <td>NaN</td>\n",
              "      <td>Somewhat important</td>\n",
              "      <td>NaN</td>\n",
              "      <td>NaN</td>\n",
              "    </tr>\n",
              "    <tr>\n",
              "      <th>2</th>\n",
              "      <td>Male</td>\n",
              "      <td>Canada</td>\n",
              "      <td>28.0</td>\n",
              "      <td>Not employed, but looking for work</td>\n",
              "      <td>NaN</td>\n",
              "      <td>NaN</td>\n",
              "      <td>NaN</td>\n",
              "      <td>NaN</td>\n",
              "      <td>NaN</td>\n",
              "      <td>NaN</td>\n",
              "      <td>NaN</td>\n",
              "      <td>Amazon Web services</td>\n",
              "      <td>Deep learning</td>\n",
              "      <td>R</td>\n",
              "      <td>Dataset aggregator/platform (i.e. Socrata/Kagg...</td>\n",
              "      <td>Arxiv,College/University,Kaggle,Online courses...</td>\n",
              "      <td>Very useful</td>\n",
              "      <td>NaN</td>\n",
              "      <td>Somewhat useful</td>\n",
              "      <td>NaN</td>\n",
              "      <td>NaN</td>\n",
              "      <td>NaN</td>\n",
              "      <td>Somewhat useful</td>\n",
              "      <td>NaN</td>\n",
              "      <td>NaN</td>\n",
              "      <td>NaN</td>\n",
              "      <td>Very useful</td>\n",
              "      <td>NaN</td>\n",
              "      <td>NaN</td>\n",
              "      <td>NaN</td>\n",
              "      <td>NaN</td>\n",
              "      <td>NaN</td>\n",
              "      <td>NaN</td>\n",
              "      <td>Very useful</td>\n",
              "      <td>FastML Blog,No Free Hunch Blog,Talking Machine...</td>\n",
              "      <td>1-2 years</td>\n",
              "      <td>Necessary</td>\n",
              "      <td>NaN</td>\n",
              "      <td>NaN</td>\n",
              "      <td>NaN</td>\n",
              "      <td>...</td>\n",
              "      <td>NaN</td>\n",
              "      <td>NaN</td>\n",
              "      <td>NaN</td>\n",
              "      <td>NaN</td>\n",
              "      <td>NaN</td>\n",
              "      <td>NaN</td>\n",
              "      <td>NaN</td>\n",
              "      <td>NaN</td>\n",
              "      <td>NaN</td>\n",
              "      <td>NaN</td>\n",
              "      <td>NaN</td>\n",
              "      <td>NaN</td>\n",
              "      <td>NaN</td>\n",
              "      <td>NaN</td>\n",
              "      <td>NaN</td>\n",
              "      <td>NaN</td>\n",
              "      <td>NaN</td>\n",
              "      <td>NaN</td>\n",
              "      <td>NaN</td>\n",
              "      <td>NaN</td>\n",
              "      <td>NaN</td>\n",
              "      <td>NaN</td>\n",
              "      <td>Asking friends, family members, or former coll...</td>\n",
              "      <td>1-2</td>\n",
              "      <td>Very Important</td>\n",
              "      <td>Very Important</td>\n",
              "      <td>Very Important</td>\n",
              "      <td>Very Important</td>\n",
              "      <td>Very Important</td>\n",
              "      <td>Very Important</td>\n",
              "      <td>Very Important</td>\n",
              "      <td>Very Important</td>\n",
              "      <td>Very Important</td>\n",
              "      <td>Very Important</td>\n",
              "      <td>Very Important</td>\n",
              "      <td>Very Important</td>\n",
              "      <td>Very Important</td>\n",
              "      <td>Very Important</td>\n",
              "      <td>Very Important</td>\n",
              "      <td>Very Important</td>\n",
              "    </tr>\n",
              "    <tr>\n",
              "      <th>3</th>\n",
              "      <td>Male</td>\n",
              "      <td>United States</td>\n",
              "      <td>56.0</td>\n",
              "      <td>Independent contractor, freelancer, or self-em...</td>\n",
              "      <td>NaN</td>\n",
              "      <td>NaN</td>\n",
              "      <td>Yes</td>\n",
              "      <td>NaN</td>\n",
              "      <td>Operations Research Practitioner</td>\n",
              "      <td>Poorly</td>\n",
              "      <td>Self-employed</td>\n",
              "      <td>TensorFlow</td>\n",
              "      <td>Neural Nets</td>\n",
              "      <td>Python</td>\n",
              "      <td>I collect my own data (e.g. web-scraping)</td>\n",
              "      <td>Blogs,College/University,Conferences,Friends n...</td>\n",
              "      <td>NaN</td>\n",
              "      <td>Very useful</td>\n",
              "      <td>Very useful</td>\n",
              "      <td>NaN</td>\n",
              "      <td>Very useful</td>\n",
              "      <td>Very useful</td>\n",
              "      <td>NaN</td>\n",
              "      <td>NaN</td>\n",
              "      <td>NaN</td>\n",
              "      <td>Very useful</td>\n",
              "      <td>Very useful</td>\n",
              "      <td>Very useful</td>\n",
              "      <td>NaN</td>\n",
              "      <td>NaN</td>\n",
              "      <td>NaN</td>\n",
              "      <td>NaN</td>\n",
              "      <td>NaN</td>\n",
              "      <td>NaN</td>\n",
              "      <td>KDnuggets Blog</td>\n",
              "      <td>NaN</td>\n",
              "      <td>NaN</td>\n",
              "      <td>NaN</td>\n",
              "      <td>NaN</td>\n",
              "      <td>NaN</td>\n",
              "      <td>...</td>\n",
              "      <td>NaN</td>\n",
              "      <td>Often</td>\n",
              "      <td>Often</td>\n",
              "      <td>Often</td>\n",
              "      <td>Often</td>\n",
              "      <td>Often</td>\n",
              "      <td>Often</td>\n",
              "      <td>NaN</td>\n",
              "      <td>100% of projects</td>\n",
              "      <td>Entirely internal</td>\n",
              "      <td>Standalone Team</td>\n",
              "      <td>Electricity data sets from government and states</td>\n",
              "      <td>Everything is custom, there is never a tool th...</td>\n",
              "      <td>Column-oriented relational (e.g. KDB/MariaDB),...</td>\n",
              "      <td>Company Developed Platform,Email</td>\n",
              "      <td>NaN</td>\n",
              "      <td>Generic cloud file sharing software (Dropbox/B...</td>\n",
              "      <td>NaN</td>\n",
              "      <td>250,000</td>\n",
              "      <td>USD</td>\n",
              "      <td>Has increased 20% or more</td>\n",
              "      <td>10 - Highly Satisfied</td>\n",
              "      <td>NaN</td>\n",
              "      <td>NaN</td>\n",
              "      <td>NaN</td>\n",
              "      <td>NaN</td>\n",
              "      <td>NaN</td>\n",
              "      <td>NaN</td>\n",
              "      <td>NaN</td>\n",
              "      <td>NaN</td>\n",
              "      <td>NaN</td>\n",
              "      <td>NaN</td>\n",
              "      <td>NaN</td>\n",
              "      <td>NaN</td>\n",
              "      <td>NaN</td>\n",
              "      <td>NaN</td>\n",
              "      <td>NaN</td>\n",
              "      <td>NaN</td>\n",
              "      <td>NaN</td>\n",
              "      <td>NaN</td>\n",
              "    </tr>\n",
              "    <tr>\n",
              "      <th>4</th>\n",
              "      <td>Male</td>\n",
              "      <td>Taiwan</td>\n",
              "      <td>38.0</td>\n",
              "      <td>Employed full-time</td>\n",
              "      <td>NaN</td>\n",
              "      <td>NaN</td>\n",
              "      <td>Yes</td>\n",
              "      <td>NaN</td>\n",
              "      <td>Computer Scientist</td>\n",
              "      <td>Fine</td>\n",
              "      <td>Employed by a company that doesn't perform adv...</td>\n",
              "      <td>TensorFlow</td>\n",
              "      <td>Text Mining</td>\n",
              "      <td>Python</td>\n",
              "      <td>GitHub</td>\n",
              "      <td>Arxiv,Conferences,Kaggle,Textbook</td>\n",
              "      <td>Very useful</td>\n",
              "      <td>NaN</td>\n",
              "      <td>NaN</td>\n",
              "      <td>NaN</td>\n",
              "      <td>Somewhat useful</td>\n",
              "      <td>NaN</td>\n",
              "      <td>Somewhat useful</td>\n",
              "      <td>NaN</td>\n",
              "      <td>NaN</td>\n",
              "      <td>NaN</td>\n",
              "      <td>NaN</td>\n",
              "      <td>NaN</td>\n",
              "      <td>NaN</td>\n",
              "      <td>NaN</td>\n",
              "      <td>Somewhat useful</td>\n",
              "      <td>NaN</td>\n",
              "      <td>NaN</td>\n",
              "      <td>NaN</td>\n",
              "      <td>Data Machina Newsletter,Jack's Import AI Newsl...</td>\n",
              "      <td>NaN</td>\n",
              "      <td>NaN</td>\n",
              "      <td>NaN</td>\n",
              "      <td>NaN</td>\n",
              "      <td>NaN</td>\n",
              "      <td>...</td>\n",
              "      <td>Sometimes</td>\n",
              "      <td>NaN</td>\n",
              "      <td>Most of the time</td>\n",
              "      <td>NaN</td>\n",
              "      <td>Sometimes</td>\n",
              "      <td>NaN</td>\n",
              "      <td>NaN</td>\n",
              "      <td>NaN</td>\n",
              "      <td>10-25% of projects</td>\n",
              "      <td>Approximately half internal and half external</td>\n",
              "      <td>Business Department</td>\n",
              "      <td>NaN</td>\n",
              "      <td>NaN</td>\n",
              "      <td>Flat files not in a database or cache (e.g. CS...</td>\n",
              "      <td>Company Developed Platform</td>\n",
              "      <td>NaN</td>\n",
              "      <td>Git</td>\n",
              "      <td>Rarely</td>\n",
              "      <td>NaN</td>\n",
              "      <td>NaN</td>\n",
              "      <td>I do not want to share information about my sa...</td>\n",
              "      <td>2</td>\n",
              "      <td>NaN</td>\n",
              "      <td>NaN</td>\n",
              "      <td>NaN</td>\n",
              "      <td>NaN</td>\n",
              "      <td>NaN</td>\n",
              "      <td>NaN</td>\n",
              "      <td>NaN</td>\n",
              "      <td>NaN</td>\n",
              "      <td>NaN</td>\n",
              "      <td>NaN</td>\n",
              "      <td>NaN</td>\n",
              "      <td>NaN</td>\n",
              "      <td>NaN</td>\n",
              "      <td>NaN</td>\n",
              "      <td>NaN</td>\n",
              "      <td>NaN</td>\n",
              "      <td>NaN</td>\n",
              "      <td>NaN</td>\n",
              "    </tr>\n",
              "    <tr>\n",
              "      <th>5</th>\n",
              "      <td>Male</td>\n",
              "      <td>Brazil</td>\n",
              "      <td>46.0</td>\n",
              "      <td>Employed full-time</td>\n",
              "      <td>NaN</td>\n",
              "      <td>NaN</td>\n",
              "      <td>Yes</td>\n",
              "      <td>NaN</td>\n",
              "      <td>Data Scientist</td>\n",
              "      <td>Fine</td>\n",
              "      <td>Employed by college or university</td>\n",
              "      <td>TensorFlow</td>\n",
              "      <td>Genetic &amp; Evolutionary Algorithms</td>\n",
              "      <td>Python</td>\n",
              "      <td>Dataset aggregator/platform (i.e. Socrata/Kagg...</td>\n",
              "      <td>Kaggle,Online courses,Stack Overflow Q&amp;A,Textbook</td>\n",
              "      <td>NaN</td>\n",
              "      <td>NaN</td>\n",
              "      <td>NaN</td>\n",
              "      <td>NaN</td>\n",
              "      <td>NaN</td>\n",
              "      <td>NaN</td>\n",
              "      <td>Very useful</td>\n",
              "      <td>NaN</td>\n",
              "      <td>NaN</td>\n",
              "      <td>NaN</td>\n",
              "      <td>Very useful</td>\n",
              "      <td>NaN</td>\n",
              "      <td>NaN</td>\n",
              "      <td>Very useful</td>\n",
              "      <td>Very useful</td>\n",
              "      <td>NaN</td>\n",
              "      <td>NaN</td>\n",
              "      <td>NaN</td>\n",
              "      <td>Other (Separate different answers with semicolon)</td>\n",
              "      <td>NaN</td>\n",
              "      <td>NaN</td>\n",
              "      <td>NaN</td>\n",
              "      <td>NaN</td>\n",
              "      <td>NaN</td>\n",
              "      <td>...</td>\n",
              "      <td>NaN</td>\n",
              "      <td>NaN</td>\n",
              "      <td>NaN</td>\n",
              "      <td>NaN</td>\n",
              "      <td>NaN</td>\n",
              "      <td>NaN</td>\n",
              "      <td>NaN</td>\n",
              "      <td>NaN</td>\n",
              "      <td>76-99% of projects</td>\n",
              "      <td>More internal than external</td>\n",
              "      <td>Other</td>\n",
              "      <td>NaN</td>\n",
              "      <td>NaN</td>\n",
              "      <td>Column-oriented relational (e.g. KDB/MariaDB),...</td>\n",
              "      <td>I don't typically share data</td>\n",
              "      <td>NaN</td>\n",
              "      <td>Bitbucket,Git,Other</td>\n",
              "      <td>Sometimes</td>\n",
              "      <td>NaN</td>\n",
              "      <td>NaN</td>\n",
              "      <td>I do not want to share information about my sa...</td>\n",
              "      <td>8</td>\n",
              "      <td>NaN</td>\n",
              "      <td>NaN</td>\n",
              "      <td>NaN</td>\n",
              "      <td>NaN</td>\n",
              "      <td>NaN</td>\n",
              "      <td>NaN</td>\n",
              "      <td>NaN</td>\n",
              "      <td>NaN</td>\n",
              "      <td>NaN</td>\n",
              "      <td>NaN</td>\n",
              "      <td>NaN</td>\n",
              "      <td>NaN</td>\n",
              "      <td>NaN</td>\n",
              "      <td>NaN</td>\n",
              "      <td>NaN</td>\n",
              "      <td>NaN</td>\n",
              "      <td>NaN</td>\n",
              "      <td>NaN</td>\n",
              "    </tr>\n",
              "    <tr>\n",
              "      <th>6</th>\n",
              "      <td>Male</td>\n",
              "      <td>United States</td>\n",
              "      <td>35.0</td>\n",
              "      <td>Employed full-time</td>\n",
              "      <td>NaN</td>\n",
              "      <td>NaN</td>\n",
              "      <td>Yes</td>\n",
              "      <td>NaN</td>\n",
              "      <td>Computer Scientist</td>\n",
              "      <td>Fine</td>\n",
              "      <td>Employed by government</td>\n",
              "      <td>TensorFlow</td>\n",
              "      <td>Text Mining</td>\n",
              "      <td>R</td>\n",
              "      <td>Dataset aggregator/platform (i.e. Socrata/Kagg...</td>\n",
              "      <td>Arxiv,Blogs,Kaggle,Personal Projects,Textbook</td>\n",
              "      <td>Somewhat useful</td>\n",
              "      <td>Somewhat useful</td>\n",
              "      <td>NaN</td>\n",
              "      <td>NaN</td>\n",
              "      <td>NaN</td>\n",
              "      <td>NaN</td>\n",
              "      <td>Somewhat useful</td>\n",
              "      <td>NaN</td>\n",
              "      <td>NaN</td>\n",
              "      <td>NaN</td>\n",
              "      <td>NaN</td>\n",
              "      <td>Somewhat useful</td>\n",
              "      <td>NaN</td>\n",
              "      <td>NaN</td>\n",
              "      <td>Very useful</td>\n",
              "      <td>NaN</td>\n",
              "      <td>NaN</td>\n",
              "      <td>NaN</td>\n",
              "      <td>NaN</td>\n",
              "      <td>NaN</td>\n",
              "      <td>NaN</td>\n",
              "      <td>NaN</td>\n",
              "      <td>NaN</td>\n",
              "      <td>NaN</td>\n",
              "      <td>...</td>\n",
              "      <td>NaN</td>\n",
              "      <td>NaN</td>\n",
              "      <td>NaN</td>\n",
              "      <td>NaN</td>\n",
              "      <td>NaN</td>\n",
              "      <td>NaN</td>\n",
              "      <td>NaN</td>\n",
              "      <td>NaN</td>\n",
              "      <td>26-50% of projects</td>\n",
              "      <td>Entirely internal</td>\n",
              "      <td>IT Department</td>\n",
              "      <td>NaN</td>\n",
              "      <td>NaN</td>\n",
              "      <td>Flat files not in a database or cache (e.g. CS...</td>\n",
              "      <td>Company Developed Platform,Email</td>\n",
              "      <td>NaN</td>\n",
              "      <td>Bitbucket,Git</td>\n",
              "      <td>NaN</td>\n",
              "      <td>NaN</td>\n",
              "      <td>NaN</td>\n",
              "      <td>NaN</td>\n",
              "      <td>8</td>\n",
              "      <td>NaN</td>\n",
              "      <td>NaN</td>\n",
              "      <td>NaN</td>\n",
              "      <td>NaN</td>\n",
              "      <td>NaN</td>\n",
              "      <td>NaN</td>\n",
              "      <td>NaN</td>\n",
              "      <td>NaN</td>\n",
              "      <td>NaN</td>\n",
              "      <td>NaN</td>\n",
              "      <td>NaN</td>\n",
              "      <td>NaN</td>\n",
              "      <td>NaN</td>\n",
              "      <td>NaN</td>\n",
              "      <td>NaN</td>\n",
              "      <td>NaN</td>\n",
              "      <td>NaN</td>\n",
              "      <td>NaN</td>\n",
              "    </tr>\n",
              "    <tr>\n",
              "      <th>7</th>\n",
              "      <td>Female</td>\n",
              "      <td>India</td>\n",
              "      <td>22.0</td>\n",
              "      <td>Employed full-time</td>\n",
              "      <td>NaN</td>\n",
              "      <td>NaN</td>\n",
              "      <td>No</td>\n",
              "      <td>Yes</td>\n",
              "      <td>Software Developer/Software Engineer</td>\n",
              "      <td>Fine</td>\n",
              "      <td>Employed by professional services/consulting firm</td>\n",
              "      <td>Google Cloud Compute</td>\n",
              "      <td>Deep learning</td>\n",
              "      <td>SQL</td>\n",
              "      <td>Dataset aggregator/platform (i.e. Socrata/Kagg...</td>\n",
              "      <td>College/University,Kaggle,Online courses,Stack...</td>\n",
              "      <td>NaN</td>\n",
              "      <td>NaN</td>\n",
              "      <td>Very useful</td>\n",
              "      <td>NaN</td>\n",
              "      <td>NaN</td>\n",
              "      <td>NaN</td>\n",
              "      <td>Very useful</td>\n",
              "      <td>NaN</td>\n",
              "      <td>NaN</td>\n",
              "      <td>NaN</td>\n",
              "      <td>Very useful</td>\n",
              "      <td>NaN</td>\n",
              "      <td>NaN</td>\n",
              "      <td>Very useful</td>\n",
              "      <td>NaN</td>\n",
              "      <td>NaN</td>\n",
              "      <td>NaN</td>\n",
              "      <td>Very useful</td>\n",
              "      <td>Becoming a Data Scientist Podcast,Siraj Raval ...</td>\n",
              "      <td>1-2 years</td>\n",
              "      <td>Necessary</td>\n",
              "      <td>Nice to have</td>\n",
              "      <td>Nice to have</td>\n",
              "      <td>Nice to have</td>\n",
              "      <td>...</td>\n",
              "      <td>NaN</td>\n",
              "      <td>NaN</td>\n",
              "      <td>NaN</td>\n",
              "      <td>NaN</td>\n",
              "      <td>NaN</td>\n",
              "      <td>NaN</td>\n",
              "      <td>NaN</td>\n",
              "      <td>NaN</td>\n",
              "      <td>NaN</td>\n",
              "      <td>NaN</td>\n",
              "      <td>NaN</td>\n",
              "      <td>NaN</td>\n",
              "      <td>NaN</td>\n",
              "      <td>NaN</td>\n",
              "      <td>NaN</td>\n",
              "      <td>NaN</td>\n",
              "      <td>NaN</td>\n",
              "      <td>NaN</td>\n",
              "      <td>NaN</td>\n",
              "      <td>NaN</td>\n",
              "      <td>NaN</td>\n",
              "      <td>NaN</td>\n",
              "      <td>Career fair or on-campus recruiting event</td>\n",
              "      <td>1-2</td>\n",
              "      <td>Very Important</td>\n",
              "      <td>Very Important</td>\n",
              "      <td>Very Important</td>\n",
              "      <td>Very Important</td>\n",
              "      <td>Very Important</td>\n",
              "      <td>Very Important</td>\n",
              "      <td>Very Important</td>\n",
              "      <td>Somewhat important</td>\n",
              "      <td>Very Important</td>\n",
              "      <td>Somewhat important</td>\n",
              "      <td>Somewhat important</td>\n",
              "      <td>Not important</td>\n",
              "      <td>Very Important</td>\n",
              "      <td>Very Important</td>\n",
              "      <td>Somewhat important</td>\n",
              "      <td>Somewhat important</td>\n",
              "    </tr>\n",
              "    <tr>\n",
              "      <th>8</th>\n",
              "      <td>Female</td>\n",
              "      <td>Australia</td>\n",
              "      <td>43.0</td>\n",
              "      <td>Employed full-time</td>\n",
              "      <td>NaN</td>\n",
              "      <td>NaN</td>\n",
              "      <td>Yes</td>\n",
              "      <td>NaN</td>\n",
              "      <td>Business Analyst</td>\n",
              "      <td>Fine</td>\n",
              "      <td>Employed by non-profit or NGO</td>\n",
              "      <td>Microsoft Excel Data Mining</td>\n",
              "      <td>Link Analysis</td>\n",
              "      <td>Python</td>\n",
              "      <td>University/Non-profit research group websites</td>\n",
              "      <td>Blogs,Company internal community,Conferences,F...</td>\n",
              "      <td>NaN</td>\n",
              "      <td>Very useful</td>\n",
              "      <td>NaN</td>\n",
              "      <td>Very useful</td>\n",
              "      <td>Very useful</td>\n",
              "      <td>Very useful</td>\n",
              "      <td>Very useful</td>\n",
              "      <td>Very useful</td>\n",
              "      <td>Very useful</td>\n",
              "      <td>NaN</td>\n",
              "      <td>Very useful</td>\n",
              "      <td>NaN</td>\n",
              "      <td>NaN</td>\n",
              "      <td>NaN</td>\n",
              "      <td>NaN</td>\n",
              "      <td>NaN</td>\n",
              "      <td>NaN</td>\n",
              "      <td>Very useful</td>\n",
              "      <td>Becoming a Data Scientist Podcast,Data Elixir ...</td>\n",
              "      <td>NaN</td>\n",
              "      <td>NaN</td>\n",
              "      <td>NaN</td>\n",
              "      <td>NaN</td>\n",
              "      <td>NaN</td>\n",
              "      <td>...</td>\n",
              "      <td>NaN</td>\n",
              "      <td>NaN</td>\n",
              "      <td>NaN</td>\n",
              "      <td>NaN</td>\n",
              "      <td>NaN</td>\n",
              "      <td>NaN</td>\n",
              "      <td>NaN</td>\n",
              "      <td>NaN</td>\n",
              "      <td>Less than 10% of projects</td>\n",
              "      <td>Entirely internal</td>\n",
              "      <td>IT Department</td>\n",
              "      <td>NaN</td>\n",
              "      <td>NaN</td>\n",
              "      <td>Row-oriented relational (e.g. MySQL/Microsoft ...</td>\n",
              "      <td>I don't typically share data,Share Drive/Share...</td>\n",
              "      <td>NaN</td>\n",
              "      <td>Generic non-cloud file sharing software (Email...</td>\n",
              "      <td>Rarely</td>\n",
              "      <td>80000</td>\n",
              "      <td>AUD</td>\n",
              "      <td>Has stayed about the same (has not increased o...</td>\n",
              "      <td>7</td>\n",
              "      <td>NaN</td>\n",
              "      <td>NaN</td>\n",
              "      <td>NaN</td>\n",
              "      <td>NaN</td>\n",
              "      <td>NaN</td>\n",
              "      <td>NaN</td>\n",
              "      <td>NaN</td>\n",
              "      <td>NaN</td>\n",
              "      <td>NaN</td>\n",
              "      <td>NaN</td>\n",
              "      <td>NaN</td>\n",
              "      <td>NaN</td>\n",
              "      <td>NaN</td>\n",
              "      <td>NaN</td>\n",
              "      <td>NaN</td>\n",
              "      <td>NaN</td>\n",
              "      <td>NaN</td>\n",
              "      <td>NaN</td>\n",
              "    </tr>\n",
              "    <tr>\n",
              "      <th>9</th>\n",
              "      <td>Male</td>\n",
              "      <td>Russia</td>\n",
              "      <td>33.0</td>\n",
              "      <td>Employed full-time</td>\n",
              "      <td>NaN</td>\n",
              "      <td>NaN</td>\n",
              "      <td>Yes</td>\n",
              "      <td>NaN</td>\n",
              "      <td>Software Developer/Software Engineer</td>\n",
              "      <td>Fine</td>\n",
              "      <td>Employed by a company that doesn't perform adv...</td>\n",
              "      <td>C/C++</td>\n",
              "      <td>Deep learning</td>\n",
              "      <td>Python</td>\n",
              "      <td>Dataset aggregator/platform (i.e. Socrata/Kagg...</td>\n",
              "      <td>Arxiv,Blogs,Conferences,Kaggle,Non-Kaggle onli...</td>\n",
              "      <td>Somewhat useful</td>\n",
              "      <td>Somewhat useful</td>\n",
              "      <td>NaN</td>\n",
              "      <td>NaN</td>\n",
              "      <td>Somewhat useful</td>\n",
              "      <td>NaN</td>\n",
              "      <td>Somewhat useful</td>\n",
              "      <td>NaN</td>\n",
              "      <td>Somewhat useful</td>\n",
              "      <td>Very useful</td>\n",
              "      <td>Very useful</td>\n",
              "      <td>Very useful</td>\n",
              "      <td>Somewhat useful</td>\n",
              "      <td>Somewhat useful</td>\n",
              "      <td>Very useful</td>\n",
              "      <td>NaN</td>\n",
              "      <td>NaN</td>\n",
              "      <td>Somewhat useful</td>\n",
              "      <td>DataTau News Aggregator,KDnuggets Blog,No Free...</td>\n",
              "      <td>NaN</td>\n",
              "      <td>NaN</td>\n",
              "      <td>NaN</td>\n",
              "      <td>NaN</td>\n",
              "      <td>NaN</td>\n",
              "      <td>...</td>\n",
              "      <td>NaN</td>\n",
              "      <td>Sometimes</td>\n",
              "      <td>Rarely</td>\n",
              "      <td>Rarely</td>\n",
              "      <td>NaN</td>\n",
              "      <td>NaN</td>\n",
              "      <td>NaN</td>\n",
              "      <td>NaN</td>\n",
              "      <td>Less than 10% of projects</td>\n",
              "      <td>Do not know</td>\n",
              "      <td>IT Department</td>\n",
              "      <td>Address database; geo data</td>\n",
              "      <td>NaN</td>\n",
              "      <td>Document-oriented (e.g. MongoDB/Elasticsearch)...</td>\n",
              "      <td>I don't typically share data</td>\n",
              "      <td>NaN</td>\n",
              "      <td>Bitbucket,Git</td>\n",
              "      <td>Rarely</td>\n",
              "      <td>1200000</td>\n",
              "      <td>RUB</td>\n",
              "      <td>Has increased between 6% and 19%</td>\n",
              "      <td>7</td>\n",
              "      <td>NaN</td>\n",
              "      <td>NaN</td>\n",
              "      <td>NaN</td>\n",
              "      <td>NaN</td>\n",
              "      <td>NaN</td>\n",
              "      <td>NaN</td>\n",
              "      <td>NaN</td>\n",
              "      <td>NaN</td>\n",
              "      <td>NaN</td>\n",
              "      <td>NaN</td>\n",
              "      <td>NaN</td>\n",
              "      <td>NaN</td>\n",
              "      <td>NaN</td>\n",
              "      <td>NaN</td>\n",
              "      <td>NaN</td>\n",
              "      <td>NaN</td>\n",
              "      <td>NaN</td>\n",
              "      <td>NaN</td>\n",
              "    </tr>\n",
              "  </tbody>\n",
              "</table>\n",
              "<p>10 rows × 228 columns</p>\n",
              "</div>"
            ],
            "text/plain": [
              "                                        GenderSelect  ... JobFactorPublishingOpportunity\n",
              "0  Non-binary, genderqueer, or gender non-conforming  ...                            NaN\n",
              "1                                             Female  ...                            NaN\n",
              "2                                               Male  ...                 Very Important\n",
              "3                                               Male  ...                            NaN\n",
              "4                                               Male  ...                            NaN\n",
              "5                                               Male  ...                            NaN\n",
              "6                                               Male  ...                            NaN\n",
              "7                                             Female  ...             Somewhat important\n",
              "8                                             Female  ...                            NaN\n",
              "9                                               Male  ...                            NaN\n",
              "\n",
              "[10 rows x 228 columns]"
            ]
          },
          "metadata": {
            "tags": []
          },
          "execution_count": 7
        }
      ]
    },
    {
      "cell_type": "code",
      "metadata": {
        "id": "AOt_A4uBzZFL",
        "colab_type": "code",
        "colab": {
          "base_uri": "https://localhost:8080/",
          "height": 332
        },
        "outputId": "e15cd7b9-f3fc-443b-dff3-aa61993594fd"
      },
      "source": [
        "import missingno as msno\n",
        "msno.matrix(mcq, figsize=(12,5))"
      ],
      "execution_count": 8,
      "outputs": [
        {
          "output_type": "execute_result",
          "data": {
            "text/plain": [
              "<matplotlib.axes._subplots.AxesSubplot at 0x7f4d767747b8>"
            ]
          },
          "metadata": {
            "tags": []
          },
          "execution_count": 8
        },
        {
          "output_type": "display_data",
          "data": {
            "image/png": "[encoded data removed]",
            "text/plain": [
              "<Figure size 864x360 with 2 Axes>"
            ]
          },
          "metadata": {
            "tags": [],
            "needs_background": "light"
          }
        }
      ]
    },
    {
      "cell_type": "code",
      "metadata": {
        "id": "3IFLerK5zomU",
        "colab_type": "code",
        "colab": {
          "base_uri": "https://localhost:8080/",
          "height": 298
        },
        "outputId": "b3e83c14-7167-47da-9f69-f21393027c8f"
      },
      "source": [
        "#성별\n",
        "sns.countplot(y='GenderSelect', data=mcq)"
      ],
      "execution_count": 9,
      "outputs": [
        {
          "output_type": "execute_result",
          "data": {
            "text/plain": [
              "<matplotlib.axes._subplots.AxesSubplot at 0x7f4d73b781d0>"
            ]
          },
          "metadata": {
            "tags": []
          },
          "execution_count": 9
        },
        {
          "output_type": "display_data",
          "data": {
            "image/png": "[encoded data removed]",
            "text/plain": [
              "<Figure size 432x288 with 1 Axes>"
            ]
          },
          "metadata": {
            "tags": [],
            "needs_background": "light"
          }
        }
      ]
    },
    {
      "cell_type": "code",
      "metadata": {
        "id": "_7PzDQTmz2wZ",
        "colab_type": "code",
        "colab": {
          "base_uri": "https://localhost:8080/",
          "height": 662
        },
        "outputId": "965e8057-066a-4e3a-c8db-aaa5c4c859fd"
      },
      "source": [
        "# 국가별 응답 수\n",
        "con_df=pd.DataFrame(mcq['Country'].value_counts())\n",
        "con_df['국가']=con_df.index\n",
        "con_df.columns=['응답 수','국가']\n",
        "con_df=con_df.reset_index().drop('index', axis=1)\n",
        "con_df.head(20)"
      ],
      "execution_count": 10,
      "outputs": [
        {
          "output_type": "execute_result",
          "data": {
            "text/html": [
              "<div>\n",
              "<style scoped>\n",
              "    .dataframe tbody tr th:only-of-type {\n",
              "        vertical-align: middle;\n",
              "    }\n",
              "\n",
              "    .dataframe tbody tr th {\n",
              "        vertical-align: top;\n",
              "    }\n",
              "\n",
              "    .dataframe thead th {\n",
              "        text-align: right;\n",
              "    }\n",
              "</style>\n",
              "<table border=\"1\" class=\"dataframe\">\n",
              "  <thead>\n",
              "    <tr style=\"text-align: right;\">\n",
              "      <th></th>\n",
              "      <th>응답 수</th>\n",
              "      <th>국가</th>\n",
              "    </tr>\n",
              "  </thead>\n",
              "  <tbody>\n",
              "    <tr>\n",
              "      <th>0</th>\n",
              "      <td>4197</td>\n",
              "      <td>United States</td>\n",
              "    </tr>\n",
              "    <tr>\n",
              "      <th>1</th>\n",
              "      <td>2704</td>\n",
              "      <td>India</td>\n",
              "    </tr>\n",
              "    <tr>\n",
              "      <th>2</th>\n",
              "      <td>1023</td>\n",
              "      <td>Other</td>\n",
              "    </tr>\n",
              "    <tr>\n",
              "      <th>3</th>\n",
              "      <td>578</td>\n",
              "      <td>Russia</td>\n",
              "    </tr>\n",
              "    <tr>\n",
              "      <th>4</th>\n",
              "      <td>535</td>\n",
              "      <td>United Kingdom</td>\n",
              "    </tr>\n",
              "    <tr>\n",
              "      <th>5</th>\n",
              "      <td>471</td>\n",
              "      <td>People 's Republic of China</td>\n",
              "    </tr>\n",
              "    <tr>\n",
              "      <th>6</th>\n",
              "      <td>465</td>\n",
              "      <td>Brazil</td>\n",
              "    </tr>\n",
              "    <tr>\n",
              "      <th>7</th>\n",
              "      <td>460</td>\n",
              "      <td>Germany</td>\n",
              "    </tr>\n",
              "    <tr>\n",
              "      <th>8</th>\n",
              "      <td>442</td>\n",
              "      <td>France</td>\n",
              "    </tr>\n",
              "    <tr>\n",
              "      <th>9</th>\n",
              "      <td>440</td>\n",
              "      <td>Canada</td>\n",
              "    </tr>\n",
              "    <tr>\n",
              "      <th>10</th>\n",
              "      <td>421</td>\n",
              "      <td>Australia</td>\n",
              "    </tr>\n",
              "    <tr>\n",
              "      <th>11</th>\n",
              "      <td>320</td>\n",
              "      <td>Spain</td>\n",
              "    </tr>\n",
              "    <tr>\n",
              "      <th>12</th>\n",
              "      <td>277</td>\n",
              "      <td>Japan</td>\n",
              "    </tr>\n",
              "    <tr>\n",
              "      <th>13</th>\n",
              "      <td>254</td>\n",
              "      <td>Taiwan</td>\n",
              "    </tr>\n",
              "    <tr>\n",
              "      <th>14</th>\n",
              "      <td>238</td>\n",
              "      <td>Italy</td>\n",
              "    </tr>\n",
              "    <tr>\n",
              "      <th>15</th>\n",
              "      <td>205</td>\n",
              "      <td>Netherlands</td>\n",
              "    </tr>\n",
              "    <tr>\n",
              "      <th>16</th>\n",
              "      <td>196</td>\n",
              "      <td>Ukraine</td>\n",
              "    </tr>\n",
              "    <tr>\n",
              "      <th>17</th>\n",
              "      <td>194</td>\n",
              "      <td>South Korea</td>\n",
              "    </tr>\n",
              "    <tr>\n",
              "      <th>18</th>\n",
              "      <td>184</td>\n",
              "      <td>Singapore</td>\n",
              "    </tr>\n",
              "    <tr>\n",
              "      <th>19</th>\n",
              "      <td>184</td>\n",
              "      <td>Poland</td>\n",
              "    </tr>\n",
              "  </tbody>\n",
              "</table>\n",
              "</div>"
            ],
            "text/plain": [
              "    응답 수                           국가\n",
              "0   4197                United States\n",
              "1   2704                        India\n",
              "2   1023                        Other\n",
              "3    578                       Russia\n",
              "4    535               United Kingdom\n",
              "5    471  People 's Republic of China\n",
              "6    465                       Brazil\n",
              "7    460                      Germany\n",
              "8    442                       France\n",
              "9    440                       Canada\n",
              "10   421                    Australia\n",
              "11   320                        Spain\n",
              "12   277                        Japan\n",
              "13   254                       Taiwan\n",
              "14   238                        Italy\n",
              "15   205                  Netherlands\n",
              "16   196                      Ukraine\n",
              "17   194                  South Korea\n",
              "18   184                    Singapore\n",
              "19   184                       Poland"
            ]
          },
          "metadata": {
            "tags": []
          },
          "execution_count": 10
        }
      ]
    },
    {
      "cell_type": "code",
      "metadata": {
        "id": "ESH5tYXo0eXB",
        "colab_type": "code",
        "colab": {
          "base_uri": "https://localhost:8080/",
          "height": 185
        },
        "outputId": "7748721c-99df-4c6f-d1f1-946cfa868711"
      },
      "source": [
        "mcq['Age'].describe()"
      ],
      "execution_count": 11,
      "outputs": [
        {
          "output_type": "execute_result",
          "data": {
            "text/plain": [
              "count    16385.000000\n",
              "mean        32.372841\n",
              "std         10.473487\n",
              "min          0.000000\n",
              "25%         25.000000\n",
              "50%         30.000000\n",
              "75%         37.000000\n",
              "max        100.000000\n",
              "Name: Age, dtype: float64"
            ]
          },
          "metadata": {
            "tags": []
          },
          "execution_count": 11
        }
      ]
    },
    {
      "cell_type": "code",
      "metadata": {
        "id": "jiaK-U0v0sU8",
        "colab_type": "code",
        "colab": {
          "base_uri": "https://localhost:8080/",
          "height": 302
        },
        "outputId": "645300ff-616c-4714-ca80-ef3c0c8a5bba"
      },
      "source": [
        "sns.distplot(mcq[mcq['Age']>0]['Age'])"
      ],
      "execution_count": 12,
      "outputs": [
        {
          "output_type": "execute_result",
          "data": {
            "text/plain": [
              "<matplotlib.axes._subplots.AxesSubplot at 0x7f4d73c040f0>"
            ]
          },
          "metadata": {
            "tags": []
          },
          "execution_count": 12
        },
        {
          "output_type": "display_data",
          "data": {
            "image/png": "[encoded data removed]",
            "text/plain": [
              "<Figure size 432x288 with 1 Axes>"
            ]
          },
          "metadata": {
            "tags": [],
            "needs_background": "light"
          }
        }
      ]
    },
    {
      "cell_type": "code",
      "metadata": {
        "id": "u6DZWWCN02EF",
        "colab_type": "code",
        "colab": {
          "base_uri": "https://localhost:8080/",
          "height": 298
        },
        "outputId": "3df412c1-46ee-4e47-feb7-7ba9d191d62f"
      },
      "source": [
        "sns.countplot(y='FormalEducation', data=mcq)"
      ],
      "execution_count": 13,
      "outputs": [
        {
          "output_type": "execute_result",
          "data": {
            "text/plain": [
              "<matplotlib.axes._subplots.AxesSubplot at 0x7f4d7360df98>"
            ]
          },
          "metadata": {
            "tags": []
          },
          "execution_count": 13
        },
        {
          "output_type": "display_data",
          "data": {
            "image/png": "[encoded data removed]",
            "text/plain": [
              "<Figure size 432x288 with 1 Axes>"
            ]
          },
          "metadata": {
            "tags": [],
            "needs_background": "light"
          }
        }
      ]
    },
    {
      "cell_type": "code",
      "metadata": {
        "id": "6M_PC-Qm1C-E",
        "colab_type": "code",
        "colab": {
          "base_uri": "https://localhost:8080/",
          "height": 509
        },
        "outputId": "3010ba46-75d1-457f-c488-a1e451ee3363"
      },
      "source": [
        "#전공\n",
        "mcq_major_count=pd.DataFrame(mcq['MajorSelect'].value_counts())\n",
        "mcq_major_percent=pd.DataFrame(mcq['MajorSelect'].value_counts(normalize=True))\n",
        "mcq_major_df=mcq_major_count.merge(mcq_major_percent, left_index=True, right_index=True)\n",
        "mcq_major_df.columns=['응답 수', '비율']\n",
        "mcq_major_df"
      ],
      "execution_count": 14,
      "outputs": [
        {
          "output_type": "execute_result",
          "data": {
            "text/html": [
              "<div>\n",
              "<style scoped>\n",
              "    .dataframe tbody tr th:only-of-type {\n",
              "        vertical-align: middle;\n",
              "    }\n",
              "\n",
              "    .dataframe tbody tr th {\n",
              "        vertical-align: top;\n",
              "    }\n",
              "\n",
              "    .dataframe thead th {\n",
              "        text-align: right;\n",
              "    }\n",
              "</style>\n",
              "<table border=\"1\" class=\"dataframe\">\n",
              "  <thead>\n",
              "    <tr style=\"text-align: right;\">\n",
              "      <th></th>\n",
              "      <th>응답 수</th>\n",
              "      <th>비율</th>\n",
              "    </tr>\n",
              "  </thead>\n",
              "  <tbody>\n",
              "    <tr>\n",
              "      <th>Computer Science</th>\n",
              "      <td>4397</td>\n",
              "      <td>0.331074</td>\n",
              "    </tr>\n",
              "    <tr>\n",
              "      <th>Mathematics or statistics</th>\n",
              "      <td>2220</td>\n",
              "      <td>0.167156</td>\n",
              "    </tr>\n",
              "    <tr>\n",
              "      <th>Engineering (non-computer focused)</th>\n",
              "      <td>1339</td>\n",
              "      <td>0.100821</td>\n",
              "    </tr>\n",
              "    <tr>\n",
              "      <th>Electrical Engineering</th>\n",
              "      <td>1303</td>\n",
              "      <td>0.098110</td>\n",
              "    </tr>\n",
              "    <tr>\n",
              "      <th>Other</th>\n",
              "      <td>848</td>\n",
              "      <td>0.063851</td>\n",
              "    </tr>\n",
              "    <tr>\n",
              "      <th>Physics</th>\n",
              "      <td>830</td>\n",
              "      <td>0.062495</td>\n",
              "    </tr>\n",
              "    <tr>\n",
              "      <th>Information technology, networking, or system administration</th>\n",
              "      <td>693</td>\n",
              "      <td>0.052180</td>\n",
              "    </tr>\n",
              "    <tr>\n",
              "      <th>A social science</th>\n",
              "      <td>531</td>\n",
              "      <td>0.039982</td>\n",
              "    </tr>\n",
              "    <tr>\n",
              "      <th>Biology</th>\n",
              "      <td>274</td>\n",
              "      <td>0.020631</td>\n",
              "    </tr>\n",
              "    <tr>\n",
              "      <th>Management information systems</th>\n",
              "      <td>237</td>\n",
              "      <td>0.017845</td>\n",
              "    </tr>\n",
              "    <tr>\n",
              "      <th>A humanities discipline</th>\n",
              "      <td>198</td>\n",
              "      <td>0.014909</td>\n",
              "    </tr>\n",
              "    <tr>\n",
              "      <th>A health science</th>\n",
              "      <td>152</td>\n",
              "      <td>0.011445</td>\n",
              "    </tr>\n",
              "    <tr>\n",
              "      <th>Psychology</th>\n",
              "      <td>137</td>\n",
              "      <td>0.010315</td>\n",
              "    </tr>\n",
              "    <tr>\n",
              "      <th>I never declared a major</th>\n",
              "      <td>65</td>\n",
              "      <td>0.004894</td>\n",
              "    </tr>\n",
              "    <tr>\n",
              "      <th>Fine arts or performing arts</th>\n",
              "      <td>57</td>\n",
              "      <td>0.004292</td>\n",
              "    </tr>\n",
              "  </tbody>\n",
              "</table>\n",
              "</div>"
            ],
            "text/plain": [
              "                                                    응답 수        비율\n",
              "Computer Science                                    4397  0.331074\n",
              "Mathematics or statistics                           2220  0.167156\n",
              "Engineering (non-computer focused)                  1339  0.100821\n",
              "Electrical Engineering                              1303  0.098110\n",
              "Other                                                848  0.063851\n",
              "Physics                                              830  0.062495\n",
              "Information technology, networking, or system a...   693  0.052180\n",
              "A social science                                     531  0.039982\n",
              "Biology                                              274  0.020631\n",
              "Management information systems                       237  0.017845\n",
              "A humanities discipline                              198  0.014909\n",
              "A health science                                     152  0.011445\n",
              "Psychology                                           137  0.010315\n",
              "I never declared a major                              65  0.004894\n",
              "Fine arts or performing arts                          57  0.004292"
            ]
          },
          "metadata": {
            "tags": []
          },
          "execution_count": 14
        }
      ]
    },
    {
      "cell_type": "code",
      "metadata": {
        "id": "OWQtG93o123K",
        "colab_type": "code",
        "colab": {
          "base_uri": "https://localhost:8080/",
          "height": 516
        },
        "outputId": "7e6194bd-ee6e-4eb5-b062-3ec99afa41c7"
      },
      "source": [
        "plt.figure(figsize=(6,8))\n",
        "sns.countplot(y='MajorSelect', data=mcq)"
      ],
      "execution_count": 15,
      "outputs": [
        {
          "output_type": "execute_result",
          "data": {
            "text/plain": [
              "<matplotlib.axes._subplots.AxesSubplot at 0x7f4d73bd5be0>"
            ]
          },
          "metadata": {
            "tags": []
          },
          "execution_count": 15
        },
        {
          "output_type": "display_data",
          "data": {
            "image/png": "[encoded data removed]",
            "text/plain": [
              "<Figure size 432x576 with 1 Axes>"
            ]
          },
          "metadata": {
            "tags": [],
            "needs_background": "light"
          }
        }
      ]
    },
    {
      "cell_type": "code",
      "metadata": {
        "id": "HlPo12tZ2I8M",
        "colab_type": "code",
        "colab": {
          "base_uri": "https://localhost:8080/",
          "height": 263
        },
        "outputId": "968ffd4e-8e02-4534-f919-3186e27cf4bc"
      },
      "source": [
        "#취업 여부\n",
        "mcq_es_count=pd.DataFrame(mcq['EmploymentStatus'].value_counts())\n",
        "mcq_es_percent=pd.DataFrame(mcq['EmploymentStatus'].value_counts(normalize=True))\n",
        "mcq_es_df=mcq_es_count.merge(mcq_es_percent, left_index=True, right_index=True)\n",
        "mcq_es_df.columns=['응답 수', '비율']\n",
        "mcq_es_df"
      ],
      "execution_count": 16,
      "outputs": [
        {
          "output_type": "execute_result",
          "data": {
            "text/html": [
              "<div>\n",
              "<style scoped>\n",
              "    .dataframe tbody tr th:only-of-type {\n",
              "        vertical-align: middle;\n",
              "    }\n",
              "\n",
              "    .dataframe tbody tr th {\n",
              "        vertical-align: top;\n",
              "    }\n",
              "\n",
              "    .dataframe thead th {\n",
              "        text-align: right;\n",
              "    }\n",
              "</style>\n",
              "<table border=\"1\" class=\"dataframe\">\n",
              "  <thead>\n",
              "    <tr style=\"text-align: right;\">\n",
              "      <th></th>\n",
              "      <th>응답 수</th>\n",
              "      <th>비율</th>\n",
              "    </tr>\n",
              "  </thead>\n",
              "  <tbody>\n",
              "    <tr>\n",
              "      <th>Employed full-time</th>\n",
              "      <td>10897</td>\n",
              "      <td>0.651890</td>\n",
              "    </tr>\n",
              "    <tr>\n",
              "      <th>Not employed, but looking for work</th>\n",
              "      <td>2110</td>\n",
              "      <td>0.126226</td>\n",
              "    </tr>\n",
              "    <tr>\n",
              "      <th>Independent contractor, freelancer, or self-employed</th>\n",
              "      <td>1330</td>\n",
              "      <td>0.079564</td>\n",
              "    </tr>\n",
              "    <tr>\n",
              "      <th>Not employed, and not looking for work</th>\n",
              "      <td>924</td>\n",
              "      <td>0.055276</td>\n",
              "    </tr>\n",
              "    <tr>\n",
              "      <th>Employed part-time</th>\n",
              "      <td>917</td>\n",
              "      <td>0.054858</td>\n",
              "    </tr>\n",
              "    <tr>\n",
              "      <th>I prefer not to say</th>\n",
              "      <td>420</td>\n",
              "      <td>0.025126</td>\n",
              "    </tr>\n",
              "    <tr>\n",
              "      <th>Retired</th>\n",
              "      <td>118</td>\n",
              "      <td>0.007059</td>\n",
              "    </tr>\n",
              "  </tbody>\n",
              "</table>\n",
              "</div>"
            ],
            "text/plain": [
              "                                                     응답 수        비율\n",
              "Employed full-time                                  10897  0.651890\n",
              "Not employed, but looking for work                   2110  0.126226\n",
              "Independent contractor, freelancer, or self-emp...   1330  0.079564\n",
              "Not employed, and not looking for work                924  0.055276\n",
              "Employed part-time                                    917  0.054858\n",
              "I prefer not to say                                   420  0.025126\n",
              "Retired                                               118  0.007059"
            ]
          },
          "metadata": {
            "tags": []
          },
          "execution_count": 16
        }
      ]
    },
    {
      "cell_type": "code",
      "metadata": {
        "id": "44TweGMk2coH",
        "colab_type": "code",
        "colab": {
          "base_uri": "https://localhost:8080/",
          "height": 298
        },
        "outputId": "ab121a34-ae56-4817-a195-a0a5895208cd"
      },
      "source": [
        "sns.countplot(y='EmploymentStatus',data=mcq)"
      ],
      "execution_count": 17,
      "outputs": [
        {
          "output_type": "execute_result",
          "data": {
            "text/plain": [
              "<matplotlib.axes._subplots.AxesSubplot at 0x7f4d72278da0>"
            ]
          },
          "metadata": {
            "tags": []
          },
          "execution_count": 17
        },
        {
          "output_type": "display_data",
          "data": {
            "image/png": "[encoded data removed]",
            "text/plain": [
              "<Figure size 432x288 with 1 Axes>"
            ]
          },
          "metadata": {
            "tags": [],
            "needs_background": "light"
          }
        }
      ]
    },
    {
      "cell_type": "code",
      "metadata": {
        "id": "SfTy75rZ2q3m",
        "colab_type": "code",
        "colab": {
          "base_uri": "https://localhost:8080/",
          "height": 298
        },
        "outputId": "e73bde40-a2cd-4fa8-fca7-220f0fd406ee"
      },
      "source": [
        "#프로그래밍 경험\n",
        "sns.countplot(y='Tenure',data=mcq)"
      ],
      "execution_count": 18,
      "outputs": [
        {
          "output_type": "execute_result",
          "data": {
            "text/plain": [
              "<matplotlib.axes._subplots.AxesSubplot at 0x7f4d72260c88>"
            ]
          },
          "metadata": {
            "tags": []
          },
          "execution_count": 18
        },
        {
          "output_type": "display_data",
          "data": {
            "image/png": "[encoded data removed]",
            "text/plain": [
              "<Figure size 432x288 with 1 Axes>"
            ]
          },
          "metadata": {
            "tags": [],
            "needs_background": "light"
          }
        }
      ]
    },
    {
      "cell_type": "code",
      "metadata": {
        "id": "pHzHICLd5jZU",
        "colab_type": "code",
        "colab": {
          "base_uri": "https://localhost:8080/",
          "height": 314
        },
        "outputId": "ca9f2490-6177-4369-c9a3-33dc60c59c57"
      },
      "source": [
        "korea=mcq.loc[(mcq['Country']=='South Korea')]\n",
        "\n",
        "print('The number of interviewees in Korea: '+str(korea.shape[0]))\n",
        "\n",
        "sns.distplot(korea['Age'].dropna())\n",
        "plt.title('Korean')\n",
        "plt.show()"
      ],
      "execution_count": 19,
      "outputs": [
        {
          "output_type": "stream",
          "text": [
            "The number of interviewees in Korea: 194\n"
          ],
          "name": "stdout"
        },
        {
          "output_type": "display_data",
          "data": {
            "image/png": "[encoded data removed]",
            "text/plain": [
              "<Figure size 432x288 with 1 Axes>"
            ]
          },
          "metadata": {
            "tags": [],
            "needs_background": "light"
          }
        }
      ]
    },
    {
      "cell_type": "code",
      "metadata": {
        "id": "SLW6Jne_59pV",
        "colab_type": "code",
        "colab": {
          "base_uri": "https://localhost:8080/",
          "height": 141
        },
        "outputId": "7bac4ddb-9597-4f7f-850d-4c09bc27246d"
      },
      "source": [
        "pd.DataFrame(korea['GenderSelect'].value_counts())"
      ],
      "execution_count": 20,
      "outputs": [
        {
          "output_type": "execute_result",
          "data": {
            "text/html": [
              "<div>\n",
              "<style scoped>\n",
              "    .dataframe tbody tr th:only-of-type {\n",
              "        vertical-align: middle;\n",
              "    }\n",
              "\n",
              "    .dataframe tbody tr th {\n",
              "        vertical-align: top;\n",
              "    }\n",
              "\n",
              "    .dataframe thead th {\n",
              "        text-align: right;\n",
              "    }\n",
              "</style>\n",
              "<table border=\"1\" class=\"dataframe\">\n",
              "  <thead>\n",
              "    <tr style=\"text-align: right;\">\n",
              "      <th></th>\n",
              "      <th>GenderSelect</th>\n",
              "    </tr>\n",
              "  </thead>\n",
              "  <tbody>\n",
              "    <tr>\n",
              "      <th>Male</th>\n",
              "      <td>156</td>\n",
              "    </tr>\n",
              "    <tr>\n",
              "      <th>Female</th>\n",
              "      <td>37</td>\n",
              "    </tr>\n",
              "    <tr>\n",
              "      <th>A different identity</th>\n",
              "      <td>1</td>\n",
              "    </tr>\n",
              "  </tbody>\n",
              "</table>\n",
              "</div>"
            ],
            "text/plain": [
              "                      GenderSelect\n",
              "Male                           156\n",
              "Female                          37\n",
              "A different identity             1"
            ]
          },
          "metadata": {
            "tags": []
          },
          "execution_count": 20
        }
      ]
    },
    {
      "cell_type": "code",
      "metadata": {
        "id": "h_vYO_1Q6Nri",
        "colab_type": "code",
        "colab": {
          "base_uri": "https://localhost:8080/",
          "height": 314
        },
        "outputId": "d6f0d2f4-8457-43ad-94fb-8d884e59974b"
      },
      "source": [
        "sns.countplot(x='GenderSelect', data=korea)\n",
        "plt.title('Korean')"
      ],
      "execution_count": 21,
      "outputs": [
        {
          "output_type": "execute_result",
          "data": {
            "text/plain": [
              "Text(0.5, 1.0, 'Korean')"
            ]
          },
          "metadata": {
            "tags": []
          },
          "execution_count": 21
        },
        {
          "output_type": "display_data",
          "data": {
            "image/png": "[encoded data removed]",
            "text/plain": [
              "<Figure size 432x288 with 1 Axes>"
            ]
          },
          "metadata": {
            "tags": [],
            "needs_background": "light"
          }
        }
      ]
    },
    {
      "cell_type": "code",
      "metadata": {
        "id": "LQKpw-qS6Uy2",
        "colab_type": "code",
        "colab": {
          "base_uri": "https://localhost:8080/",
          "height": 369
        },
        "outputId": "72c5e6ba-7bb9-49f9-81df-86e8d456864c"
      },
      "source": [
        "figure, (ax1,ax2)=plt.subplots(ncols=2)\n",
        "\n",
        "figure.set_size_inches(12,5)\n",
        "sns.distplot(korea['Age'].loc[korea['GenderSelect']=='Female'].dropna(), norm_hist=False, color=sns.color_palette(\"Paired\")[4], ax=ax1)\n",
        "plt.title('korean Female')\n",
        "\n",
        "sns.distplot(korea['Age'].loc[korea['GenderSelect']=='Male'].dropna(), norm_hist=False, color=sns.color_palette(\"Paired\")[0], ax=ax2)\n",
        "plt.title('korean Male')"
      ],
      "execution_count": 22,
      "outputs": [
        {
          "output_type": "execute_result",
          "data": {
            "text/plain": [
              "Text(0.5, 1.0, 'korean Male')"
            ]
          },
          "metadata": {
            "tags": []
          },
          "execution_count": 22
        },
        {
          "output_type": "display_data",
          "data": {
            "image/png": "[encoded data removed]",
            "text/plain": [
              "<Figure size 864x360 with 2 Axes>"
            ]
          },
          "metadata": {
            "tags": [],
            "needs_background": "light"
          }
        }
      ]
    },
    {
      "cell_type": "code",
      "metadata": {
        "id": "Vp6w-TAo7NQ2",
        "colab_type": "code",
        "colab": {
          "base_uri": "https://localhost:8080/",
          "height": 412
        },
        "outputId": "ba2964c4-14ae-4c96-e030-6cc1ec32cd2f"
      },
      "source": [
        "sns.barplot(x=korea['EmploymentStatus'].unique(),y=korea['EmploymentStatus'].value_counts())\n",
        "plt.xticks(rotation=30,ha='right')\n",
        "plt.title('Employment status of the korean')\n",
        "plt.ylabel('')\n",
        "plt.show()"
      ],
      "execution_count": 23,
      "outputs": [
        {
          "output_type": "display_data",
          "data": {
            "image/png": "[encoded data removed]",
            "text/plain": [
              "<Figure size 432x288 with 1 Axes>"
            ]
          },
          "metadata": {
            "tags": [],
            "needs_background": "light"
          }
        }
      ]
    },
    {
      "cell_type": "code",
      "metadata": {
        "id": "Eq9F7nOi8Fs5",
        "colab_type": "code",
        "colab": {
          "base_uri": "https://localhost:8080/",
          "height": 295
        },
        "outputId": "fdc52c98-57f5-4cab-9c99-cad246cbf7c0"
      },
      "source": [
        "#학생인지 아닌지-대부분 일을 하니 학생의 수 적음\n",
        "korea['StudentStatus']=korea['StudentStatus'].fillna('No')\n",
        "sns.countplot(x='StudentStatus',data=korea)\n",
        "plt.title('korean')\n",
        "plt.show()"
      ],
      "execution_count": 24,
      "outputs": [
        {
          "output_type": "display_data",
          "data": {
            "image/png": "[encoded data removed]",
            "text/plain": [
              "<Figure size 432x288 with 1 Axes>"
            ]
          },
          "metadata": {
            "tags": [],
            "needs_background": "light"
          }
        }
      ]
    },
    {
      "cell_type": "code",
      "metadata": {
        "id": "0j5LIlOY9Mdf",
        "colab_type": "code",
        "colab": {
          "base_uri": "https://localhost:8080/",
          "height": 55
        },
        "outputId": "718076ce-4e30-444a-f8b6-d507b9b9feb5"
      },
      "source": [
        "full_time=mcq.loc[(mcq['EmploymentStatus']=='Employed full-time')]\n",
        "print(full_time.shape)\n",
        "looking_for_job=mcq.loc[(mcq['EmploymentStatus']=='Not employed, but looking for work')]\n",
        "print(looking_for_job.shape)"
      ],
      "execution_count": 25,
      "outputs": [
        {
          "output_type": "stream",
          "text": [
            "(10897, 228)\n",
            "(2110, 228)\n"
          ],
          "name": "stdout"
        }
      ]
    },
    {
      "cell_type": "code",
      "metadata": {
        "id": "4IuteNxE9sG-",
        "colab_type": "code",
        "colab": {
          "base_uri": "https://localhost:8080/",
          "height": 298
        },
        "outputId": "70037725-90cf-463e-c23a-8e1f42702d59"
      },
      "source": [
        "#자주 묻는....FAQ\n",
        "sns.countplot(y='LanguageRecommendationSelect', data=mcq)"
      ],
      "execution_count": 26,
      "outputs": [
        {
          "output_type": "execute_result",
          "data": {
            "text/plain": [
              "<matplotlib.axes._subplots.AxesSubplot at 0x7f4d71f056a0>"
            ]
          },
          "metadata": {
            "tags": []
          },
          "execution_count": 26
        },
        {
          "output_type": "display_data",
          "data": {
            "image/png": "[encoded data removed]",
            "text/plain": [
              "<Figure size 432x288 with 1 Axes>"
            ]
          },
          "metadata": {
            "tags": [],
            "needs_background": "light"
          }
        }
      ]
    },
    {
      "cell_type": "code",
      "metadata": {
        "id": "3Io6hj6c-H3U",
        "colab_type": "code",
        "colab": {
          "base_uri": "https://localhost:8080/",
          "height": 298
        },
        "outputId": "06c259b0-ae4a-40e0-acd2-3f081866d184"
      },
      "source": [
        "#현재하는 일\n",
        "sns.countplot(y=mcq['CurrentJobTitleSelect'])"
      ],
      "execution_count": 27,
      "outputs": [
        {
          "output_type": "execute_result",
          "data": {
            "text/plain": [
              "<matplotlib.axes._subplots.AxesSubplot at 0x7f4d71e9e550>"
            ]
          },
          "metadata": {
            "tags": []
          },
          "execution_count": 27
        },
        {
          "output_type": "display_data",
          "data": {
            "image/png": "[encoded data removed]",
            "text/plain": [
              "<Figure size 432x288 with 1 Axes>"
            ]
          },
          "metadata": {
            "tags": [],
            "needs_background": "light"
          }
        }
      ]
    },
    {
      "cell_type": "code",
      "metadata": {
        "id": "hfzx8KDjYWdj",
        "colab_type": "code",
        "colab": {
          "base_uri": "https://localhost:8080/",
          "height": 36
        },
        "outputId": "9f1e760e-7e8a-47d7-8b58-ac44d7307cc4"
      },
      "source": [
        "mcq[mcq['CurrentJobTitleSelect'].notnull()]['CurrentJobTitleSelect'].shape"
      ],
      "execution_count": 28,
      "outputs": [
        {
          "output_type": "execute_result",
          "data": {
            "text/plain": [
              "(11830,)"
            ]
          },
          "metadata": {
            "tags": []
          },
          "execution_count": 28
        }
      ]
    },
    {
      "cell_type": "code",
      "metadata": {
        "id": "njlcdua1YpMy",
        "colab_type": "code",
        "colab": {
          "base_uri": "https://localhost:8080/",
          "height": 643
        },
        "outputId": "20c2670c-8a83-4482-b334-625ccc0bad63"
      },
      "source": [
        "#응답자 중 python&r\n",
        "data=mcq[(mcq['CurrentJobTitleSelect'].notnull()) & ((mcq['LanguageRecommendationSelect']=='Python') | (mcq['LanguageRecommendationSelect']=='R'))]\n",
        "print(data.shape)\n",
        "plt.figure(figsize=(8,10))\n",
        "sns.countplot(y='CurrentJobTitleSelect', hue='LanguageRecommendationSelect', data=data)"
      ],
      "execution_count": 29,
      "outputs": [
        {
          "output_type": "stream",
          "text": [
            "(7158, 228)\n"
          ],
          "name": "stdout"
        },
        {
          "output_type": "execute_result",
          "data": {
            "text/plain": [
              "<matplotlib.axes._subplots.AxesSubplot at 0x7f4d71e23668>"
            ]
          },
          "metadata": {
            "tags": []
          },
          "execution_count": 29
        },
        {
          "output_type": "display_data",
          "data": {
            "image/png": "[encoded data removed]",
            "text/plain": [
              "<Figure size 576x720 with 1 Axes>"
            ]
          },
          "metadata": {
            "tags": [],
            "needs_background": "light"
          }
        }
      ]
    },
    {
      "cell_type": "code",
      "metadata": {
        "id": "8VgJ61wAZn1Q",
        "colab_type": "code",
        "colab": {
          "base_uri": "https://localhost:8080/",
          "height": 662
        },
        "outputId": "ed5674d1-99c2-485a-80eb-4c83d763842a"
      },
      "source": [
        "#데이터 사이언스 툴\n",
        "mcq_ml_tool_count=pd.DataFrame(mcq['MLToolNextYearSelect'].value_counts())\n",
        "mcq_ml_tool_percent=pd.DataFrame(mcq['MLToolNextYearSelect'].value_counts(normalize=True))\n",
        "mcq_ml_tool_df=mcq_ml_tool_count.merge(mcq_ml_tool_percent, left_index=True, right_index=True).head(20)\n",
        "mcq_ml_tool_df.columns=['응답 수', '비율']\n",
        "mcq_ml_tool_df"
      ],
      "execution_count": 30,
      "outputs": [
        {
          "output_type": "execute_result",
          "data": {
            "text/html": [
              "<div>\n",
              "<style scoped>\n",
              "    .dataframe tbody tr th:only-of-type {\n",
              "        vertical-align: middle;\n",
              "    }\n",
              "\n",
              "    .dataframe tbody tr th {\n",
              "        vertical-align: top;\n",
              "    }\n",
              "\n",
              "    .dataframe thead th {\n",
              "        text-align: right;\n",
              "    }\n",
              "</style>\n",
              "<table border=\"1\" class=\"dataframe\">\n",
              "  <thead>\n",
              "    <tr style=\"text-align: right;\">\n",
              "      <th></th>\n",
              "      <th>응답 수</th>\n",
              "      <th>비율</th>\n",
              "    </tr>\n",
              "  </thead>\n",
              "  <tbody>\n",
              "    <tr>\n",
              "      <th>TensorFlow</th>\n",
              "      <td>2621</td>\n",
              "      <td>0.238316</td>\n",
              "    </tr>\n",
              "    <tr>\n",
              "      <th>Python</th>\n",
              "      <td>1713</td>\n",
              "      <td>0.155756</td>\n",
              "    </tr>\n",
              "    <tr>\n",
              "      <th>R</th>\n",
              "      <td>910</td>\n",
              "      <td>0.082742</td>\n",
              "    </tr>\n",
              "    <tr>\n",
              "      <th>Spark / MLlib</th>\n",
              "      <td>755</td>\n",
              "      <td>0.068649</td>\n",
              "    </tr>\n",
              "    <tr>\n",
              "      <th>Hadoop/Hive/Pig</th>\n",
              "      <td>417</td>\n",
              "      <td>0.037916</td>\n",
              "    </tr>\n",
              "    <tr>\n",
              "      <th>Other</th>\n",
              "      <td>407</td>\n",
              "      <td>0.037007</td>\n",
              "    </tr>\n",
              "    <tr>\n",
              "      <th>Amazon Machine Learning</th>\n",
              "      <td>392</td>\n",
              "      <td>0.035643</td>\n",
              "    </tr>\n",
              "    <tr>\n",
              "      <th>Jupyter notebooks</th>\n",
              "      <td>358</td>\n",
              "      <td>0.032551</td>\n",
              "    </tr>\n",
              "    <tr>\n",
              "      <th>I don't plan on learning a new tool/technology</th>\n",
              "      <td>341</td>\n",
              "      <td>0.031006</td>\n",
              "    </tr>\n",
              "    <tr>\n",
              "      <th>Google Cloud Compute</th>\n",
              "      <td>296</td>\n",
              "      <td>0.026914</td>\n",
              "    </tr>\n",
              "    <tr>\n",
              "      <th>Amazon Web services</th>\n",
              "      <td>273</td>\n",
              "      <td>0.024823</td>\n",
              "    </tr>\n",
              "    <tr>\n",
              "      <th>Julia</th>\n",
              "      <td>222</td>\n",
              "      <td>0.020185</td>\n",
              "    </tr>\n",
              "    <tr>\n",
              "      <th>Microsoft Azure Machine Learning</th>\n",
              "      <td>220</td>\n",
              "      <td>0.020004</td>\n",
              "    </tr>\n",
              "    <tr>\n",
              "      <th>DataRobot</th>\n",
              "      <td>220</td>\n",
              "      <td>0.020004</td>\n",
              "    </tr>\n",
              "    <tr>\n",
              "      <th>IBM Watson / Waton Analytics</th>\n",
              "      <td>194</td>\n",
              "      <td>0.017640</td>\n",
              "    </tr>\n",
              "    <tr>\n",
              "      <th>C/C++</th>\n",
              "      <td>186</td>\n",
              "      <td>0.016912</td>\n",
              "    </tr>\n",
              "    <tr>\n",
              "      <th>Tableau</th>\n",
              "      <td>150</td>\n",
              "      <td>0.013639</td>\n",
              "    </tr>\n",
              "    <tr>\n",
              "      <th>SQL</th>\n",
              "      <td>138</td>\n",
              "      <td>0.012548</td>\n",
              "    </tr>\n",
              "    <tr>\n",
              "      <th>Java</th>\n",
              "      <td>116</td>\n",
              "      <td>0.010547</td>\n",
              "    </tr>\n",
              "    <tr>\n",
              "      <th>MATLAB/Octave</th>\n",
              "      <td>115</td>\n",
              "      <td>0.010456</td>\n",
              "    </tr>\n",
              "  </tbody>\n",
              "</table>\n",
              "</div>"
            ],
            "text/plain": [
              "                                                응답 수        비율\n",
              "TensorFlow                                      2621  0.238316\n",
              "Python                                          1713  0.155756\n",
              "R                                                910  0.082742\n",
              "Spark / MLlib                                    755  0.068649\n",
              "Hadoop/Hive/Pig                                  417  0.037916\n",
              "Other                                            407  0.037007\n",
              "Amazon Machine Learning                          392  0.035643\n",
              "Jupyter notebooks                                358  0.032551\n",
              "I don't plan on learning a new tool/technology   341  0.031006\n",
              "Google Cloud Compute                             296  0.026914\n",
              "Amazon Web services                              273  0.024823\n",
              "Julia                                            222  0.020185\n",
              "Microsoft Azure Machine Learning                 220  0.020004\n",
              "DataRobot                                        220  0.020004\n",
              "IBM Watson / Waton Analytics                     194  0.017640\n",
              "C/C++                                            186  0.016912\n",
              "Tableau                                          150  0.013639\n",
              "SQL                                              138  0.012548\n",
              "Java                                             116  0.010547\n",
              "MATLAB/Octave                                    115  0.010456"
            ]
          },
          "metadata": {
            "tags": []
          },
          "execution_count": 30
        }
      ]
    },
    {
      "cell_type": "code",
      "metadata": {
        "id": "I0teIOeDceXF",
        "colab_type": "code",
        "colab": {
          "base_uri": "https://localhost:8080/",
          "height": 298
        },
        "outputId": "98664f70-7605-4727-f163-dc5aae03046d"
      },
      "source": [
        "data=mcq['MLToolNextYearSelect'].value_counts().head(20)\n",
        "sns.barplot(y=data.index, x=data)"
      ],
      "execution_count": 31,
      "outputs": [
        {
          "output_type": "execute_result",
          "data": {
            "text/plain": [
              "<matplotlib.axes._subplots.AxesSubplot at 0x7f4d71d29940>"
            ]
          },
          "metadata": {
            "tags": []
          },
          "execution_count": 31
        },
        {
          "output_type": "display_data",
          "data": {
            "image/png": "[encoded data removed]",
            "text/plain": [
              "<Figure size 432x288 with 1 Axes>"
            ]
          },
          "metadata": {
            "tags": [],
            "needs_background": "light"
          }
        }
      ]
    },
    {
      "cell_type": "code",
      "metadata": {
        "id": "HzOTDuymc7Mu",
        "colab_type": "code",
        "colab": {
          "base_uri": "https://localhost:8080/",
          "height": 298
        },
        "outputId": "6e12ea99-7265-4bb8-f200-41cc45d735db"
      },
      "source": [
        "#Data Science Methods\n",
        "data=mcq['MLMethodNextYearSelect'].value_counts().head(15)\n",
        "sns.barplot(y=data.index, x=data)"
      ],
      "execution_count": 32,
      "outputs": [
        {
          "output_type": "execute_result",
          "data": {
            "text/plain": [
              "<matplotlib.axes._subplots.AxesSubplot at 0x7f4d71c17ef0>"
            ]
          },
          "metadata": {
            "tags": []
          },
          "execution_count": 32
        },
        {
          "output_type": "display_data",
          "data": {
            "image/png": "[encoded data removed]",
            "text/plain": [
              "<Figure size 432x288 with 1 Axes>"
            ]
          },
          "metadata": {
            "tags": [],
            "needs_background": "light"
          }
        }
      ]
    },
    {
      "cell_type": "code",
      "metadata": {
        "id": "hQmLxe9GdQ7h",
        "colab_type": "code",
        "colab": {}
      },
      "source": [
        "#where learn ds platform\n",
        "mcq['LearningPlatformSelect']=mcq['LearningPlatformSelect'].astype('str')\n",
        "s=mcq.apply(lambda x:pd.Series(x['LearningPlatformSelect']),axis=1).stack().reset_index(level=1, drop=True)\n",
        "s.name='platform'"
      ],
      "execution_count": 33,
      "outputs": []
    },
    {
      "cell_type": "code",
      "metadata": {
        "id": "Ze5cxPLZd8Mw",
        "colab_type": "code",
        "colab": {
          "base_uri": "https://localhost:8080/",
          "height": 516
        },
        "outputId": "55ab3b6c-ce09-4296-eb11-4f90b0fc2719"
      },
      "source": [
        "plt.figure(figsize=(6,8))\n",
        "data=s[s!='nan'].value_counts().head(15)\n",
        "sns.barplot(y=data.index, x=data)"
      ],
      "execution_count": 34,
      "outputs": [
        {
          "output_type": "execute_result",
          "data": {
            "text/plain": [
              "<matplotlib.axes._subplots.AxesSubplot at 0x7f4d6f8713c8>"
            ]
          },
          "metadata": {
            "tags": []
          },
          "execution_count": 34
        },
        {
          "output_type": "display_data",
          "data": {
            "image/png": "[encoded data removed]",
            "text/plain": [
              "<Figure size 432x576 with 1 Axes>"
            ]
          },
          "metadata": {
            "tags": [],
            "needs_background": "light"
          }
        }
      ]
    },
    {
      "cell_type": "code",
      "metadata": {
        "id": "4HUr67VmeSSM",
        "colab_type": "code",
        "colab": {
          "base_uri": "https://localhost:8080/",
          "height": 282
        },
        "outputId": "3502ab72-e5fa-4f52-cb55-6536543c80e4"
      },
      "source": [
        "qc=question.loc[question['Column'].str.contains('LearningCategory')]\n",
        "print(qc.shape)\n",
        "qc"
      ],
      "execution_count": 35,
      "outputs": [
        {
          "output_type": "stream",
          "text": [
            "(7, 3)\n"
          ],
          "name": "stdout"
        },
        {
          "output_type": "execute_result",
          "data": {
            "text/html": [
              "<div>\n",
              "<style scoped>\n",
              "    .dataframe tbody tr th:only-of-type {\n",
              "        vertical-align: middle;\n",
              "    }\n",
              "\n",
              "    .dataframe tbody tr th {\n",
              "        vertical-align: top;\n",
              "    }\n",
              "\n",
              "    .dataframe thead th {\n",
              "        text-align: right;\n",
              "    }\n",
              "</style>\n",
              "<table border=\"1\" class=\"dataframe\">\n",
              "  <thead>\n",
              "    <tr style=\"text-align: right;\">\n",
              "      <th></th>\n",
              "      <th>Column</th>\n",
              "      <th>Question</th>\n",
              "      <th>Asked</th>\n",
              "    </tr>\n",
              "  </thead>\n",
              "  <tbody>\n",
              "    <tr>\n",
              "      <th>91</th>\n",
              "      <td>LearningCategorySelftTaught</td>\n",
              "      <td>What percentage of your current machine learni...</td>\n",
              "      <td>All</td>\n",
              "    </tr>\n",
              "    <tr>\n",
              "      <th>92</th>\n",
              "      <td>LearningCategoryOnlineCourses</td>\n",
              "      <td>What percentage of your current machine learni...</td>\n",
              "      <td>All</td>\n",
              "    </tr>\n",
              "    <tr>\n",
              "      <th>93</th>\n",
              "      <td>LearningCategoryWork</td>\n",
              "      <td>What percentage of your current machine learni...</td>\n",
              "      <td>All</td>\n",
              "    </tr>\n",
              "    <tr>\n",
              "      <th>94</th>\n",
              "      <td>LearningCategoryUniversity</td>\n",
              "      <td>What percentage of your current machine learni...</td>\n",
              "      <td>All</td>\n",
              "    </tr>\n",
              "    <tr>\n",
              "      <th>95</th>\n",
              "      <td>LearningCategoryKaggle</td>\n",
              "      <td>What percentage of your current machine learni...</td>\n",
              "      <td>All</td>\n",
              "    </tr>\n",
              "    <tr>\n",
              "      <th>96</th>\n",
              "      <td>LearningCategoryOther</td>\n",
              "      <td>What percentage of your current machine learni...</td>\n",
              "      <td>All</td>\n",
              "    </tr>\n",
              "    <tr>\n",
              "      <th>97</th>\n",
              "      <td>LearningCategoryOtherFreeForm</td>\n",
              "      <td>What percentage of your current machine learni...</td>\n",
              "      <td>All</td>\n",
              "    </tr>\n",
              "  </tbody>\n",
              "</table>\n",
              "</div>"
            ],
            "text/plain": [
              "                           Column  ... Asked\n",
              "91    LearningCategorySelftTaught  ...   All\n",
              "92  LearningCategoryOnlineCourses  ...   All\n",
              "93           LearningCategoryWork  ...   All\n",
              "94     LearningCategoryUniversity  ...   All\n",
              "95         LearningCategoryKaggle  ...   All\n",
              "96          LearningCategoryOther  ...   All\n",
              "97  LearningCategoryOtherFreeForm  ...   All\n",
              "\n",
              "[7 rows x 3 columns]"
            ]
          },
          "metadata": {
            "tags": []
          },
          "execution_count": 35
        }
      ]
    },
    {
      "cell_type": "code",
      "metadata": {
        "id": "seC6GcF-eq6_",
        "colab_type": "code",
        "colab": {}
      },
      "source": [
        "use_features=[x for x in mcq.columns if x.find('LearningPlatformUsefulness')!=-1]"
      ],
      "execution_count": 36,
      "outputs": []
    },
    {
      "cell_type": "code",
      "metadata": {
        "id": "b76z3lcQe41q",
        "colab_type": "code",
        "colab": {
          "base_uri": "https://localhost:8080/",
          "height": 611
        },
        "outputId": "1c3eb48f-3d0f-408c-9314-008f608a3865"
      },
      "source": [
        "#플랫폼과 유용함의 연관성\n",
        "fdf={}\n",
        "for feature in use_features:\n",
        "  a=mcq[feature].value_counts()\n",
        "  a=a/a.sum()\n",
        "  fdf[feature[len('LearningPlatformUsefulness'):]]=a\n",
        "\n",
        "fdf=pd.DataFrame(fdf).transpose().sort_values('Very useful', ascending=False)\n",
        "\n",
        "#그림\n",
        "plt.figure(figsize=(10,10))\n",
        "sns.heatmap(fdf.sort_values('Very useful', ascending=False), annot=True)"
      ],
      "execution_count": 37,
      "outputs": [
        {
          "output_type": "execute_result",
          "data": {
            "text/plain": [
              "<matplotlib.axes._subplots.AxesSubplot at 0x7f4d735fcda0>"
            ]
          },
          "metadata": {
            "tags": []
          },
          "execution_count": 37
        },
        {
          "output_type": "display_data",
          "data": {
            "image/png": "[encoded data removed]",
            "text/plain": [
              "<Figure size 720x720 with 2 Axes>"
            ]
          },
          "metadata": {
            "tags": [],
            "needs_background": "light"
          }
        }
      ]
    },
    {
      "cell_type": "code",
      "metadata": {
        "id": "wjZFxJRLfknL",
        "colab_type": "code",
        "colab": {
          "base_uri": "https://localhost:8080/",
          "height": 397
        },
        "outputId": "9d5bb474-eac1-4972-cc3d-d984b3e88015"
      },
      "source": [
        "#유용함 정도\n",
        "fdf.plot(kind='bar', figsize=(20,8), title='Usefullness of Learning Platforms')"
      ],
      "execution_count": 38,
      "outputs": [
        {
          "output_type": "execute_result",
          "data": {
            "text/plain": [
              "<matplotlib.axes._subplots.AxesSubplot at 0x7f4d713c1a90>"
            ]
          },
          "metadata": {
            "tags": []
          },
          "execution_count": 38
        },
        {
          "output_type": "display_data",
          "data": {
            "image/png": "[encoded data removed]",
            "text/plain": [
              "<Figure size 1440x576 with 1 Axes>"
            ]
          },
          "metadata": {
            "tags": [],
            "needs_background": "light"
          }
        }
      ]
    },
    {
      "cell_type": "code",
      "metadata": {
        "id": "_JTr7JnYgVUM",
        "colab_type": "code",
        "colab": {
          "base_uri": "https://localhost:8080/",
          "height": 129
        },
        "outputId": "b46e45ba-ee40-488b-b1b9-c3753bf0e5a1"
      },
      "source": [
        "cat_features=[x for x in mcq.columns if x.find('LearningCategory')!=-1]\n",
        "cat_features"
      ],
      "execution_count": 39,
      "outputs": [
        {
          "output_type": "execute_result",
          "data": {
            "text/plain": [
              "['LearningCategorySelftTaught',\n",
              " 'LearningCategoryOnlineCourses',\n",
              " 'LearningCategoryWork',\n",
              " 'LearningCategoryUniversity',\n",
              " 'LearningCategoryKaggle',\n",
              " 'LearningCategoryOther']"
            ]
          },
          "metadata": {
            "tags": []
          },
          "execution_count": 39
        }
      ]
    },
    {
      "cell_type": "code",
      "metadata": {
        "id": "tmvtpezVg9q6",
        "colab_type": "code",
        "colab": {
          "base_uri": "https://localhost:8080/",
          "height": 148
        },
        "outputId": "e7c4036b-aab2-4f4a-c439-ae37afb73e14"
      },
      "source": [
        "cdf={}\n",
        "for feature in cat_features:\n",
        "  cdf[feature[len('LearningCategory'):]]=mcq[feature].mean()\n",
        "\n",
        "cdf=pd.Series(cdf)\n",
        "cdf"
      ],
      "execution_count": 40,
      "outputs": [
        {
          "output_type": "execute_result",
          "data": {
            "text/plain": [
              "SelftTaught      33.366771\n",
              "OnlineCourses    27.375514\n",
              "Work             15.217593\n",
              "University       16.988607\n",
              "Kaggle            5.531434\n",
              "Other             1.795940\n",
              "dtype: float64"
            ]
          },
          "metadata": {
            "tags": []
          },
          "execution_count": 40
        }
      ]
    },
    {
      "cell_type": "code",
      "metadata": {
        "id": "TTMf6SRvh8vd",
        "colab_type": "code",
        "colab": {
          "base_uri": "https://localhost:8080/",
          "height": 264
        },
        "outputId": "c30594d3-13fe-4d8a-d8fd-e3008058b4d2"
      },
      "source": [
        "#플랫폼 별 도움되는 정도\n",
        "plt.pie(cdf, labels=cdf.index, autopct='%1.1f!!', shadow=True, startangle=140)\n",
        "plt.axis('equal')\n",
        "plt.title(\"Contribution of each Platform to Learning\")\n",
        "plt.show()"
      ],
      "execution_count": 41,
      "outputs": [
        {
          "output_type": "display_data",
          "data": {
            "image/png": "[encoded data removed]",
            "text/plain": [
              "<Figure size 432x288 with 1 Axes>"
            ]
          },
          "metadata": {
            "tags": []
          }
        }
      ]
    },
    {
      "cell_type": "code",
      "metadata": {
        "id": "p51CsCEti8-6",
        "colab_type": "code",
        "colab": {
          "base_uri": "https://localhost:8080/",
          "height": 98
        },
        "outputId": "f0ee08fb-ce7c-43e6-9064-22e0d73a2935"
      },
      "source": [
        "#컴퓨터 사양?\n",
        "#설문 내용 및 대상\n",
        "qc=question.loc[question['Column'].str.contains('HardwarePersonalProjectsSelect')]\n",
        "print(qc.shape)\n",
        "qc"
      ],
      "execution_count": 42,
      "outputs": [
        {
          "output_type": "stream",
          "text": [
            "(1, 3)\n"
          ],
          "name": "stdout"
        },
        {
          "output_type": "execute_result",
          "data": {
            "text/html": [
              "<div>\n",
              "<style scoped>\n",
              "    .dataframe tbody tr th:only-of-type {\n",
              "        vertical-align: middle;\n",
              "    }\n",
              "\n",
              "    .dataframe tbody tr th {\n",
              "        vertical-align: top;\n",
              "    }\n",
              "\n",
              "    .dataframe thead th {\n",
              "        text-align: right;\n",
              "    }\n",
              "</style>\n",
              "<table border=\"1\" class=\"dataframe\">\n",
              "  <thead>\n",
              "    <tr style=\"text-align: right;\">\n",
              "      <th></th>\n",
              "      <th>Column</th>\n",
              "      <th>Question</th>\n",
              "      <th>Asked</th>\n",
              "    </tr>\n",
              "  </thead>\n",
              "  <tbody>\n",
              "    <tr>\n",
              "      <th>74</th>\n",
              "      <td>HardwarePersonalProjectsSelect</td>\n",
              "      <td>Which computing hardware do you use for your p...</td>\n",
              "      <td>Learners</td>\n",
              "    </tr>\n",
              "  </tbody>\n",
              "</table>\n",
              "</div>"
            ],
            "text/plain": [
              "                            Column  ...     Asked\n",
              "74  HardwarePersonalProjectsSelect  ...  Learners\n",
              "\n",
              "[1 rows x 3 columns]"
            ]
          },
          "metadata": {
            "tags": []
          },
          "execution_count": 42
        }
      ]
    },
    {
      "cell_type": "code",
      "metadata": {
        "id": "5BKCO-pujUsj",
        "colab_type": "code",
        "colab": {
          "base_uri": "https://localhost:8080/",
          "height": 36
        },
        "outputId": "de0063e6-3e74-4dba-96a0-d1d3ee8c8d42"
      },
      "source": [
        "mcq[mcq['HardwarePersonalProjectsSelect'].notnull()]['HardwarePersonalProjectsSelect'].shape"
      ],
      "execution_count": 43,
      "outputs": [
        {
          "output_type": "execute_result",
          "data": {
            "text/plain": [
              "(4206,)"
            ]
          },
          "metadata": {
            "tags": []
          },
          "execution_count": 43
        }
      ]
    },
    {
      "cell_type": "code",
      "metadata": {
        "id": "X2XFpqtGjhrB",
        "colab_type": "code",
        "colab": {}
      },
      "source": [
        "mcq['HardwarePersonalProjectsSelect']=mcq['HardwarePersonalProjectsSelect'].astype('str').apply(lambda x:x.split(','))\n",
        "s=mcq.apply(lambda x: pd.Series(x['HardwarePersonalProjectsSelect']),axis=1).stack().reset_index(level=1, drop=True)\n",
        "s.name='hardware'"
      ],
      "execution_count": 44,
      "outputs": []
    },
    {
      "cell_type": "code",
      "metadata": {
        "id": "X8u--0vUj5Zz",
        "colab_type": "code",
        "colab": {}
      },
      "source": [
        "s=s[s!='nan']"
      ],
      "execution_count": 45,
      "outputs": []
    },
    {
      "cell_type": "code",
      "metadata": {
        "id": "b2P9ZMbxj7xU",
        "colab_type": "code",
        "colab": {
          "base_uri": "https://localhost:8080/",
          "height": 355
        },
        "outputId": "90f2255e-0e63-4d32-eb67-d94303344ac9"
      },
      "source": [
        "pd.DataFrame(s.value_counts())"
      ],
      "execution_count": 46,
      "outputs": [
        {
          "output_type": "execute_result",
          "data": {
            "text/html": [
              "<div>\n",
              "<style scoped>\n",
              "    .dataframe tbody tr th:only-of-type {\n",
              "        vertical-align: middle;\n",
              "    }\n",
              "\n",
              "    .dataframe tbody tr th {\n",
              "        vertical-align: top;\n",
              "    }\n",
              "\n",
              "    .dataframe thead th {\n",
              "        text-align: right;\n",
              "    }\n",
              "</style>\n",
              "<table border=\"1\" class=\"dataframe\">\n",
              "  <thead>\n",
              "    <tr style=\"text-align: right;\">\n",
              "      <th></th>\n",
              "      <th>hardware</th>\n",
              "    </tr>\n",
              "  </thead>\n",
              "  <tbody>\n",
              "    <tr>\n",
              "      <th>Basic laptop (Macbook)</th>\n",
              "      <td>2246</td>\n",
              "    </tr>\n",
              "    <tr>\n",
              "      <th>Laptop + Cloud service (AWS</th>\n",
              "      <td>669</td>\n",
              "    </tr>\n",
              "    <tr>\n",
              "      <th>Azure</th>\n",
              "      <td>669</td>\n",
              "    </tr>\n",
              "    <tr>\n",
              "      <th>GCE ...)</th>\n",
              "      <td>669</td>\n",
              "    </tr>\n",
              "    <tr>\n",
              "      <th>Gaming Laptop (Laptop + CUDA capable GPU)</th>\n",
              "      <td>641</td>\n",
              "    </tr>\n",
              "    <tr>\n",
              "      <th>Traditional Workstation</th>\n",
              "      <td>527</td>\n",
              "    </tr>\n",
              "    <tr>\n",
              "      <th>Laptop or Workstation and local IT supported servers</th>\n",
              "      <td>445</td>\n",
              "    </tr>\n",
              "    <tr>\n",
              "      <th>GPU accelerated Workstation</th>\n",
              "      <td>416</td>\n",
              "    </tr>\n",
              "    <tr>\n",
              "      <th>Workstation + Cloud service</th>\n",
              "      <td>174</td>\n",
              "    </tr>\n",
              "    <tr>\n",
              "      <th>Other</th>\n",
              "      <td>147</td>\n",
              "    </tr>\n",
              "  </tbody>\n",
              "</table>\n",
              "</div>"
            ],
            "text/plain": [
              "                                                    hardware\n",
              "Basic laptop (Macbook)                                  2246\n",
              "Laptop + Cloud service (AWS                              669\n",
              " Azure                                                   669\n",
              " GCE ...)                                                669\n",
              "Gaming Laptop (Laptop + CUDA capable GPU)                641\n",
              "Traditional Workstation                                  527\n",
              "Laptop or Workstation and local IT supported se...       445\n",
              "GPU accelerated Workstation                              416\n",
              "Workstation + Cloud service                              174\n",
              "Other                                                    147"
            ]
          },
          "metadata": {
            "tags": []
          },
          "execution_count": 46
        }
      ]
    },
    {
      "cell_type": "code",
      "metadata": {
        "id": "pumqzgHVj_UC",
        "colab_type": "code",
        "colab": {
          "base_uri": "https://localhost:8080/",
          "height": 516
        },
        "outputId": "fed7f745-fc75-45a4-8ff8-17637601aeab"
      },
      "source": [
        "#공부 시간\n",
        "plt.figure(figsize=(6,8))\n",
        "sns.countplot(y='TimeSpentStudying',data=mcq, hue='EmploymentStatus').legend(loc='center left', bbox_to_anchor=(1,0.5))"
      ],
      "execution_count": 47,
      "outputs": [
        {
          "output_type": "execute_result",
          "data": {
            "text/plain": [
              "<matplotlib.legend.Legend at 0x7f4d71ac7160>"
            ]
          },
          "metadata": {
            "tags": []
          },
          "execution_count": 47
        },
        {
          "output_type": "display_data",
          "data": {
            "image/png": "[encoded data removed]",
            "text/plain": [
              "<Figure size 432x576 with 1 Axes>"
            ]
          },
          "metadata": {
            "tags": [],
            "needs_background": "light"
          }
        }
      ]
    },
    {
      "cell_type": "code",
      "metadata": {
        "id": "dLUTb6MYkb1g",
        "colab_type": "code",
        "colab": {
          "base_uri": "https://localhost:8080/",
          "height": 355
        },
        "outputId": "2be97a73-712b-47dd-8a46-bd8f05c44f88"
      },
      "source": [
        "figure, (ax1,ax2) = plt.subplots(ncols=2)\n",
        "\n",
        "figure.set_size_inches(12,5)\n",
        "sns.countplot(x='TimeSpentStudying', data=full_time, hue='EmploymentStatus', ax=ax1).legend(loc='center right', bbox_to_anchor=(1, 0.5))\n",
        "\n",
        "sns.countplot(x='TimeSpentStudying', data=full_time, hue='EmploymentStatus', ax=ax2).legend(loc='center right',bbox_to_anchor=(1,0.5))"
      ],
      "execution_count": 48,
      "outputs": [
        {
          "output_type": "execute_result",
          "data": {
            "text/plain": [
              "<matplotlib.legend.Legend at 0x7f4d71ac7470>"
            ]
          },
          "metadata": {
            "tags": []
          },
          "execution_count": 48
        },
        {
          "output_type": "display_data",
          "data": {
            "image/png": "[encoded data removed]",
            "text/plain": [
              "<Figure size 864x360 with 2 Axes>"
            ]
          },
          "metadata": {
            "tags": [],
            "needs_background": "light"
          }
        }
      ]
    },
    {
      "cell_type": "code",
      "metadata": {
        "id": "VXQrpBDKmsqS",
        "colab_type": "code",
        "colab": {
          "base_uri": "https://localhost:8080/",
          "height": 129
        },
        "outputId": "ef69e72e-592a-46c1-c7ff-97f368c318de"
      },
      "source": [
        "#블로그, 팟캐스트, 수업 등 추천할만한 것이 있는가?\n",
        "mcq['BlogsPodcastsNewslettersSelect']=mcq['BlogsPodcastsNewslettersSelect'].astype('str').apply(lambda x:x.split(','))\n",
        "mcq['BlogsPodcastsNewslettersSelect'].head()"
      ],
      "execution_count": 49,
      "outputs": [
        {
          "output_type": "execute_result",
          "data": {
            "text/plain": [
              "0    [Becoming a Data Scientist Podcast, Data Machi...\n",
              "1    [Becoming a Data Scientist Podcast, Siraj Rava...\n",
              "2    [FastML Blog, No Free Hunch Blog, Talking Mach...\n",
              "3                                     [KDnuggets Blog]\n",
              "4    [Data Machina Newsletter, Jack's Import AI New...\n",
              "Name: BlogsPodcastsNewslettersSelect, dtype: object"
            ]
          },
          "metadata": {
            "tags": []
          },
          "execution_count": 49
        }
      ]
    },
    {
      "cell_type": "code",
      "metadata": {
        "id": "3Z8tXa-epT3G",
        "colab_type": "code",
        "colab": {
          "base_uri": "https://localhost:8080/",
          "height": 129
        },
        "outputId": "c29873c7-19ef-48f8-9102-3be85fbff83b"
      },
      "source": [
        "s=mcq.apply(lambda x:pd.Series(x['BlogsPodcastsNewslettersSelect']),axis=1).stack().reset_index(level=1, drop=True)\n",
        "s.name='platform'\n",
        "s.head()\n"
      ],
      "execution_count": 50,
      "outputs": [
        {
          "output_type": "execute_result",
          "data": {
            "text/plain": [
              "0    Becoming a Data Scientist Podcast\n",
              "0              Data Machina Newsletter\n",
              "0             O'Reilly Data Newsletter\n",
              "0         Partially Derivative Podcast\n",
              "0           R Bloggers Blog Aggregator\n",
              "Name: platform, dtype: object"
            ]
          },
          "metadata": {
            "tags": []
          },
          "execution_count": 50
        }
      ]
    },
    {
      "cell_type": "code",
      "metadata": {
        "id": "iGUHksifqT9o",
        "colab_type": "code",
        "colab": {}
      },
      "source": [
        "s=s[s!='nan'].value_counts().head(20)"
      ],
      "execution_count": 51,
      "outputs": []
    },
    {
      "cell_type": "code",
      "metadata": {
        "id": "w_OIOxafqdyN",
        "colab_type": "code",
        "colab": {
          "base_uri": "https://localhost:8080/",
          "height": 532
        },
        "outputId": "19ad1bd2-e276-4d81-bbee-a471c4a3544d"
      },
      "source": [
        "plt.figure(figsize=(6,8))\n",
        "plt.title(\"Most Popular Blogs and Podcasts\")\n",
        "sns.barplot(y=s.index, x=s)"
      ],
      "execution_count": 52,
      "outputs": [
        {
          "output_type": "execute_result",
          "data": {
            "text/plain": [
              "<matplotlib.axes._subplots.AxesSubplot at 0x7f4d71f74710>"
            ]
          },
          "metadata": {
            "tags": []
          },
          "execution_count": 52
        },
        {
          "output_type": "display_data",
          "data": {
            "image/png": "[encoded data removed]",
            "text/plain": [
              "<Figure size 432x576 with 1 Axes>"
            ]
          },
          "metadata": {
            "tags": [],
            "needs_background": "light"
          }
        }
      ]
    },
    {
      "cell_type": "code",
      "metadata": {
        "id": "hgaxhlXJrULN",
        "colab_type": "code",
        "colab": {
          "base_uri": "https://localhost:8080/",
          "height": 129
        },
        "outputId": "64de3957-49d8-4891-a782-b0e8146a5e06"
      },
      "source": [
        "mcq['CoursePlatformSelect']=mcq['CoursePlatformSelect'].astype('str').apply(lambda x:x.split(','))\n",
        "mcq['CoursePlatformSelect'].head()"
      ],
      "execution_count": 53,
      "outputs": [
        {
          "output_type": "execute_result",
          "data": {
            "text/plain": [
              "0              [nan]\n",
              "1              [nan]\n",
              "2    [Coursera, edX]\n",
              "3              [nan]\n",
              "4              [nan]\n",
              "Name: CoursePlatformSelect, dtype: object"
            ]
          },
          "metadata": {
            "tags": []
          },
          "execution_count": 53
        }
      ]
    },
    {
      "cell_type": "code",
      "metadata": {
        "id": "g_wWSZhVrlbO",
        "colab_type": "code",
        "colab": {
          "base_uri": "https://localhost:8080/",
          "height": 409
        },
        "outputId": "5f7a17e1-2293-4191-f786-2fad491c9f65"
      },
      "source": [
        "t=mcq.apply(lambda x:pd.Series(x['CoursePlatformSelect']),axis=1).stack().reset_index(level=1, drop=True)\n",
        "t.name='courses'\n",
        "t.head(20)"
      ],
      "execution_count": 54,
      "outputs": [
        {
          "output_type": "execute_result",
          "data": {
            "text/plain": [
              "0          nan\n",
              "1          nan\n",
              "2     Coursera\n",
              "2          edX\n",
              "3          nan\n",
              "4          nan\n",
              "5          nan\n",
              "6          nan\n",
              "7     Coursera\n",
              "8          nan\n",
              "9          nan\n",
              "10    Coursera\n",
              "11         nan\n",
              "12    Coursera\n",
              "12    DataCamp\n",
              "12         edX\n",
              "13         nan\n",
              "14         nan\n",
              "15         nan\n",
              "16         nan\n",
              "Name: courses, dtype: object"
            ]
          },
          "metadata": {
            "tags": []
          },
          "execution_count": 54
        }
      ]
    },
    {
      "cell_type": "code",
      "metadata": {
        "id": "-kF3BKbQsHoh",
        "colab_type": "code",
        "colab": {}
      },
      "source": [
        "t=t[t!='nan'].value_counts()"
      ],
      "execution_count": 55,
      "outputs": []
    },
    {
      "cell_type": "code",
      "metadata": {
        "id": "KYFlLtI9sThr",
        "colab_type": "code",
        "colab": {
          "base_uri": "https://localhost:8080/",
          "height": 314
        },
        "outputId": "4610ebd7-22ba-492d-cfbb-c350ed02eb5c"
      },
      "source": [
        "plt.title(\"Most Popular Course Platforms\")\n",
        "sns.barplot(y=t.index, x=t)\n",
        "#코세라 앤드류 융 교수님 강의 훌륭"
      ],
      "execution_count": 56,
      "outputs": [
        {
          "output_type": "execute_result",
          "data": {
            "text/plain": [
              "<matplotlib.axes._subplots.AxesSubplot at 0x7f4d6cc7ff28>"
            ]
          },
          "metadata": {
            "tags": []
          },
          "execution_count": 56
        },
        {
          "output_type": "display_data",
          "data": {
            "image/png": "[encoded data removed]",
            "text/plain": [
              "<Figure size 432x288 with 1 Axes>"
            ]
          },
          "metadata": {
            "tags": [],
            "needs_background": "light"
          }
        }
      ]
    },
    {
      "cell_type": "code",
      "metadata": {
        "id": "zbPjZ3xgscaP",
        "colab_type": "code",
        "colab": {
          "base_uri": "https://localhost:8080/",
          "height": 204
        },
        "outputId": "d0cb3d2d-ea5b-4b3a-f487-49e057a40b8b"
      },
      "source": [
        "#데이터사이언스 직무에서 중요한 스킬?\n",
        "job_features=[x for x in mcq.columns if x.find('JobSkillImportance')!=-1 and x.find('JobSkillImportanceOther')==-1]\n",
        "job_features"
      ],
      "execution_count": 57,
      "outputs": [
        {
          "output_type": "execute_result",
          "data": {
            "text/plain": [
              "['JobSkillImportanceBigData',\n",
              " 'JobSkillImportanceDegree',\n",
              " 'JobSkillImportanceStats',\n",
              " 'JobSkillImportanceEnterpriseTools',\n",
              " 'JobSkillImportancePython',\n",
              " 'JobSkillImportanceR',\n",
              " 'JobSkillImportanceSQL',\n",
              " 'JobSkillImportanceKaggleRanking',\n",
              " 'JobSkillImportanceMOOC',\n",
              " 'JobSkillImportanceVisualizations']"
            ]
          },
          "metadata": {
            "tags": []
          },
          "execution_count": 57
        }
      ]
    },
    {
      "cell_type": "code",
      "metadata": {
        "id": "s8VRT8JQtUDp",
        "colab_type": "code",
        "colab": {
          "base_uri": "https://localhost:8080/",
          "height": 764
        },
        "outputId": "7f20e5c6-ed2d-4fdc-b38f-48fdc9ea134a"
      },
      "source": [
        "jdf={}\n",
        "for feature in job_features:\n",
        "  a=mcq[feature].value_counts()\n",
        "  a=a/a.sum()\n",
        "  jdf[feature[len('JobSkillImportance'):]]=a\n",
        "\n",
        "jdf"
      ],
      "execution_count": 58,
      "outputs": [
        {
          "output_type": "execute_result",
          "data": {
            "text/plain": [
              "{'BigData': Nice to have    0.574065\n",
              " Necessary       0.379929\n",
              " Unnecessary     0.046006\n",
              " Name: JobSkillImportanceBigData, dtype: float64,\n",
              " 'Degree': Nice to have    0.598107\n",
              " Necessary       0.279867\n",
              " Unnecessary     0.122026\n",
              " Name: JobSkillImportanceDegree, dtype: float64,\n",
              " 'EnterpriseTools': Nice to have    0.564970\n",
              " Unnecessary     0.290200\n",
              " Necessary       0.144829\n",
              " Name: JobSkillImportanceEnterpriseTools, dtype: float64,\n",
              " 'KaggleRanking': Nice to have    0.677261\n",
              " Unnecessary     0.203876\n",
              " Necessary       0.118863\n",
              " Name: JobSkillImportanceKaggleRanking, dtype: float64,\n",
              " 'MOOC': Nice to have    0.606994\n",
              " Unnecessary     0.285752\n",
              " Necessary       0.107255\n",
              " Name: JobSkillImportanceMOOC, dtype: float64,\n",
              " 'Python': Necessary       0.645994\n",
              " Nice to have    0.327214\n",
              " Unnecessary     0.026792\n",
              " Name: JobSkillImportancePython, dtype: float64,\n",
              " 'R': Nice to have    0.513945\n",
              " Necessary       0.414807\n",
              " Unnecessary     0.071247\n",
              " Name: JobSkillImportanceR, dtype: float64,\n",
              " 'SQL': Nice to have    0.491778\n",
              " Necessary       0.434224\n",
              " Unnecessary     0.073998\n",
              " Name: JobSkillImportanceSQL, dtype: float64,\n",
              " 'Stats': Necessary       0.513889\n",
              " Nice to have    0.457576\n",
              " Unnecessary     0.028535\n",
              " Name: JobSkillImportanceStats, dtype: float64,\n",
              " 'Visualizations': Nice to have    0.490820\n",
              " Necessary       0.455392\n",
              " Unnecessary     0.053788\n",
              " Name: JobSkillImportanceVisualizations, dtype: float64}"
            ]
          },
          "metadata": {
            "tags": []
          },
          "execution_count": 58
        }
      ]
    },
    {
      "cell_type": "code",
      "metadata": {
        "id": "Mzqu4ijgtt6s",
        "colab_type": "code",
        "colab": {
          "base_uri": "https://localhost:8080/",
          "height": 355
        },
        "outputId": "25dfce59-ddef-4231-f1c5-e45a935b99cd"
      },
      "source": [
        "jdf=pd.DataFrame(jdf).transpose()\n",
        "jdf"
      ],
      "execution_count": 59,
      "outputs": [
        {
          "output_type": "execute_result",
          "data": {
            "text/html": [
              "<div>\n",
              "<style scoped>\n",
              "    .dataframe tbody tr th:only-of-type {\n",
              "        vertical-align: middle;\n",
              "    }\n",
              "\n",
              "    .dataframe tbody tr th {\n",
              "        vertical-align: top;\n",
              "    }\n",
              "\n",
              "    .dataframe thead th {\n",
              "        text-align: right;\n",
              "    }\n",
              "</style>\n",
              "<table border=\"1\" class=\"dataframe\">\n",
              "  <thead>\n",
              "    <tr style=\"text-align: right;\">\n",
              "      <th></th>\n",
              "      <th>Necessary</th>\n",
              "      <th>Nice to have</th>\n",
              "      <th>Unnecessary</th>\n",
              "    </tr>\n",
              "  </thead>\n",
              "  <tbody>\n",
              "    <tr>\n",
              "      <th>BigData</th>\n",
              "      <td>0.379929</td>\n",
              "      <td>0.574065</td>\n",
              "      <td>0.046006</td>\n",
              "    </tr>\n",
              "    <tr>\n",
              "      <th>Degree</th>\n",
              "      <td>0.279867</td>\n",
              "      <td>0.598107</td>\n",
              "      <td>0.122026</td>\n",
              "    </tr>\n",
              "    <tr>\n",
              "      <th>Stats</th>\n",
              "      <td>0.513889</td>\n",
              "      <td>0.457576</td>\n",
              "      <td>0.028535</td>\n",
              "    </tr>\n",
              "    <tr>\n",
              "      <th>EnterpriseTools</th>\n",
              "      <td>0.144829</td>\n",
              "      <td>0.564970</td>\n",
              "      <td>0.290200</td>\n",
              "    </tr>\n",
              "    <tr>\n",
              "      <th>Python</th>\n",
              "      <td>0.645994</td>\n",
              "      <td>0.327214</td>\n",
              "      <td>0.026792</td>\n",
              "    </tr>\n",
              "    <tr>\n",
              "      <th>R</th>\n",
              "      <td>0.414807</td>\n",
              "      <td>0.513945</td>\n",
              "      <td>0.071247</td>\n",
              "    </tr>\n",
              "    <tr>\n",
              "      <th>SQL</th>\n",
              "      <td>0.434224</td>\n",
              "      <td>0.491778</td>\n",
              "      <td>0.073998</td>\n",
              "    </tr>\n",
              "    <tr>\n",
              "      <th>KaggleRanking</th>\n",
              "      <td>0.118863</td>\n",
              "      <td>0.677261</td>\n",
              "      <td>0.203876</td>\n",
              "    </tr>\n",
              "    <tr>\n",
              "      <th>MOOC</th>\n",
              "      <td>0.107255</td>\n",
              "      <td>0.606994</td>\n",
              "      <td>0.285752</td>\n",
              "    </tr>\n",
              "    <tr>\n",
              "      <th>Visualizations</th>\n",
              "      <td>0.455392</td>\n",
              "      <td>0.490820</td>\n",
              "      <td>0.053788</td>\n",
              "    </tr>\n",
              "  </tbody>\n",
              "</table>\n",
              "</div>"
            ],
            "text/plain": [
              "                 Necessary  Nice to have  Unnecessary\n",
              "BigData           0.379929      0.574065     0.046006\n",
              "Degree            0.279867      0.598107     0.122026\n",
              "Stats             0.513889      0.457576     0.028535\n",
              "EnterpriseTools   0.144829      0.564970     0.290200\n",
              "Python            0.645994      0.327214     0.026792\n",
              "R                 0.414807      0.513945     0.071247\n",
              "SQL               0.434224      0.491778     0.073998\n",
              "KaggleRanking     0.118863      0.677261     0.203876\n",
              "MOOC              0.107255      0.606994     0.285752\n",
              "Visualizations    0.455392      0.490820     0.053788"
            ]
          },
          "metadata": {
            "tags": []
          },
          "execution_count": 59
        }
      ]
    },
    {
      "cell_type": "code",
      "metadata": {
        "id": "1gLdBeV4t6n1",
        "colab_type": "code",
        "colab": {
          "base_uri": "https://localhost:8080/",
          "height": 393
        },
        "outputId": "39dcfcbe-fc8c-486a-dd76-e05e5d83ce7b"
      },
      "source": [
        "plt.figure(figsize=(10,6))\n",
        "sns.heatmap(jdf.sort_values(\"Necessary\",ascending=False),annot=True)"
      ],
      "execution_count": 60,
      "outputs": [
        {
          "output_type": "execute_result",
          "data": {
            "text/plain": [
              "<matplotlib.axes._subplots.AxesSubplot at 0x7f4d71f055c0>"
            ]
          },
          "metadata": {
            "tags": []
          },
          "execution_count": 60
        },
        {
          "output_type": "display_data",
          "data": {
            "image/png": "[encoded data removed]",
            "text/plain": [
              "<Figure size 720x432 with 2 Axes>"
            ]
          },
          "metadata": {
            "tags": [],
            "needs_background": "light"
          }
        }
      ]
    },
    {
      "cell_type": "code",
      "metadata": {
        "id": "XlbxjD6cuTNQ",
        "colab_type": "code",
        "colab": {
          "base_uri": "https://localhost:8080/",
          "height": 475
        },
        "outputId": "39c955b0-7c63-410f-a36e-3a66cf64a4ac"
      },
      "source": [
        "jdf.plot(kind='bar',figsize=(12,6),title=\"Skill Importance in Data Science Jobs\")"
      ],
      "execution_count": 61,
      "outputs": [
        {
          "output_type": "execute_result",
          "data": {
            "text/plain": [
              "<matplotlib.axes._subplots.AxesSubplot at 0x7f4d6ca56710>"
            ]
          },
          "metadata": {
            "tags": []
          },
          "execution_count": 61
        },
        {
          "output_type": "display_data",
          "data": {
            "image/png": "[encoded data removed]",
            "text/plain": [
              "<Figure size 864x432 with 1 Axes>"
            ]
          },
          "metadata": {
            "tags": [],
            "needs_background": "light"
          }
        }
      ]
    },
    {
      "cell_type": "code",
      "metadata": {
        "id": "MM23agcHunZZ",
        "colab_type": "code",
        "colab": {
          "base_uri": "https://localhost:8080/",
          "height": 36
        },
        "outputId": "e286b8cd-37dc-4213-b32d-4123f8eccc45"
      },
      "source": [
        "#평균급여\n",
        "mcq[mcq['CompensationAmount'].notnull()].shape"
      ],
      "execution_count": 62,
      "outputs": [
        {
          "output_type": "execute_result",
          "data": {
            "text/plain": [
              "(5224, 228)"
            ]
          },
          "metadata": {
            "tags": []
          },
          "execution_count": 62
        }
      ]
    },
    {
      "cell_type": "code",
      "metadata": {
        "id": "7JgPr-Iiu4HC",
        "colab_type": "code",
        "colab": {
          "base_uri": "https://localhost:8080/",
          "height": 309
        },
        "outputId": "8d6617cd-8647-4d03-c047-18f48ef323fe"
      },
      "source": [
        "mcq['CompensationAmount']=mcq['CompensationAmount'].str.replace(',','')\n",
        "mcq['CompensationAmount']=mcq['CompensationAmount'].str.replace('-','')\n",
        "\n",
        "#환율\n",
        "rates=pd.read_csv('/content/drive/My Drive/Colab Notebooks/data/conversionRates.csv')\n",
        "rates.drop('Unnamed: 0', axis=1, inplace=True)\n",
        "\n",
        "salary=mcq[['CompensationAmount', 'CompensationCurrency', 'GenderSelect','Country', 'CurrentJobTitleSelect']].dropna()\n",
        "salary=salary.merge(rates, left_on='CompensationCurrency',right_on='originCountry',how='left')\n",
        "salary['Salary']=pd.to_numeric(salary['CompensationAmount'])*salary['exchangeRate']\n",
        "salary.head()"
      ],
      "execution_count": 63,
      "outputs": [
        {
          "output_type": "execute_result",
          "data": {
            "text/html": [
              "<div>\n",
              "<style scoped>\n",
              "    .dataframe tbody tr th:only-of-type {\n",
              "        vertical-align: middle;\n",
              "    }\n",
              "\n",
              "    .dataframe tbody tr th {\n",
              "        vertical-align: top;\n",
              "    }\n",
              "\n",
              "    .dataframe thead th {\n",
              "        text-align: right;\n",
              "    }\n",
              "</style>\n",
              "<table border=\"1\" class=\"dataframe\">\n",
              "  <thead>\n",
              "    <tr style=\"text-align: right;\">\n",
              "      <th></th>\n",
              "      <th>CompensationAmount</th>\n",
              "      <th>CompensationCurrency</th>\n",
              "      <th>GenderSelect</th>\n",
              "      <th>Country</th>\n",
              "      <th>CurrentJobTitleSelect</th>\n",
              "      <th>originCountry</th>\n",
              "      <th>exchangeRate</th>\n",
              "      <th>Salary</th>\n",
              "    </tr>\n",
              "  </thead>\n",
              "  <tbody>\n",
              "    <tr>\n",
              "      <th>0</th>\n",
              "      <td>250000</td>\n",
              "      <td>USD</td>\n",
              "      <td>Male</td>\n",
              "      <td>United States</td>\n",
              "      <td>Operations Research Practitioner</td>\n",
              "      <td>USD</td>\n",
              "      <td>1.000000</td>\n",
              "      <td>250000.0</td>\n",
              "    </tr>\n",
              "    <tr>\n",
              "      <th>1</th>\n",
              "      <td>80000</td>\n",
              "      <td>AUD</td>\n",
              "      <td>Female</td>\n",
              "      <td>Australia</td>\n",
              "      <td>Business Analyst</td>\n",
              "      <td>AUD</td>\n",
              "      <td>0.802310</td>\n",
              "      <td>64184.8</td>\n",
              "    </tr>\n",
              "    <tr>\n",
              "      <th>2</th>\n",
              "      <td>1200000</td>\n",
              "      <td>RUB</td>\n",
              "      <td>Male</td>\n",
              "      <td>Russia</td>\n",
              "      <td>Software Developer/Software Engineer</td>\n",
              "      <td>RUB</td>\n",
              "      <td>0.017402</td>\n",
              "      <td>20882.4</td>\n",
              "    </tr>\n",
              "    <tr>\n",
              "      <th>3</th>\n",
              "      <td>95000</td>\n",
              "      <td>INR</td>\n",
              "      <td>Male</td>\n",
              "      <td>India</td>\n",
              "      <td>Data Scientist</td>\n",
              "      <td>INR</td>\n",
              "      <td>0.015620</td>\n",
              "      <td>1483.9</td>\n",
              "    </tr>\n",
              "    <tr>\n",
              "      <th>4</th>\n",
              "      <td>1100000</td>\n",
              "      <td>TWD</td>\n",
              "      <td>Male</td>\n",
              "      <td>Taiwan</td>\n",
              "      <td>Software Developer/Software Engineer</td>\n",
              "      <td>TWD</td>\n",
              "      <td>0.033304</td>\n",
              "      <td>36634.4</td>\n",
              "    </tr>\n",
              "  </tbody>\n",
              "</table>\n",
              "</div>"
            ],
            "text/plain": [
              "  CompensationAmount CompensationCurrency  ... exchangeRate    Salary\n",
              "0             250000                  USD  ...     1.000000  250000.0\n",
              "1              80000                  AUD  ...     0.802310   64184.8\n",
              "2            1200000                  RUB  ...     0.017402   20882.4\n",
              "3              95000                  INR  ...     0.015620    1483.9\n",
              "4            1100000                  TWD  ...     0.033304   36634.4\n",
              "\n",
              "[5 rows x 8 columns]"
            ]
          },
          "metadata": {
            "tags": []
          },
          "execution_count": 63
        }
      ]
    },
    {
      "cell_type": "code",
      "metadata": {
        "id": "XAoQezUowRxl",
        "colab_type": "code",
        "colab": {
          "base_uri": "https://localhost:8080/",
          "height": 73
        },
        "outputId": "431b36da-dcc5-47c8-fce1-6d1153b75636"
      },
      "source": [
        " print('Maximum Salary is USD $', salary['Salary'].dropna().astype(int).max())\n",
        " print('Minimum Salary is USD $', salary['Salary'].dropna().astype(int).min())\n",
        " print('Median Salary is USD $', salary['Salary'].dropna().astype(int).median())"
      ],
      "execution_count": 64,
      "outputs": [
        {
          "output_type": "stream",
          "text": [
            "Maximum Salary is USD $ 28297400000\n",
            "Minimum Salary is USD $ 0\n",
            "Median Salary is USD $ 53812.0\n"
          ],
          "name": "stdout"
        }
      ]
    },
    {
      "cell_type": "code",
      "metadata": {
        "id": "e2yx-bRLyBy_",
        "colab_type": "code",
        "colab": {
          "base_uri": "https://localhost:8080/",
          "height": 468
        },
        "outputId": "bc54a6e8-05ef-46cf-878d-5beaa5e0c088"
      },
      "source": [
        "plt.subplots(figsize=(15,8))\n",
        "salary=salary[salary['Salary']<500000]\n",
        "sns.distplot(salary['Salary'])\n",
        "plt.axvline(salary['Salary'].median(), linestyle='dashed')\n",
        "plt.title('Salary Distribution', size=15)"
      ],
      "execution_count": 65,
      "outputs": [
        {
          "output_type": "execute_result",
          "data": {
            "text/plain": [
              "Text(0.5, 1.0, 'Salary Distribution')"
            ]
          },
          "metadata": {
            "tags": []
          },
          "execution_count": 65
        },
        {
          "output_type": "display_data",
          "data": {
            "image/png": "[encoded data removed]",
            "text/plain": [
              "<Figure size 1080x576 with 1 Axes>"
            ]
          },
          "metadata": {
            "tags": [],
            "needs_background": "light"
          }
        }
      ]
    },
    {
      "cell_type": "code",
      "metadata": {
        "id": "6FDtkKwFyo29",
        "colab_type": "code",
        "colab": {
          "base_uri": "https://localhost:8080/",
          "height": 749
        },
        "outputId": "2b03a87f-73bd-4712-f187-16dda68e63d8"
      },
      "source": [
        "plt.subplots(figsize=(8,12))\n",
        "\n",
        "sal_coun=salary.groupby('Country')['Salary'].median().sort_values(ascending=False)[:30].to_frame()\n",
        "\n",
        "sns.barplot('Salary',sal_coun.index, data=sal_coun, palette='RdYlGn')\n",
        "\n",
        "plt.axvline(salary['Salary'].median(),linestyle='dashed')\n",
        "plt.title('Highest Salary Paying Countries')"
      ],
      "execution_count": 66,
      "outputs": [
        {
          "output_type": "execute_result",
          "data": {
            "text/plain": [
              "Text(0.5, 1.0, 'Highest Salary Paying Countries')"
            ]
          },
          "metadata": {
            "tags": []
          },
          "execution_count": 66
        },
        {
          "output_type": "display_data",
          "data": {
            "image/png": "[encoded data removed]",
            "text/plain": [
              "<Figure size 576x864 with 1 Axes>"
            ]
          },
          "metadata": {
            "tags": [],
            "needs_background": "light"
          }
        }
      ]
    },
    {
      "cell_type": "code",
      "metadata": {
        "id": "Mjgv84a62iKP",
        "colab_type": "code",
        "colab": {
          "base_uri": "https://localhost:8080/",
          "height": 298
        },
        "outputId": "dfabe68c-ead9-4a7b-fc3e-a5ed4f97b681"
      },
      "source": [
        "plt.subplots(figsize=(8,4))\n",
        "sns.boxplot(y='GenderSelect', x='Salary', data=salary)"
      ],
      "execution_count": 67,
      "outputs": [
        {
          "output_type": "execute_result",
          "data": {
            "text/plain": [
              "<matplotlib.axes._subplots.AxesSubplot at 0x7f4d6c8b3c88>"
            ]
          },
          "metadata": {
            "tags": []
          },
          "execution_count": 67
        },
        {
          "output_type": "display_data",
          "data": {
            "image/png": "[encoded data removed]",
            "text/plain": [
              "<Figure size 576x288 with 1 Axes>"
            ]
          },
          "metadata": {
            "tags": [],
            "needs_background": "light"
          }
        }
      ]
    },
    {
      "cell_type": "code",
      "metadata": {
        "id": "lICsfHgt29Hv",
        "colab_type": "code",
        "colab": {
          "base_uri": "https://localhost:8080/",
          "height": 298
        },
        "outputId": "192721bc-9239-49af-9504-eff4403cff07"
      },
      "source": [
        "salary_k=salary.loc[(salary['Country']=='South Korea')]\n",
        "plt.subplots(figsize=(8,4))\n",
        "sns.boxplot(y='GenderSelect', x='Salary', data=salary_k)"
      ],
      "execution_count": 68,
      "outputs": [
        {
          "output_type": "execute_result",
          "data": {
            "text/plain": [
              "<matplotlib.axes._subplots.AxesSubplot at 0x7f4d6d0a9908>"
            ]
          },
          "metadata": {
            "tags": []
          },
          "execution_count": 68
        },
        {
          "output_type": "display_data",
          "data": {
            "image/png": "[encoded data removed]",
            "text/plain": [
              "<Figure size 576x288 with 1 Axes>"
            ]
          },
          "metadata": {
            "tags": [],
            "needs_background": "light"
          }
        }
      ]
    },
    {
      "cell_type": "code",
      "metadata": {
        "id": "xrtM-lni3Z1T",
        "colab_type": "code",
        "colab": {
          "base_uri": "https://localhost:8080/",
          "height": 36
        },
        "outputId": "41185287-f706-4413-dee3-f289514bad09"
      },
      "source": [
        "salary_k.shape"
      ],
      "execution_count": 69,
      "outputs": [
        {
          "output_type": "execute_result",
          "data": {
            "text/plain": [
              "(26, 8)"
            ]
          },
          "metadata": {
            "tags": []
          },
          "execution_count": 69
        }
      ]
    },
    {
      "cell_type": "code",
      "metadata": {
        "id": "E3yJN4Gk37RW",
        "colab_type": "code",
        "colab": {
          "base_uri": "https://localhost:8080/",
          "height": 213
        },
        "outputId": "5483a858-94c4-4f89-873d-3e2b3754045a"
      },
      "source": [
        "salary_k[salary_k['GenderSelect']=='Female']"
      ],
      "execution_count": 70,
      "outputs": [
        {
          "output_type": "execute_result",
          "data": {
            "text/html": [
              "<div>\n",
              "<style scoped>\n",
              "    .dataframe tbody tr th:only-of-type {\n",
              "        vertical-align: middle;\n",
              "    }\n",
              "\n",
              "    .dataframe tbody tr th {\n",
              "        vertical-align: top;\n",
              "    }\n",
              "\n",
              "    .dataframe thead th {\n",
              "        text-align: right;\n",
              "    }\n",
              "</style>\n",
              "<table border=\"1\" class=\"dataframe\">\n",
              "  <thead>\n",
              "    <tr style=\"text-align: right;\">\n",
              "      <th></th>\n",
              "      <th>CompensationAmount</th>\n",
              "      <th>CompensationCurrency</th>\n",
              "      <th>GenderSelect</th>\n",
              "      <th>Country</th>\n",
              "      <th>CurrentJobTitleSelect</th>\n",
              "      <th>originCountry</th>\n",
              "      <th>exchangeRate</th>\n",
              "      <th>Salary</th>\n",
              "    </tr>\n",
              "  </thead>\n",
              "  <tbody>\n",
              "    <tr>\n",
              "      <th>479</th>\n",
              "      <td>30000</td>\n",
              "      <td>KRW</td>\n",
              "      <td>Female</td>\n",
              "      <td>South Korea</td>\n",
              "      <td>Data Analyst</td>\n",
              "      <td>KRW</td>\n",
              "      <td>0.000886</td>\n",
              "      <td>26.58</td>\n",
              "    </tr>\n",
              "    <tr>\n",
              "      <th>2903</th>\n",
              "      <td>800000</td>\n",
              "      <td>KRW</td>\n",
              "      <td>Female</td>\n",
              "      <td>South Korea</td>\n",
              "      <td>Researcher</td>\n",
              "      <td>KRW</td>\n",
              "      <td>0.000886</td>\n",
              "      <td>708.80</td>\n",
              "    </tr>\n",
              "    <tr>\n",
              "      <th>4063</th>\n",
              "      <td>60000000</td>\n",
              "      <td>KRW</td>\n",
              "      <td>Female</td>\n",
              "      <td>South Korea</td>\n",
              "      <td>Researcher</td>\n",
              "      <td>KRW</td>\n",
              "      <td>0.000886</td>\n",
              "      <td>53160.00</td>\n",
              "    </tr>\n",
              "  </tbody>\n",
              "</table>\n",
              "</div>"
            ],
            "text/plain": [
              "     CompensationAmount CompensationCurrency  ... exchangeRate    Salary\n",
              "479               30000                  KRW  ...     0.000886     26.58\n",
              "2903             800000                  KRW  ...     0.000886    708.80\n",
              "4063           60000000                  KRW  ...     0.000886  53160.00\n",
              "\n",
              "[3 rows x 8 columns]"
            ]
          },
          "metadata": {
            "tags": []
          },
          "execution_count": 70
        }
      ]
    },
    {
      "cell_type": "code",
      "metadata": {
        "id": "F9aBNghG4FDV",
        "colab_type": "code",
        "colab": {
          "base_uri": "https://localhost:8080/",
          "height": 185
        },
        "outputId": "2b067b1d-60b9-4440-c8df-0847e68a909c"
      },
      "source": [
        "salary_k_m=salary_k[salary_k['GenderSelect']=='Male']\n",
        "salary_k_m['Salary'].describe()"
      ],
      "execution_count": 71,
      "outputs": [
        {
          "output_type": "execute_result",
          "data": {
            "text/plain": [
              "count        23.000000\n",
              "mean      43540.617217\n",
              "std       37800.608484\n",
              "min           0.886000\n",
              "25%       17500.000000\n",
              "50%       37212.000000\n",
              "75%       59238.000000\n",
              "max      177200.000000\n",
              "Name: Salary, dtype: float64"
            ]
          },
          "metadata": {
            "tags": []
          },
          "execution_count": 71
        }
      ]
    },
    {
      "cell_type": "code",
      "metadata": {
        "id": "wEff9zEV4dtp",
        "colab_type": "code",
        "colab": {
          "base_uri": "https://localhost:8080/",
          "height": 1000
        },
        "outputId": "816d078b-8445-49c4-98b9-25f7d07f6c6f"
      },
      "source": [
        "salary_k_m"
      ],
      "execution_count": 72,
      "outputs": [
        {
          "output_type": "execute_result",
          "data": {
            "text/html": [
              "<div>\n",
              "<style scoped>\n",
              "    .dataframe tbody tr th:only-of-type {\n",
              "        vertical-align: middle;\n",
              "    }\n",
              "\n",
              "    .dataframe tbody tr th {\n",
              "        vertical-align: top;\n",
              "    }\n",
              "\n",
              "    .dataframe thead th {\n",
              "        text-align: right;\n",
              "    }\n",
              "</style>\n",
              "<table border=\"1\" class=\"dataframe\">\n",
              "  <thead>\n",
              "    <tr style=\"text-align: right;\">\n",
              "      <th></th>\n",
              "      <th>CompensationAmount</th>\n",
              "      <th>CompensationCurrency</th>\n",
              "      <th>GenderSelect</th>\n",
              "      <th>Country</th>\n",
              "      <th>CurrentJobTitleSelect</th>\n",
              "      <th>originCountry</th>\n",
              "      <th>exchangeRate</th>\n",
              "      <th>Salary</th>\n",
              "    </tr>\n",
              "  </thead>\n",
              "  <tbody>\n",
              "    <tr>\n",
              "      <th>85</th>\n",
              "      <td>40000000</td>\n",
              "      <td>KRW</td>\n",
              "      <td>Male</td>\n",
              "      <td>South Korea</td>\n",
              "      <td>Business Analyst</td>\n",
              "      <td>KRW</td>\n",
              "      <td>0.000886</td>\n",
              "      <td>35440.000</td>\n",
              "    </tr>\n",
              "    <tr>\n",
              "      <th>147</th>\n",
              "      <td>80000</td>\n",
              "      <td>USD</td>\n",
              "      <td>Male</td>\n",
              "      <td>South Korea</td>\n",
              "      <td>Researcher</td>\n",
              "      <td>USD</td>\n",
              "      <td>1.000000</td>\n",
              "      <td>80000.000</td>\n",
              "    </tr>\n",
              "    <tr>\n",
              "      <th>314</th>\n",
              "      <td>60000</td>\n",
              "      <td>USD</td>\n",
              "      <td>Male</td>\n",
              "      <td>South Korea</td>\n",
              "      <td>Business Analyst</td>\n",
              "      <td>USD</td>\n",
              "      <td>1.000000</td>\n",
              "      <td>60000.000</td>\n",
              "    </tr>\n",
              "    <tr>\n",
              "      <th>333</th>\n",
              "      <td>60000000</td>\n",
              "      <td>KRW</td>\n",
              "      <td>Male</td>\n",
              "      <td>South Korea</td>\n",
              "      <td>Researcher</td>\n",
              "      <td>KRW</td>\n",
              "      <td>0.000886</td>\n",
              "      <td>53160.000</td>\n",
              "    </tr>\n",
              "    <tr>\n",
              "      <th>562</th>\n",
              "      <td>50000000</td>\n",
              "      <td>KRW</td>\n",
              "      <td>Male</td>\n",
              "      <td>South Korea</td>\n",
              "      <td>Researcher</td>\n",
              "      <td>KRW</td>\n",
              "      <td>0.000886</td>\n",
              "      <td>44300.000</td>\n",
              "    </tr>\n",
              "    <tr>\n",
              "      <th>769</th>\n",
              "      <td>42000000</td>\n",
              "      <td>KRW</td>\n",
              "      <td>Male</td>\n",
              "      <td>South Korea</td>\n",
              "      <td>Software Developer/Software Engineer</td>\n",
              "      <td>KRW</td>\n",
              "      <td>0.000886</td>\n",
              "      <td>37212.000</td>\n",
              "    </tr>\n",
              "    <tr>\n",
              "      <th>799</th>\n",
              "      <td>1000</td>\n",
              "      <td>KRW</td>\n",
              "      <td>Male</td>\n",
              "      <td>South Korea</td>\n",
              "      <td>Machine Learning Engineer</td>\n",
              "      <td>KRW</td>\n",
              "      <td>0.000886</td>\n",
              "      <td>0.886</td>\n",
              "    </tr>\n",
              "    <tr>\n",
              "      <th>1060</th>\n",
              "      <td>75000000</td>\n",
              "      <td>KRW</td>\n",
              "      <td>Male</td>\n",
              "      <td>South Korea</td>\n",
              "      <td>Scientist/Researcher</td>\n",
              "      <td>KRW</td>\n",
              "      <td>0.000886</td>\n",
              "      <td>66450.000</td>\n",
              "    </tr>\n",
              "    <tr>\n",
              "      <th>1360</th>\n",
              "      <td>30000000</td>\n",
              "      <td>KRW</td>\n",
              "      <td>Male</td>\n",
              "      <td>South Korea</td>\n",
              "      <td>Statistician</td>\n",
              "      <td>KRW</td>\n",
              "      <td>0.000886</td>\n",
              "      <td>26580.000</td>\n",
              "    </tr>\n",
              "    <tr>\n",
              "      <th>1568</th>\n",
              "      <td>90000</td>\n",
              "      <td>SGD</td>\n",
              "      <td>Male</td>\n",
              "      <td>South Korea</td>\n",
              "      <td>Computer Scientist</td>\n",
              "      <td>SGD</td>\n",
              "      <td>0.742589</td>\n",
              "      <td>66833.010</td>\n",
              "    </tr>\n",
              "    <tr>\n",
              "      <th>1576</th>\n",
              "      <td>10800000</td>\n",
              "      <td>KRW</td>\n",
              "      <td>Male</td>\n",
              "      <td>South Korea</td>\n",
              "      <td>Data Scientist</td>\n",
              "      <td>KRW</td>\n",
              "      <td>0.000886</td>\n",
              "      <td>9568.800</td>\n",
              "    </tr>\n",
              "    <tr>\n",
              "      <th>1905</th>\n",
              "      <td>20000</td>\n",
              "      <td>USD</td>\n",
              "      <td>Male</td>\n",
              "      <td>South Korea</td>\n",
              "      <td>Researcher</td>\n",
              "      <td>USD</td>\n",
              "      <td>1.000000</td>\n",
              "      <td>20000.000</td>\n",
              "    </tr>\n",
              "    <tr>\n",
              "      <th>1945</th>\n",
              "      <td>50000</td>\n",
              "      <td>KRW</td>\n",
              "      <td>Male</td>\n",
              "      <td>South Korea</td>\n",
              "      <td>Machine Learning Engineer</td>\n",
              "      <td>KRW</td>\n",
              "      <td>0.000886</td>\n",
              "      <td>44.300</td>\n",
              "    </tr>\n",
              "    <tr>\n",
              "      <th>1949</th>\n",
              "      <td>80000000</td>\n",
              "      <td>KRW</td>\n",
              "      <td>Male</td>\n",
              "      <td>South Korea</td>\n",
              "      <td>Software Developer/Software Engineer</td>\n",
              "      <td>KRW</td>\n",
              "      <td>0.000886</td>\n",
              "      <td>70880.000</td>\n",
              "    </tr>\n",
              "    <tr>\n",
              "      <th>2322</th>\n",
              "      <td>200000000</td>\n",
              "      <td>KRW</td>\n",
              "      <td>Male</td>\n",
              "      <td>South Korea</td>\n",
              "      <td>Other</td>\n",
              "      <td>KRW</td>\n",
              "      <td>0.000886</td>\n",
              "      <td>177200.000</td>\n",
              "    </tr>\n",
              "    <tr>\n",
              "      <th>2334</th>\n",
              "      <td>60000000</td>\n",
              "      <td>KRW</td>\n",
              "      <td>Male</td>\n",
              "      <td>South Korea</td>\n",
              "      <td>Machine Learning Engineer</td>\n",
              "      <td>KRW</td>\n",
              "      <td>0.000886</td>\n",
              "      <td>53160.000</td>\n",
              "    </tr>\n",
              "    <tr>\n",
              "      <th>2557</th>\n",
              "      <td>7200000</td>\n",
              "      <td>KRW</td>\n",
              "      <td>Male</td>\n",
              "      <td>South Korea</td>\n",
              "      <td>Researcher</td>\n",
              "      <td>KRW</td>\n",
              "      <td>0.000886</td>\n",
              "      <td>6379.200</td>\n",
              "    </tr>\n",
              "    <tr>\n",
              "      <th>2924</th>\n",
              "      <td>15000</td>\n",
              "      <td>USD</td>\n",
              "      <td>Male</td>\n",
              "      <td>South Korea</td>\n",
              "      <td>Researcher</td>\n",
              "      <td>USD</td>\n",
              "      <td>1.000000</td>\n",
              "      <td>15000.000</td>\n",
              "    </tr>\n",
              "    <tr>\n",
              "      <th>3394</th>\n",
              "      <td>66000000</td>\n",
              "      <td>KRW</td>\n",
              "      <td>Male</td>\n",
              "      <td>South Korea</td>\n",
              "      <td>Programmer</td>\n",
              "      <td>KRW</td>\n",
              "      <td>0.000886</td>\n",
              "      <td>58476.000</td>\n",
              "    </tr>\n",
              "    <tr>\n",
              "      <th>3832</th>\n",
              "      <td>30000000</td>\n",
              "      <td>KRW</td>\n",
              "      <td>Male</td>\n",
              "      <td>South Korea</td>\n",
              "      <td>Data Scientist</td>\n",
              "      <td>KRW</td>\n",
              "      <td>0.000886</td>\n",
              "      <td>26580.000</td>\n",
              "    </tr>\n",
              "    <tr>\n",
              "      <th>3979</th>\n",
              "      <td>35000000</td>\n",
              "      <td>KRW</td>\n",
              "      <td>Male</td>\n",
              "      <td>South Korea</td>\n",
              "      <td>Researcher</td>\n",
              "      <td>KRW</td>\n",
              "      <td>0.000886</td>\n",
              "      <td>31010.000</td>\n",
              "    </tr>\n",
              "    <tr>\n",
              "      <th>4300</th>\n",
              "      <td>60000000</td>\n",
              "      <td>KRW</td>\n",
              "      <td>Male</td>\n",
              "      <td>South Korea</td>\n",
              "      <td>Scientist/Researcher</td>\n",
              "      <td>KRW</td>\n",
              "      <td>0.000886</td>\n",
              "      <td>53160.000</td>\n",
              "    </tr>\n",
              "    <tr>\n",
              "      <th>4366</th>\n",
              "      <td>10000</td>\n",
              "      <td>USD</td>\n",
              "      <td>Male</td>\n",
              "      <td>South Korea</td>\n",
              "      <td>Data Scientist</td>\n",
              "      <td>USD</td>\n",
              "      <td>1.000000</td>\n",
              "      <td>10000.000</td>\n",
              "    </tr>\n",
              "  </tbody>\n",
              "</table>\n",
              "</div>"
            ],
            "text/plain": [
              "     CompensationAmount CompensationCurrency  ... exchangeRate      Salary\n",
              "85             40000000                  KRW  ...     0.000886   35440.000\n",
              "147               80000                  USD  ...     1.000000   80000.000\n",
              "314               60000                  USD  ...     1.000000   60000.000\n",
              "333            60000000                  KRW  ...     0.000886   53160.000\n",
              "562            50000000                  KRW  ...     0.000886   44300.000\n",
              "769            42000000                  KRW  ...     0.000886   37212.000\n",
              "799                1000                  KRW  ...     0.000886       0.886\n",
              "1060           75000000                  KRW  ...     0.000886   66450.000\n",
              "1360           30000000                  KRW  ...     0.000886   26580.000\n",
              "1568              90000                  SGD  ...     0.742589   66833.010\n",
              "1576           10800000                  KRW  ...     0.000886    9568.800\n",
              "1905              20000                  USD  ...     1.000000   20000.000\n",
              "1945              50000                  KRW  ...     0.000886      44.300\n",
              "1949           80000000                  KRW  ...     0.000886   70880.000\n",
              "2322          200000000                  KRW  ...     0.000886  177200.000\n",
              "2334           60000000                  KRW  ...     0.000886   53160.000\n",
              "2557            7200000                  KRW  ...     0.000886    6379.200\n",
              "2924              15000                  USD  ...     1.000000   15000.000\n",
              "3394           66000000                  KRW  ...     0.000886   58476.000\n",
              "3832           30000000                  KRW  ...     0.000886   26580.000\n",
              "3979           35000000                  KRW  ...     0.000886   31010.000\n",
              "4300           60000000                  KRW  ...     0.000886   53160.000\n",
              "4366              10000                  USD  ...     1.000000   10000.000\n",
              "\n",
              "[23 rows x 8 columns]"
            ]
          },
          "metadata": {
            "tags": []
          },
          "execution_count": 72
        }
      ]
    },
    {
      "cell_type": "code",
      "metadata": {
        "id": "JmCgp88V4gcM",
        "colab_type": "code",
        "colab": {}
      },
      "source": [
        "#개인프로젝트나 학습용 데이터를 어디에서?\n",
        "\n",
        "mcq['PublicDatasetsSelect']=mcq['PublicDatasetsSelect'].astype('str').apply(lambda x: x.split(','))"
      ],
      "execution_count": 73,
      "outputs": []
    },
    {
      "cell_type": "code",
      "metadata": {
        "id": "e6_i-5gG5Fyi",
        "colab_type": "code",
        "colab": {}
      },
      "source": [
        "q=mcq.apply(lambda x: pd.Series(x['PublicDatasetsSelect']),axis=1).stack().reset_index(level=1,drop=True)\n",
        "q.name='courses'"
      ],
      "execution_count": 74,
      "outputs": []
    },
    {
      "cell_type": "code",
      "metadata": {
        "id": "dRpsBeUO5zbZ",
        "colab_type": "code",
        "colab": {}
      },
      "source": [
        "q=q[q!='nan'].value_counts()"
      ],
      "execution_count": 75,
      "outputs": []
    },
    {
      "cell_type": "code",
      "metadata": {
        "id": "8a3lq89c55Wr",
        "colab_type": "code",
        "colab": {
          "base_uri": "https://localhost:8080/",
          "height": 263
        },
        "outputId": "dbc6ff88-ec77-4a79-bdb1-36fd4076c865"
      },
      "source": [
        "pd.DataFrame(q)"
      ],
      "execution_count": 76,
      "outputs": [
        {
          "output_type": "execute_result",
          "data": {
            "text/html": [
              "<div>\n",
              "<style scoped>\n",
              "    .dataframe tbody tr th:only-of-type {\n",
              "        vertical-align: middle;\n",
              "    }\n",
              "\n",
              "    .dataframe tbody tr th {\n",
              "        vertical-align: top;\n",
              "    }\n",
              "\n",
              "    .dataframe thead th {\n",
              "        text-align: right;\n",
              "    }\n",
              "</style>\n",
              "<table border=\"1\" class=\"dataframe\">\n",
              "  <thead>\n",
              "    <tr style=\"text-align: right;\">\n",
              "      <th></th>\n",
              "      <th>courses</th>\n",
              "    </tr>\n",
              "  </thead>\n",
              "  <tbody>\n",
              "    <tr>\n",
              "      <th>Dataset aggregator/platform (i.e. Socrata/Kaggle Datasets/data.world/etc.)</th>\n",
              "      <td>6843</td>\n",
              "    </tr>\n",
              "    <tr>\n",
              "      <th>Google Search</th>\n",
              "      <td>3600</td>\n",
              "    </tr>\n",
              "    <tr>\n",
              "      <th>University/Non-profit research group websites</th>\n",
              "      <td>2873</td>\n",
              "    </tr>\n",
              "    <tr>\n",
              "      <th>I collect my own data (e.g. web-scraping)</th>\n",
              "      <td>2560</td>\n",
              "    </tr>\n",
              "    <tr>\n",
              "      <th>GitHub</th>\n",
              "      <td>2400</td>\n",
              "    </tr>\n",
              "    <tr>\n",
              "      <th>Government website</th>\n",
              "      <td>2079</td>\n",
              "    </tr>\n",
              "    <tr>\n",
              "      <th>Other</th>\n",
              "      <td>399</td>\n",
              "    </tr>\n",
              "  </tbody>\n",
              "</table>\n",
              "</div>"
            ],
            "text/plain": [
              "                                                    courses\n",
              "Dataset aggregator/platform (i.e. Socrata/Kaggl...     6843\n",
              "Google Search                                          3600\n",
              "University/Non-profit research group websites          2873\n",
              "I collect my own data (e.g. web-scraping)              2560\n",
              "GitHub                                                 2400\n",
              "Government website                                     2079\n",
              "Other                                                   399"
            ]
          },
          "metadata": {
            "tags": []
          },
          "execution_count": 76
        }
      ]
    },
    {
      "cell_type": "code",
      "metadata": {
        "id": "pk66YJmS5_Cq",
        "colab_type": "code",
        "colab": {
          "base_uri": "https://localhost:8080/",
          "height": 314
        },
        "outputId": "ff44bfba-b8a1-4542-9478-ea78112270f4"
      },
      "source": [
        "plt.title(\"Most Popular Dataset Platforms\")\n",
        "sns.barplot(y=q.index, x=q)"
      ],
      "execution_count": 77,
      "outputs": [
        {
          "output_type": "execute_result",
          "data": {
            "text/plain": [
              "<matplotlib.axes._subplots.AxesSubplot at 0x7f4d6c74d6d8>"
            ]
          },
          "metadata": {
            "tags": []
          },
          "execution_count": 77
        },
        {
          "output_type": "display_data",
          "data": {
            "image/png": "[encoded data removed]",
            "text/plain": [
              "<Figure size 432x288 with 1 Axes>"
            ]
          },
          "metadata": {
            "tags": [],
            "needs_background": "light"
          }
        }
      ]
    },
    {
      "cell_type": "code",
      "metadata": {
        "id": "_fdGaXKP6vzm",
        "colab_type": "code",
        "colab": {
          "base_uri": "https://localhost:8080/",
          "height": 36
        },
        "outputId": "7500f735-ac5e-4501-a25e-cafa4194b262"
      },
      "source": [
        "#주관식 응답\n",
        "ff=pd.read_csv('/content/drive/My Drive/Colab Notebooks/data/freeformResponses.csv', encoding=\"ISO-8859-1\", low_memory=False)\n",
        "ff.shape"
      ],
      "execution_count": 78,
      "outputs": [
        {
          "output_type": "execute_result",
          "data": {
            "text/plain": [
              "(16716, 62)"
            ]
          },
          "metadata": {
            "tags": []
          },
          "execution_count": 78
        }
      ]
    },
    {
      "cell_type": "code",
      "metadata": {
        "id": "mDrIqJRI7M-o",
        "colab_type": "code",
        "colab": {
          "base_uri": "https://localhost:8080/",
          "height": 55
        },
        "outputId": "0fad4522-6ce9-4a51-b275-42b1912e4483"
      },
      "source": [
        "qc=question.loc[question['Column'].str.contains('PersonalProjectsChallengeFreeForm')]\n",
        "print(qc.shape)\n",
        "qc.Question.values[0]"
      ],
      "execution_count": 79,
      "outputs": [
        {
          "output_type": "stream",
          "text": [
            "(1, 3)\n"
          ],
          "name": "stdout"
        },
        {
          "output_type": "execute_result",
          "data": {
            "application/vnd.google.colaboratory.intrinsic+json": {
              "type": "string"
            },
            "text/plain": [
              "'What is your biggest challenge with the public datasets you find for personal projects?'"
            ]
          },
          "metadata": {
            "tags": []
          },
          "execution_count": 79
        }
      ]
    },
    {
      "cell_type": "code",
      "metadata": {
        "id": "EOPZ_lw78Egy",
        "colab_type": "code",
        "colab": {
          "base_uri": "https://localhost:8080/",
          "height": 509
        },
        "outputId": "5edec8e7-7d0c-4ac6-b5c5-076db2dbf223"
      },
      "source": [
        "ppcff=ff['PersonalProjectsChallengeFreeForm'].value_counts().head(15)\n",
        "ppcff.name='응답 수'\n",
        "pd.DataFrame(ppcff)"
      ],
      "execution_count": 80,
      "outputs": [
        {
          "output_type": "execute_result",
          "data": {
            "text/html": [
              "<div>\n",
              "<style scoped>\n",
              "    .dataframe tbody tr th:only-of-type {\n",
              "        vertical-align: middle;\n",
              "    }\n",
              "\n",
              "    .dataframe tbody tr th {\n",
              "        vertical-align: top;\n",
              "    }\n",
              "\n",
              "    .dataframe thead th {\n",
              "        text-align: right;\n",
              "    }\n",
              "</style>\n",
              "<table border=\"1\" class=\"dataframe\">\n",
              "  <thead>\n",
              "    <tr style=\"text-align: right;\">\n",
              "      <th></th>\n",
              "      <th>응답 수</th>\n",
              "    </tr>\n",
              "  </thead>\n",
              "  <tbody>\n",
              "    <tr>\n",
              "      <th>None</th>\n",
              "      <td>23</td>\n",
              "    </tr>\n",
              "    <tr>\n",
              "      <th>Cleaning the data</th>\n",
              "      <td>20</td>\n",
              "    </tr>\n",
              "    <tr>\n",
              "      <th>Cleaning</th>\n",
              "      <td>20</td>\n",
              "    </tr>\n",
              "    <tr>\n",
              "      <th>Dirty data</th>\n",
              "      <td>16</td>\n",
              "    </tr>\n",
              "    <tr>\n",
              "      <th>Data Cleaning</th>\n",
              "      <td>14</td>\n",
              "    </tr>\n",
              "    <tr>\n",
              "      <th>none</th>\n",
              "      <td>13</td>\n",
              "    </tr>\n",
              "    <tr>\n",
              "      <th>dirty data</th>\n",
              "      <td>10</td>\n",
              "    </tr>\n",
              "    <tr>\n",
              "      <th>Data cleaning</th>\n",
              "      <td>10</td>\n",
              "    </tr>\n",
              "    <tr>\n",
              "      <th>Size</th>\n",
              "      <td>9</td>\n",
              "    </tr>\n",
              "    <tr>\n",
              "      <th>-</th>\n",
              "      <td>9</td>\n",
              "    </tr>\n",
              "    <tr>\n",
              "      <th>cleaning</th>\n",
              "      <td>8</td>\n",
              "    </tr>\n",
              "    <tr>\n",
              "      <th>Missing data</th>\n",
              "      <td>8</td>\n",
              "    </tr>\n",
              "    <tr>\n",
              "      <th>Incomplete data</th>\n",
              "      <td>8</td>\n",
              "    </tr>\n",
              "    <tr>\n",
              "      <th>Lack of documentation</th>\n",
              "      <td>7</td>\n",
              "    </tr>\n",
              "    <tr>\n",
              "      <th>Dirty</th>\n",
              "      <td>6</td>\n",
              "    </tr>\n",
              "  </tbody>\n",
              "</table>\n",
              "</div>"
            ],
            "text/plain": [
              "                       응답 수\n",
              "None                     23\n",
              "Cleaning the data        20\n",
              "Cleaning                 20\n",
              "Dirty data               16\n",
              "Data Cleaning            14\n",
              "none                     13\n",
              "dirty data               10\n",
              "Data cleaning            10\n",
              "Size                      9\n",
              "-                         9\n",
              "cleaning                  8\n",
              "Missing data              8\n",
              "Incomplete data           8\n",
              "Lack of documentation     7\n",
              "Dirty                     6"
            ]
          },
          "metadata": {
            "tags": []
          },
          "execution_count": 80
        }
      ]
    },
    {
      "cell_type": "code",
      "metadata": {
        "id": "xlcmA8tA8eN2",
        "colab_type": "code",
        "colab": {}
      },
      "source": [
        "#ds업무에서 가장 많은 시간을 필요로하는 일\n",
        "time_features=[x for x in mcq.columns if x.find('Time')!=-1][4:10]"
      ],
      "execution_count": 81,
      "outputs": []
    },
    {
      "cell_type": "code",
      "metadata": {
        "id": "PVvtVzWF83A3",
        "colab_type": "code",
        "colab": {
          "base_uri": "https://localhost:8080/",
          "height": 413
        },
        "outputId": "82639518-3763-48ab-f1bc-f19efad044a6"
      },
      "source": [
        "tdf={}\n",
        "for feature in time_features:\n",
        "  tdf[feature[len('Time'):]]=mcq[feature].mean()\n",
        "\n",
        "tdf=pd.Series(tdf)\n",
        "print(tdf)\n",
        "print()\n",
        "\n",
        "plt.pie(tdf, labels=tdf.index, autopct='%1.1f%%', shadow=True, startangle=140)\n",
        "plt.axis('equal')\n",
        "plt.title(\"Percentage of Time Spent on Each DS Job\")\n",
        "plt.show()"
      ],
      "execution_count": 82,
      "outputs": [
        {
          "output_type": "stream",
          "text": [
            "GatheringData      36.144754\n",
            "ModelBuilding      21.268066\n",
            "Production         10.806372\n",
            "Visualizing        13.869372\n",
            "FindingInsights    13.094776\n",
            "OtherSelect         2.396247\n",
            "dtype: float64\n",
            "\n"
          ],
          "name": "stdout"
        },
        {
          "output_type": "display_data",
          "data": {
            "image/png": "[encoded data removed]",
            "text/plain": [
              "<Figure size 432x288 with 1 Axes>"
            ]
          },
          "metadata": {
            "tags": []
          }
        }
      ]
    },
    {
      "cell_type": "code",
      "metadata": {
        "id": "r0vwWx4h9W5g",
        "colab_type": "code",
        "colab": {}
      },
      "source": [
        ""
      ],
      "execution_count": 82,
      "outputs": []
    }
  ]
}